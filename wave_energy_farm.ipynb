{
 "cells": [
  {
   "cell_type": "markdown",
   "id": "89a7fffe-64db-4475-b3c8-b75dd409c2af",
   "metadata": {},
   "source": [
    "# General information \n",
    "\n",
    "Wave energy is a rapidly advancing and promising renewable energy source that holds great potential for addressing the challenges of global warming and climate change. However, optimizing energy output in large wave farms presents a complex problem due to the expensive calculations required to account for hydrodynamic interactions between wave energy converters (WECs). Developing a fast and accurate surrogate model is crucial to overcome these challenges. In light of this, we have compiled an extensive WEC dataset that includes 54,000 and 9,600 configurations involving 49 and 100 WECs, coordination, power, q-factor, and total farm power output. The dataset was derived from a study published at the GECCO conference and received the prestigious Best Paper award. We want to acknowledge the support of the University of Adelaide Phoenix HPC service in conducting this research. For more details, please refer to the following link: https://dl.acm.org/doi/abs/10.1145/3377930.3390235.\n",
    "\n",
    "## Features\n",
    "The dataset includes 4 CSV files for 49 and 100 wave energy converters based on Perth and Sydney wave scenarios. The main goal is predicting the total power output of the wave farm based on the coordination of WECs (X1, Y1, X2, Y2,..., Xn, Yn). As the second plan, predicting the power output of each converter in the wave farm can be interesting. \n",
    "\n",
    "* X and Y - coordinates\n",
    "* Power - individual power\n",
    "* total power - total power of all the WECs\n",
    "* qW - q-factor \n",
    "\n",
    "## Findings\n",
    "There are many duplicates in the dataset (4540).\n",
    "\n",
    "## Goal\n",
    "* Predicting the total power output of the wave farm based on the coordination of WECs\n",
    "* Predicting the power ouput of each converter in the wave farm\n",
    "\n",
    "## Candidates for inaccuracy\n",
    "* To small dataset -> need more data\n",
    "* Not the right regression model -> Test many different regression models and measure their accuracy\n",
    "\n",
    "## Potential Problems\n",
    "* Cannot inference based on geodata from only 4 locations, especially with a relatively small dataset. \n",
    "* In what timeframe was the data collected? Becuase you cannot predict the total power over the year if it is also dependent of the seasons\n",
    "* Why are there so many duplicates? \n",
    "\n",
    "## Instances\n",
    "Each instance represents the coordination of wave energy converters in a wave farm plus the total power output and individual power of each converter and q-factor. \n",
    "\n",
    "## Source\n",
    "https://archive.ics.uci.edu/dataset/882/large-scale+wave+energy+farm\n",
    "Neshat, Mehdi, Bradley Alexander, Nataliia Y. Sergiienko, and Markus Wagner. \"Optimisation of large wave farms using a multi-strategy evolutionary framework.\" In Proceedings of the 2020 Genetic and Evolutionary Computation Conference, pp. 1150-1158. 2020.\n",
    "Link to research: https://dl.acm.org/doi/abs/10.1145/3377930.3390235."
   ]
  },
  {
   "cell_type": "code",
   "execution_count": 8,
   "id": "7f4c55d0-0eb8-419a-8ec1-b84a375d2fd5",
   "metadata": {},
   "outputs": [],
   "source": [
    "import numpy as np\n",
    "import pandas as pd\n",
    "import matplotlib.pyplot as plt\n",
    "from sklearn.model_selection import train_test_split,cross_val_score\n",
    "from sklearn.linear_model import LinearRegression\n",
    "from sklearn.preprocessing import PolynomialFeatures\n",
    "from sklearn.tree import DecisionTreeRegressor\n",
    "from sklearn.ensemble import RandomForestRegressor\n",
    "from sklearn.metrics import mean_squared_error\n"
   ]
  },
  {
   "cell_type": "code",
   "execution_count": 15,
   "id": "7eca48d8-d376-4ce2-ba28-eba4b863a631",
   "metadata": {},
   "outputs": [],
   "source": [
    "perth100_data = pd.read_csv(\"./wave_energy_farm/datasets/WEC_Perth_100.csv\")\n",
    "perth49_data = pd.read_csv(\"./wave_energy_farm/datasets/WEC_Perth_49.csv\")\n",
    "sydney100_data = pd.read_csv(\"./wave_energy_farm/datasets/WEC_Sydney_100.csv\")\n",
    "sydney49_data = pd.read_csv(\"./wave_energy_farm/datasets/WEC_Sydney_49.csv\")"
   ]
  },
  {
   "cell_type": "code",
   "execution_count": 16,
   "id": "cda8a9d6-d9b0-4ca1-afd3-28eb9250c33d",
   "metadata": {},
   "outputs": [],
   "source": [
    "dataset = perth100_data.copy(deep=True)"
   ]
  },
  {
   "cell_type": "markdown",
   "id": "bdca668a-276c-45f9-b329-15e2d790700c",
   "metadata": {},
   "source": [
    "## Preprocessing"
   ]
  },
  {
   "cell_type": "code",
   "execution_count": 4,
   "id": "4f2bb412-98cb-4d99-85ca-678f4e3322a9",
   "metadata": {},
   "outputs": [
    {
     "data": {
      "text/plain": [
       "(7277, 302)"
      ]
     },
     "execution_count": 4,
     "metadata": {},
     "output_type": "execute_result"
    }
   ],
   "source": [
    "dataset.shape"
   ]
  },
  {
   "cell_type": "code",
   "execution_count": 5,
   "id": "a6b10b95-0eb7-4b60-b48a-1255fc420433",
   "metadata": {},
   "outputs": [
    {
     "data": {
      "text/html": [
       "<div>\n",
       "<style scoped>\n",
       "    .dataframe tbody tr th:only-of-type {\n",
       "        vertical-align: middle;\n",
       "    }\n",
       "\n",
       "    .dataframe tbody tr th {\n",
       "        vertical-align: top;\n",
       "    }\n",
       "\n",
       "    .dataframe thead th {\n",
       "        text-align: right;\n",
       "    }\n",
       "</style>\n",
       "<table border=\"1\" class=\"dataframe\">\n",
       "  <thead>\n",
       "    <tr style=\"text-align: right;\">\n",
       "      <th></th>\n",
       "      <th>X1</th>\n",
       "      <th>Y1</th>\n",
       "      <th>X2</th>\n",
       "      <th>Y2</th>\n",
       "      <th>X3</th>\n",
       "      <th>Y3</th>\n",
       "      <th>X4</th>\n",
       "      <th>Y4</th>\n",
       "      <th>X5</th>\n",
       "      <th>Y5</th>\n",
       "      <th>...</th>\n",
       "      <th>Power93</th>\n",
       "      <th>Power94</th>\n",
       "      <th>Power95</th>\n",
       "      <th>Power96</th>\n",
       "      <th>Power97</th>\n",
       "      <th>Power98</th>\n",
       "      <th>Power99</th>\n",
       "      <th>Power100</th>\n",
       "      <th>qW</th>\n",
       "      <th>Total_Power</th>\n",
       "    </tr>\n",
       "  </thead>\n",
       "  <tbody>\n",
       "    <tr>\n",
       "      <th>0</th>\n",
       "      <td>1000.0</td>\n",
       "      <td>0.0</td>\n",
       "      <td>946.08</td>\n",
       "      <td>37.42</td>\n",
       "      <td>889.67</td>\n",
       "      <td>74.76</td>\n",
       "      <td>832.02</td>\n",
       "      <td>112.10</td>\n",
       "      <td>1250.0</td>\n",
       "      <td>1.0</td>\n",
       "      <td>...</td>\n",
       "      <td>98711.68</td>\n",
       "      <td>102872.82</td>\n",
       "      <td>100743.44</td>\n",
       "      <td>99259.87</td>\n",
       "      <td>98909.46</td>\n",
       "      <td>101388.37</td>\n",
       "      <td>101025.35</td>\n",
       "      <td>98676.66</td>\n",
       "      <td>0.75</td>\n",
       "      <td>7257985.04</td>\n",
       "    </tr>\n",
       "    <tr>\n",
       "      <th>1</th>\n",
       "      <td>800.0</td>\n",
       "      <td>0.0</td>\n",
       "      <td>746.04</td>\n",
       "      <td>37.38</td>\n",
       "      <td>689.81</td>\n",
       "      <td>74.79</td>\n",
       "      <td>632.43</td>\n",
       "      <td>111.97</td>\n",
       "      <td>1200.0</td>\n",
       "      <td>0.0</td>\n",
       "      <td>...</td>\n",
       "      <td>96351.38</td>\n",
       "      <td>102253.02</td>\n",
       "      <td>101744.20</td>\n",
       "      <td>99482.45</td>\n",
       "      <td>99304.59</td>\n",
       "      <td>101953.23</td>\n",
       "      <td>100878.42</td>\n",
       "      <td>99508.49</td>\n",
       "      <td>0.74</td>\n",
       "      <td>7103374.61</td>\n",
       "    </tr>\n",
       "    <tr>\n",
       "      <th>2</th>\n",
       "      <td>600.0</td>\n",
       "      <td>0.0</td>\n",
       "      <td>545.98</td>\n",
       "      <td>37.50</td>\n",
       "      <td>489.87</td>\n",
       "      <td>74.95</td>\n",
       "      <td>432.52</td>\n",
       "      <td>112.15</td>\n",
       "      <td>650.0</td>\n",
       "      <td>0.0</td>\n",
       "      <td>...</td>\n",
       "      <td>96985.29</td>\n",
       "      <td>102472.80</td>\n",
       "      <td>101757.63</td>\n",
       "      <td>99429.45</td>\n",
       "      <td>98709.14</td>\n",
       "      <td>101312.44</td>\n",
       "      <td>100979.86</td>\n",
       "      <td>99024.16</td>\n",
       "      <td>0.76</td>\n",
       "      <td>7335380.64</td>\n",
       "    </tr>\n",
       "    <tr>\n",
       "      <th>3</th>\n",
       "      <td>600.0</td>\n",
       "      <td>0.0</td>\n",
       "      <td>546.09</td>\n",
       "      <td>37.41</td>\n",
       "      <td>489.70</td>\n",
       "      <td>74.76</td>\n",
       "      <td>432.35</td>\n",
       "      <td>111.90</td>\n",
       "      <td>800.0</td>\n",
       "      <td>0.0</td>\n",
       "      <td>...</td>\n",
       "      <td>76823.85</td>\n",
       "      <td>88005.41</td>\n",
       "      <td>98779.92</td>\n",
       "      <td>100260.30</td>\n",
       "      <td>98744.25</td>\n",
       "      <td>101144.58</td>\n",
       "      <td>100835.43</td>\n",
       "      <td>98915.38</td>\n",
       "      <td>0.75</td>\n",
       "      <td>7187769.87</td>\n",
       "    </tr>\n",
       "    <tr>\n",
       "      <th>4</th>\n",
       "      <td>600.0</td>\n",
       "      <td>0.0</td>\n",
       "      <td>545.95</td>\n",
       "      <td>37.52</td>\n",
       "      <td>489.69</td>\n",
       "      <td>74.99</td>\n",
       "      <td>432.46</td>\n",
       "      <td>112.16</td>\n",
       "      <td>800.0</td>\n",
       "      <td>0.0</td>\n",
       "      <td>...</td>\n",
       "      <td>98195.95</td>\n",
       "      <td>102874.16</td>\n",
       "      <td>100256.15</td>\n",
       "      <td>99221.12</td>\n",
       "      <td>98969.54</td>\n",
       "      <td>101389.77</td>\n",
       "      <td>100924.02</td>\n",
       "      <td>98796.00</td>\n",
       "      <td>0.75</td>\n",
       "      <td>7260222.61</td>\n",
       "    </tr>\n",
       "  </tbody>\n",
       "</table>\n",
       "<p>5 rows × 302 columns</p>\n",
       "</div>"
      ],
      "text/plain": [
       "       X1   Y1      X2     Y2      X3     Y3      X4      Y4      X5   Y5   \n",
       "0  1000.0  0.0  946.08  37.42  889.67  74.76  832.02  112.10  1250.0  1.0  \\\n",
       "1   800.0  0.0  746.04  37.38  689.81  74.79  632.43  111.97  1200.0  0.0   \n",
       "2   600.0  0.0  545.98  37.50  489.87  74.95  432.52  112.15   650.0  0.0   \n",
       "3   600.0  0.0  546.09  37.41  489.70  74.76  432.35  111.90   800.0  0.0   \n",
       "4   600.0  0.0  545.95  37.52  489.69  74.99  432.46  112.16   800.0  0.0   \n",
       "\n",
       "   ...   Power93    Power94    Power95    Power96   Power97    Power98   \n",
       "0  ...  98711.68  102872.82  100743.44   99259.87  98909.46  101388.37  \\\n",
       "1  ...  96351.38  102253.02  101744.20   99482.45  99304.59  101953.23   \n",
       "2  ...  96985.29  102472.80  101757.63   99429.45  98709.14  101312.44   \n",
       "3  ...  76823.85   88005.41   98779.92  100260.30  98744.25  101144.58   \n",
       "4  ...  98195.95  102874.16  100256.15   99221.12  98969.54  101389.77   \n",
       "\n",
       "     Power99  Power100    qW  Total_Power  \n",
       "0  101025.35  98676.66  0.75   7257985.04  \n",
       "1  100878.42  99508.49  0.74   7103374.61  \n",
       "2  100979.86  99024.16  0.76   7335380.64  \n",
       "3  100835.43  98915.38  0.75   7187769.87  \n",
       "4  100924.02  98796.00  0.75   7260222.61  \n",
       "\n",
       "[5 rows x 302 columns]"
      ]
     },
     "execution_count": 5,
     "metadata": {},
     "output_type": "execute_result"
    }
   ],
   "source": [
    "dataset.head()"
   ]
  },
  {
   "cell_type": "markdown",
   "id": "16a88bd3-fe0a-48a9-b060-ccc3bd14126c",
   "metadata": {},
   "source": [
    "### Remove Duplicates"
   ]
  },
  {
   "cell_type": "code",
   "execution_count": 6,
   "id": "c6826635-d9e8-4a2a-aaf0-7a7ed4ed384a",
   "metadata": {},
   "outputs": [],
   "source": [
    "dataset = dataset.drop_duplicates()"
   ]
  },
  {
   "cell_type": "code",
   "execution_count": 7,
   "id": "fda1d395-c5de-4a1d-98a0-8f5695cab1e3",
   "metadata": {},
   "outputs": [
    {
     "data": {
      "text/plain": [
       "(2737, 302)"
      ]
     },
     "execution_count": 7,
     "metadata": {},
     "output_type": "execute_result"
    }
   ],
   "source": [
    "dataset.shape"
   ]
  },
  {
   "cell_type": "markdown",
   "id": "c9f54f69-0af6-40d1-805a-3d1ca1dab90a",
   "metadata": {},
   "source": [
    "### Check for null values"
   ]
  },
  {
   "cell_type": "code",
   "execution_count": 9,
   "id": "fff37c03-f4da-42a5-88ee-c20bda0ac92e",
   "metadata": {},
   "outputs": [
    {
     "data": {
      "text/plain": [
       "0"
      ]
     },
     "execution_count": 9,
     "metadata": {},
     "output_type": "execute_result"
    }
   ],
   "source": [
    "#Check how many null values are in the entire dataset\n",
    "dataset.isnull().sum().sum()"
   ]
  },
  {
   "cell_type": "markdown",
   "id": "8fa58e91-adfc-4d1b-bdff-7292c1e1fadc",
   "metadata": {},
   "source": [
    "## Analysis"
   ]
  },
  {
   "cell_type": "code",
   "execution_count": 12,
   "id": "7008cd62-6183-4251-8011-8e4f5f08c7cb",
   "metadata": {},
   "outputs": [],
   "source": [
    "columns = list(perth100_data)\n"
   ]
  },
  {
   "cell_type": "markdown",
   "id": "a3fcbaf4-cc2a-4d46-abb3-95a46ac0587c",
   "metadata": {},
   "source": [
    "### Check for outliers"
   ]
  },
  {
   "cell_type": "code",
   "execution_count": 13,
   "id": "745f46ca-c4e2-45d4-9395-2f6910fd4dc6",
   "metadata": {},
   "outputs": [
    {
     "data": {
      "text/html": [
       "<div>\n",
       "<style scoped>\n",
       "    .dataframe tbody tr th:only-of-type {\n",
       "        vertical-align: middle;\n",
       "    }\n",
       "\n",
       "    .dataframe tbody tr th {\n",
       "        vertical-align: top;\n",
       "    }\n",
       "\n",
       "    .dataframe thead th {\n",
       "        text-align: right;\n",
       "    }\n",
       "</style>\n",
       "<table border=\"1\" class=\"dataframe\">\n",
       "  <thead>\n",
       "    <tr style=\"text-align: right;\">\n",
       "      <th></th>\n",
       "      <th>X1</th>\n",
       "      <th>Y1</th>\n",
       "      <th>X2</th>\n",
       "      <th>Y2</th>\n",
       "      <th>X3</th>\n",
       "      <th>Y3</th>\n",
       "      <th>X4</th>\n",
       "      <th>Y4</th>\n",
       "      <th>X5</th>\n",
       "      <th>Y5</th>\n",
       "      <th>...</th>\n",
       "      <th>Power93</th>\n",
       "      <th>Power94</th>\n",
       "      <th>Power95</th>\n",
       "      <th>Power96</th>\n",
       "      <th>Power97</th>\n",
       "      <th>Power98</th>\n",
       "      <th>Power99</th>\n",
       "      <th>Power100</th>\n",
       "      <th>qW</th>\n",
       "      <th>Total_Power</th>\n",
       "    </tr>\n",
       "  </thead>\n",
       "  <tbody>\n",
       "    <tr>\n",
       "      <th>count</th>\n",
       "      <td>2737.000000</td>\n",
       "      <td>2737.000000</td>\n",
       "      <td>2737.000000</td>\n",
       "      <td>2737.000000</td>\n",
       "      <td>2737.000000</td>\n",
       "      <td>2737.000000</td>\n",
       "      <td>2737.000000</td>\n",
       "      <td>2737.000000</td>\n",
       "      <td>2737.00000</td>\n",
       "      <td>2737.000000</td>\n",
       "      <td>...</td>\n",
       "      <td>2737.000000</td>\n",
       "      <td>2737.000000</td>\n",
       "      <td>2737.000000</td>\n",
       "      <td>2737.000000</td>\n",
       "      <td>2737.000000</td>\n",
       "      <td>2737.000000</td>\n",
       "      <td>2737.000000</td>\n",
       "      <td>2737.000000</td>\n",
       "      <td>2737.000000</td>\n",
       "      <td>2.737000e+03</td>\n",
       "    </tr>\n",
       "    <tr>\n",
       "      <th>mean</th>\n",
       "      <td>352.430815</td>\n",
       "      <td>28.443796</td>\n",
       "      <td>376.587603</td>\n",
       "      <td>48.513548</td>\n",
       "      <td>390.824538</td>\n",
       "      <td>67.395784</td>\n",
       "      <td>382.368316</td>\n",
       "      <td>100.883800</td>\n",
       "      <td>748.81297</td>\n",
       "      <td>31.299488</td>\n",
       "      <td>...</td>\n",
       "      <td>88784.392488</td>\n",
       "      <td>94574.215331</td>\n",
       "      <td>97805.710833</td>\n",
       "      <td>97620.391436</td>\n",
       "      <td>97511.043405</td>\n",
       "      <td>98655.269839</td>\n",
       "      <td>98920.618290</td>\n",
       "      <td>97713.614468</td>\n",
       "      <td>0.721995</td>\n",
       "      <td>6.959157e+06</td>\n",
       "    </tr>\n",
       "    <tr>\n",
       "      <th>std</th>\n",
       "      <td>293.777257</td>\n",
       "      <td>97.276123</td>\n",
       "      <td>271.069835</td>\n",
       "      <td>59.577117</td>\n",
       "      <td>282.745074</td>\n",
       "      <td>45.932165</td>\n",
       "      <td>299.046854</td>\n",
       "      <td>57.995795</td>\n",
       "      <td>285.37046</td>\n",
       "      <td>73.050856</td>\n",
       "      <td>...</td>\n",
       "      <td>10396.969817</td>\n",
       "      <td>7717.499315</td>\n",
       "      <td>6250.371796</td>\n",
       "      <td>5975.969268</td>\n",
       "      <td>5045.909333</td>\n",
       "      <td>6408.359410</td>\n",
       "      <td>4689.778147</td>\n",
       "      <td>3966.695051</td>\n",
       "      <td>0.020921</td>\n",
       "      <td>1.998767e+05</td>\n",
       "    </tr>\n",
       "    <tr>\n",
       "      <th>min</th>\n",
       "      <td>0.000000</td>\n",
       "      <td>0.000000</td>\n",
       "      <td>0.000000</td>\n",
       "      <td>0.000000</td>\n",
       "      <td>0.000000</td>\n",
       "      <td>0.000000</td>\n",
       "      <td>0.000000</td>\n",
       "      <td>0.000000</td>\n",
       "      <td>0.00000</td>\n",
       "      <td>0.000000</td>\n",
       "      <td>...</td>\n",
       "      <td>34236.100000</td>\n",
       "      <td>32447.850000</td>\n",
       "      <td>30658.290000</td>\n",
       "      <td>35208.350000</td>\n",
       "      <td>29411.690000</td>\n",
       "      <td>36525.750000</td>\n",
       "      <td>42148.330000</td>\n",
       "      <td>33879.920000</td>\n",
       "      <td>0.630000</td>\n",
       "      <td>6.099480e+06</td>\n",
       "    </tr>\n",
       "    <tr>\n",
       "      <th>25%</th>\n",
       "      <td>129.200000</td>\n",
       "      <td>0.000000</td>\n",
       "      <td>146.150000</td>\n",
       "      <td>37.390000</td>\n",
       "      <td>89.980000</td>\n",
       "      <td>65.990000</td>\n",
       "      <td>32.640000</td>\n",
       "      <td>98.430000</td>\n",
       "      <td>600.00000</td>\n",
       "      <td>0.000000</td>\n",
       "      <td>...</td>\n",
       "      <td>76698.160000</td>\n",
       "      <td>87986.780000</td>\n",
       "      <td>98477.180000</td>\n",
       "      <td>98429.200000</td>\n",
       "      <td>98614.520000</td>\n",
       "      <td>98350.170000</td>\n",
       "      <td>98118.470000</td>\n",
       "      <td>96904.240000</td>\n",
       "      <td>0.710000</td>\n",
       "      <td>6.806309e+06</td>\n",
       "    </tr>\n",
       "    <tr>\n",
       "      <th>50%</th>\n",
       "      <td>200.000000</td>\n",
       "      <td>0.000000</td>\n",
       "      <td>316.740000</td>\n",
       "      <td>37.490000</td>\n",
       "      <td>324.570000</td>\n",
       "      <td>74.880000</td>\n",
       "      <td>432.240000</td>\n",
       "      <td>112.070000</td>\n",
       "      <td>661.08000</td>\n",
       "      <td>0.000000</td>\n",
       "      <td>...</td>\n",
       "      <td>95014.870000</td>\n",
       "      <td>97237.470000</td>\n",
       "      <td>98785.020000</td>\n",
       "      <td>99601.280000</td>\n",
       "      <td>98840.130000</td>\n",
       "      <td>101312.440000</td>\n",
       "      <td>100905.720000</td>\n",
       "      <td>98796.000000</td>\n",
       "      <td>0.720000</td>\n",
       "      <td>6.941249e+06</td>\n",
       "    </tr>\n",
       "    <tr>\n",
       "      <th>75%</th>\n",
       "      <td>600.000000</td>\n",
       "      <td>0.000000</td>\n",
       "      <td>546.040000</td>\n",
       "      <td>37.550000</td>\n",
       "      <td>489.820000</td>\n",
       "      <td>75.010000</td>\n",
       "      <td>514.460000</td>\n",
       "      <td>112.240000</td>\n",
       "      <td>1000.00000</td>\n",
       "      <td>40.990000</td>\n",
       "      <td>...</td>\n",
       "      <td>98339.870000</td>\n",
       "      <td>102029.820000</td>\n",
       "      <td>101089.720000</td>\n",
       "      <td>100267.940000</td>\n",
       "      <td>99017.440000</td>\n",
       "      <td>101438.470000</td>\n",
       "      <td>101027.360000</td>\n",
       "      <td>98959.650000</td>\n",
       "      <td>0.740000</td>\n",
       "      <td>7.129514e+06</td>\n",
       "    </tr>\n",
       "    <tr>\n",
       "      <th>max</th>\n",
       "      <td>1400.000000</td>\n",
       "      <td>1353.550000</td>\n",
       "      <td>1400.000000</td>\n",
       "      <td>1277.640000</td>\n",
       "      <td>1414.000000</td>\n",
       "      <td>698.010000</td>\n",
       "      <td>1400.000000</td>\n",
       "      <td>1035.090000</td>\n",
       "      <td>1413.39000</td>\n",
       "      <td>910.420000</td>\n",
       "      <td>...</td>\n",
       "      <td>103541.860000</td>\n",
       "      <td>104047.690000</td>\n",
       "      <td>104403.690000</td>\n",
       "      <td>104206.780000</td>\n",
       "      <td>103678.570000</td>\n",
       "      <td>102543.340000</td>\n",
       "      <td>102219.050000</td>\n",
       "      <td>101692.770000</td>\n",
       "      <td>0.760000</td>\n",
       "      <td>7.364528e+06</td>\n",
       "    </tr>\n",
       "  </tbody>\n",
       "</table>\n",
       "<p>8 rows × 302 columns</p>\n",
       "</div>"
      ],
      "text/plain": [
       "                X1           Y1           X2           Y2           X3   \n",
       "count  2737.000000  2737.000000  2737.000000  2737.000000  2737.000000  \\\n",
       "mean    352.430815    28.443796   376.587603    48.513548   390.824538   \n",
       "std     293.777257    97.276123   271.069835    59.577117   282.745074   \n",
       "min       0.000000     0.000000     0.000000     0.000000     0.000000   \n",
       "25%     129.200000     0.000000   146.150000    37.390000    89.980000   \n",
       "50%     200.000000     0.000000   316.740000    37.490000   324.570000   \n",
       "75%     600.000000     0.000000   546.040000    37.550000   489.820000   \n",
       "max    1400.000000  1353.550000  1400.000000  1277.640000  1414.000000   \n",
       "\n",
       "                Y3           X4           Y4          X5           Y5  ...   \n",
       "count  2737.000000  2737.000000  2737.000000  2737.00000  2737.000000  ...  \\\n",
       "mean     67.395784   382.368316   100.883800   748.81297    31.299488  ...   \n",
       "std      45.932165   299.046854    57.995795   285.37046    73.050856  ...   \n",
       "min       0.000000     0.000000     0.000000     0.00000     0.000000  ...   \n",
       "25%      65.990000    32.640000    98.430000   600.00000     0.000000  ...   \n",
       "50%      74.880000   432.240000   112.070000   661.08000     0.000000  ...   \n",
       "75%      75.010000   514.460000   112.240000  1000.00000    40.990000  ...   \n",
       "max     698.010000  1400.000000  1035.090000  1413.39000   910.420000  ...   \n",
       "\n",
       "             Power93        Power94        Power95        Power96   \n",
       "count    2737.000000    2737.000000    2737.000000    2737.000000  \\\n",
       "mean    88784.392488   94574.215331   97805.710833   97620.391436   \n",
       "std     10396.969817    7717.499315    6250.371796    5975.969268   \n",
       "min     34236.100000   32447.850000   30658.290000   35208.350000   \n",
       "25%     76698.160000   87986.780000   98477.180000   98429.200000   \n",
       "50%     95014.870000   97237.470000   98785.020000   99601.280000   \n",
       "75%     98339.870000  102029.820000  101089.720000  100267.940000   \n",
       "max    103541.860000  104047.690000  104403.690000  104206.780000   \n",
       "\n",
       "             Power97        Power98        Power99       Power100   \n",
       "count    2737.000000    2737.000000    2737.000000    2737.000000  \\\n",
       "mean    97511.043405   98655.269839   98920.618290   97713.614468   \n",
       "std      5045.909333    6408.359410    4689.778147    3966.695051   \n",
       "min     29411.690000   36525.750000   42148.330000   33879.920000   \n",
       "25%     98614.520000   98350.170000   98118.470000   96904.240000   \n",
       "50%     98840.130000  101312.440000  100905.720000   98796.000000   \n",
       "75%     99017.440000  101438.470000  101027.360000   98959.650000   \n",
       "max    103678.570000  102543.340000  102219.050000  101692.770000   \n",
       "\n",
       "                qW   Total_Power  \n",
       "count  2737.000000  2.737000e+03  \n",
       "mean      0.721995  6.959157e+06  \n",
       "std       0.020921  1.998767e+05  \n",
       "min       0.630000  6.099480e+06  \n",
       "25%       0.710000  6.806309e+06  \n",
       "50%       0.720000  6.941249e+06  \n",
       "75%       0.740000  7.129514e+06  \n",
       "max       0.760000  7.364528e+06  \n",
       "\n",
       "[8 rows x 302 columns]"
      ]
     },
     "execution_count": 13,
     "metadata": {},
     "output_type": "execute_result"
    }
   ],
   "source": [
    "dataset.describe()"
   ]
  },
  {
   "cell_type": "code",
   "execution_count": 14,
   "id": "3c539393-d1cd-4b5d-9823-5dcffebbfaa1",
   "metadata": {},
   "outputs": [
    {
     "data": {
      "text/plain": [
       "count    2.737000e+03\n",
       "mean     6.959157e+06\n",
       "std      1.998767e+05\n",
       "min      6.099480e+06\n",
       "25%      6.806309e+06\n",
       "50%      6.941249e+06\n",
       "75%      7.129514e+06\n",
       "max      7.364528e+06\n",
       "Name: Total_Power, dtype: float64"
      ]
     },
     "execution_count": 14,
     "metadata": {},
     "output_type": "execute_result"
    }
   ],
   "source": [
    "dataset[\"Total_Power\"].describe()"
   ]
  },
  {
   "cell_type": "code",
   "execution_count": 15,
   "id": "7f994a81-50b4-468f-8a2e-3439aacc366a",
   "metadata": {},
   "outputs": [
    {
     "data": {
      "image/png": "[encoded data removed]",
      "text/plain": [
       "<Figure size 640x480 with 1 Axes>"
      ]
     },
     "metadata": {},
     "output_type": "display_data"
    }
   ],
   "source": [
    "graph = plt.hist(x = dataset[\"Total_Power\"], bins=500)"
   ]
  },
  {
   "cell_type": "markdown",
   "id": "d42c7628-e5ee-47c6-b27e-9ef8b90c80d2",
   "metadata": {},
   "source": [
    "# Train models to predict Total_Power output of wave energy farms based on coordinates"
   ]
  },
  {
   "cell_type": "markdown",
   "id": "38460c83-c95e-4b7b-96ad-1a4c460c5fbc",
   "metadata": {},
   "source": [
    "## Drop the power columns for individual WECs and qW"
   ]
  },
  {
   "cell_type": "code",
   "execution_count": 16,
   "id": "da4123dc-ba42-4df2-8977-c4f435f661c8",
   "metadata": {},
   "outputs": [],
   "source": [
    "dataset_copy = dataset.copy(deep=True)"
   ]
  },
  {
   "cell_type": "code",
   "execution_count": 17,
   "id": "5a415ef5-bad6-4d77-9219-67c81b181a0d",
   "metadata": {},
   "outputs": [],
   "source": [
    "for num in range(1, 101):\n",
    "    dataset_copy.drop(f\"Power{num}\", axis=1, inplace=True)"
   ]
  },
  {
   "cell_type": "code",
   "execution_count": 18,
   "id": "628c21ec-6171-4b45-8b84-e2961c068a25",
   "metadata": {},
   "outputs": [],
   "source": [
    "dataset_copy.drop(\"qW\", inplace=True, axis=1)"
   ]
  },
  {
   "cell_type": "code",
   "execution_count": 19,
   "id": "1b2c6065-1e78-43d6-b267-b95a66352e4a",
   "metadata": {},
   "outputs": [
    {
     "data": {
      "text/plain": [
       "(2737, 201)"
      ]
     },
     "execution_count": 19,
     "metadata": {},
     "output_type": "execute_result"
    }
   ],
   "source": [
    "dataset_copy.shape"
   ]
  },
  {
   "cell_type": "code",
   "execution_count": 20,
   "id": "d7685d2e-9f5e-416b-a7a2-7d2e650eaa4c",
   "metadata": {},
   "outputs": [
    {
     "data": {
      "text/plain": [
       "(2737, 302)"
      ]
     },
     "execution_count": 20,
     "metadata": {},
     "output_type": "execute_result"
    }
   ],
   "source": [
    "dataset.shape"
   ]
  },
  {
   "cell_type": "code",
   "execution_count": 150,
   "id": "fae9d3a3-dbf5-4692-ad9d-2f7ff8f8b680",
   "metadata": {},
   "outputs": [],
   "source": [
    "y = dataset_copy[\"Total_Power\"]\n",
    "X = dataset_copy.drop(\"Total_Power\", axis=1)"
   ]
  },
  {
   "cell_type": "code",
   "execution_count": 151,
   "id": "f0511b60-3963-4761-923d-0c6796acca51",
   "metadata": {},
   "outputs": [
    {
     "data": {
      "text/html": [
       "<div>\n",
       "<style scoped>\n",
       "    .dataframe tbody tr th:only-of-type {\n",
       "        vertical-align: middle;\n",
       "    }\n",
       "\n",
       "    .dataframe tbody tr th {\n",
       "        vertical-align: top;\n",
       "    }\n",
       "\n",
       "    .dataframe thead th {\n",
       "        text-align: right;\n",
       "    }\n",
       "</style>\n",
       "<table border=\"1\" class=\"dataframe\">\n",
       "  <thead>\n",
       "    <tr style=\"text-align: right;\">\n",
       "      <th></th>\n",
       "      <th>X1</th>\n",
       "      <th>Y1</th>\n",
       "      <th>X2</th>\n",
       "      <th>Y2</th>\n",
       "      <th>X3</th>\n",
       "      <th>Y3</th>\n",
       "      <th>X4</th>\n",
       "      <th>Y4</th>\n",
       "      <th>X5</th>\n",
       "      <th>Y5</th>\n",
       "      <th>...</th>\n",
       "      <th>X96</th>\n",
       "      <th>Y96</th>\n",
       "      <th>X97</th>\n",
       "      <th>Y97</th>\n",
       "      <th>X98</th>\n",
       "      <th>Y98</th>\n",
       "      <th>X99</th>\n",
       "      <th>Y99</th>\n",
       "      <th>X100</th>\n",
       "      <th>Y100</th>\n",
       "    </tr>\n",
       "  </thead>\n",
       "  <tbody>\n",
       "    <tr>\n",
       "      <th>0</th>\n",
       "      <td>1000.0</td>\n",
       "      <td>0.0</td>\n",
       "      <td>946.08</td>\n",
       "      <td>37.42</td>\n",
       "      <td>889.67</td>\n",
       "      <td>74.76</td>\n",
       "      <td>832.02</td>\n",
       "      <td>112.10</td>\n",
       "      <td>1250.0</td>\n",
       "      <td>1.0</td>\n",
       "      <td>...</td>\n",
       "      <td>432.02</td>\n",
       "      <td>1312.10</td>\n",
       "      <td>1200.0</td>\n",
       "      <td>1200.0</td>\n",
       "      <td>1146.08</td>\n",
       "      <td>1237.42</td>\n",
       "      <td>1089.67</td>\n",
       "      <td>1274.76</td>\n",
       "      <td>1032.02</td>\n",
       "      <td>1312.10</td>\n",
       "    </tr>\n",
       "    <tr>\n",
       "      <th>1</th>\n",
       "      <td>800.0</td>\n",
       "      <td>0.0</td>\n",
       "      <td>746.04</td>\n",
       "      <td>37.38</td>\n",
       "      <td>689.81</td>\n",
       "      <td>74.79</td>\n",
       "      <td>632.43</td>\n",
       "      <td>111.97</td>\n",
       "      <td>1200.0</td>\n",
       "      <td>0.0</td>\n",
       "      <td>...</td>\n",
       "      <td>232.43</td>\n",
       "      <td>1311.97</td>\n",
       "      <td>800.0</td>\n",
       "      <td>1200.0</td>\n",
       "      <td>746.04</td>\n",
       "      <td>1237.38</td>\n",
       "      <td>689.81</td>\n",
       "      <td>1274.79</td>\n",
       "      <td>632.43</td>\n",
       "      <td>1311.97</td>\n",
       "    </tr>\n",
       "    <tr>\n",
       "      <th>2</th>\n",
       "      <td>600.0</td>\n",
       "      <td>0.0</td>\n",
       "      <td>545.98</td>\n",
       "      <td>37.50</td>\n",
       "      <td>489.87</td>\n",
       "      <td>74.95</td>\n",
       "      <td>432.52</td>\n",
       "      <td>112.15</td>\n",
       "      <td>650.0</td>\n",
       "      <td>0.0</td>\n",
       "      <td>...</td>\n",
       "      <td>432.52</td>\n",
       "      <td>1312.15</td>\n",
       "      <td>1000.0</td>\n",
       "      <td>1200.0</td>\n",
       "      <td>945.98</td>\n",
       "      <td>1237.50</td>\n",
       "      <td>889.87</td>\n",
       "      <td>1274.95</td>\n",
       "      <td>832.52</td>\n",
       "      <td>1312.15</td>\n",
       "    </tr>\n",
       "    <tr>\n",
       "      <th>3</th>\n",
       "      <td>600.0</td>\n",
       "      <td>0.0</td>\n",
       "      <td>546.09</td>\n",
       "      <td>37.41</td>\n",
       "      <td>489.70</td>\n",
       "      <td>74.76</td>\n",
       "      <td>432.35</td>\n",
       "      <td>111.90</td>\n",
       "      <td>800.0</td>\n",
       "      <td>0.0</td>\n",
       "      <td>...</td>\n",
       "      <td>832.35</td>\n",
       "      <td>1311.90</td>\n",
       "      <td>1200.0</td>\n",
       "      <td>1200.0</td>\n",
       "      <td>1146.09</td>\n",
       "      <td>1237.41</td>\n",
       "      <td>1089.70</td>\n",
       "      <td>1274.76</td>\n",
       "      <td>1032.35</td>\n",
       "      <td>1311.90</td>\n",
       "    </tr>\n",
       "    <tr>\n",
       "      <th>4</th>\n",
       "      <td>600.0</td>\n",
       "      <td>0.0</td>\n",
       "      <td>545.95</td>\n",
       "      <td>37.52</td>\n",
       "      <td>489.69</td>\n",
       "      <td>74.99</td>\n",
       "      <td>432.46</td>\n",
       "      <td>112.16</td>\n",
       "      <td>800.0</td>\n",
       "      <td>0.0</td>\n",
       "      <td>...</td>\n",
       "      <td>432.46</td>\n",
       "      <td>1312.16</td>\n",
       "      <td>1200.0</td>\n",
       "      <td>1200.0</td>\n",
       "      <td>1145.95</td>\n",
       "      <td>1237.52</td>\n",
       "      <td>1089.69</td>\n",
       "      <td>1274.99</td>\n",
       "      <td>1032.46</td>\n",
       "      <td>1312.16</td>\n",
       "    </tr>\n",
       "  </tbody>\n",
       "</table>\n",
       "<p>5 rows × 200 columns</p>\n",
       "</div>"
      ],
      "text/plain": [
       "       X1   Y1      X2     Y2      X3     Y3      X4      Y4      X5   Y5   \n",
       "0  1000.0  0.0  946.08  37.42  889.67  74.76  832.02  112.10  1250.0  1.0  \\\n",
       "1   800.0  0.0  746.04  37.38  689.81  74.79  632.43  111.97  1200.0  0.0   \n",
       "2   600.0  0.0  545.98  37.50  489.87  74.95  432.52  112.15   650.0  0.0   \n",
       "3   600.0  0.0  546.09  37.41  489.70  74.76  432.35  111.90   800.0  0.0   \n",
       "4   600.0  0.0  545.95  37.52  489.69  74.99  432.46  112.16   800.0  0.0   \n",
       "\n",
       "   ...     X96      Y96     X97     Y97      X98      Y98      X99      Y99   \n",
       "0  ...  432.02  1312.10  1200.0  1200.0  1146.08  1237.42  1089.67  1274.76  \\\n",
       "1  ...  232.43  1311.97   800.0  1200.0   746.04  1237.38   689.81  1274.79   \n",
       "2  ...  432.52  1312.15  1000.0  1200.0   945.98  1237.50   889.87  1274.95   \n",
       "3  ...  832.35  1311.90  1200.0  1200.0  1146.09  1237.41  1089.70  1274.76   \n",
       "4  ...  432.46  1312.16  1200.0  1200.0  1145.95  1237.52  1089.69  1274.99   \n",
       "\n",
       "      X100     Y100  \n",
       "0  1032.02  1312.10  \n",
       "1   632.43  1311.97  \n",
       "2   832.52  1312.15  \n",
       "3  1032.35  1311.90  \n",
       "4  1032.46  1312.16  \n",
       "\n",
       "[5 rows x 200 columns]"
      ]
     },
     "execution_count": 151,
     "metadata": {},
     "output_type": "execute_result"
    }
   ],
   "source": [
    "X.head()"
   ]
  },
  {
   "cell_type": "markdown",
   "id": "f34d22a6-f6c3-4952-981c-8c8739d06d53",
   "metadata": {},
   "source": [
    "## Create train and test set"
   ]
  },
  {
   "cell_type": "code",
   "execution_count": 23,
   "id": "894d8858-2e7c-426d-af1e-5d6a811adaf6",
   "metadata": {},
   "outputs": [],
   "source": [
    "X_train, X_test, y_train, y_test = train_test_split(X,y, test_size=0.2 ,random_state=42)"
   ]
  },
  {
   "cell_type": "markdown",
   "id": "675f9f70-41d7-4558-b207-10b2e44e4e1d",
   "metadata": {},
   "source": [
    "## Try Decision Tree Regressor\n",
    "It is more powerful for nonlinear relationships in data"
   ]
  },
  {
   "cell_type": "code",
   "execution_count": 29,
   "id": "773f2c66-7099-4d23-b8fd-4f25a1ea5df0",
   "metadata": {},
   "outputs": [],
   "source": [
    "tree_reg_1 = DecisionTreeRegressor(max_depth=2,random_state=42).fit(X_train, y_train)\n",
    "tree_reg_2 = DecisionTreeRegressor(max_depth=5, random_state=42).fit(X_train, y_train)"
   ]
  },
  {
   "cell_type": "code",
   "execution_count": 31,
   "id": "59b75cc1-ab16-448b-bc51-4cfb9b6a02bf",
   "metadata": {},
   "outputs": [
    {
     "data": {
      "text/plain": [
       "0.24867754203147185"
      ]
     },
     "execution_count": 31,
     "metadata": {},
     "output_type": "execute_result"
    }
   ],
   "source": [
    "tree_reg_1.score(X_test, y_test)"
   ]
  },
  {
   "cell_type": "code",
   "execution_count": 33,
   "id": "3a679024-4a1d-4cd3-b6e2-80c40e4dd046",
   "metadata": {},
   "outputs": [
    {
     "data": {
      "text/plain": [
       "0.44036272433181334"
      ]
     },
     "execution_count": 33,
     "metadata": {},
     "output_type": "execute_result"
    }
   ],
   "source": [
    "tree_reg_2.score(X_test, y_test)"
   ]
  },
  {
   "cell_type": "code",
   "execution_count": 34,
   "id": "2c9fca52-18fb-4327-b56e-cb3793b28a41",
   "metadata": {},
   "outputs": [],
   "source": [
    "cross_vals = -cross_val_score(tree_reg_1, X,y, scoring=\"neg_root_mean_squared_error\", cv=10)"
   ]
  },
  {
   "cell_type": "code",
   "execution_count": 35,
   "id": "c6a8c985-f88b-415b-a4fb-c54096f0aaa9",
   "metadata": {},
   "outputs": [
    {
     "data": {
      "text/plain": [
       "count        10.000000\n",
       "mean     173455.032255\n",
       "std       11567.575123\n",
       "min      157648.456309\n",
       "25%      164704.534676\n",
       "50%      171671.588416\n",
       "75%      182107.010265\n",
       "max      190399.689784\n",
       "dtype: float64"
      ]
     },
     "execution_count": 35,
     "metadata": {},
     "output_type": "execute_result"
    }
   ],
   "source": [
    "pd.Series(cross_vals).describe()"
   ]
  },
  {
   "cell_type": "markdown",
   "id": "82823a47-94a6-4f68-9686-bdf3e3ef9981",
   "metadata": {},
   "source": [
    "## Try Random Forest Regressor"
   ]
  },
  {
   "cell_type": "code",
   "execution_count": 39,
   "id": "fd58339f-6c1b-4682-90e2-390677bb75b5",
   "metadata": {},
   "outputs": [
    {
     "data": {
      "text/plain": [
       "0.7169339213180776"
      ]
     },
     "execution_count": 39,
     "metadata": {},
     "output_type": "execute_result"
    }
   ],
   "source": [
    "forest_reg = RandomForestRegressor()\n",
    "forest_reg.fit(X_train, y_train).score(X_test,y_test)"
   ]
  },
  {
   "cell_type": "code",
   "execution_count": 40,
   "id": "adc93d10-55c9-4ef6-a18b-9744b5a50eda",
   "metadata": {},
   "outputs": [
    {
     "data": {
      "text/plain": [
       "array([0.78259784, 0.74450014, 0.67840646, 0.65533953, 0.64266451])"
      ]
     },
     "execution_count": 40,
     "metadata": {},
     "output_type": "execute_result"
    }
   ],
   "source": [
    "cross_vals_forest = cross_val_score(RandomForestRegressor(), X,y,cv=5)\n",
    "cross_vals_forest"
   ]
  },
  {
   "cell_type": "markdown",
   "id": "27f75391-ac4e-4922-adb4-74ed98d9f786",
   "metadata": {},
   "source": [
    "## Conclusion\n",
    "Random forest model looks the most promising to predict the total_power"
   ]
  },
  {
   "cell_type": "markdown",
   "id": "03e88369-bcc2-4e3f-8e1f-f07f0d178d39",
   "metadata": {},
   "source": [
    "# Train models to predict the power of individual wave energy converters"
   ]
  },
  {
   "cell_type": "code",
   "execution_count": 152,
   "id": "015e13fc-4c3f-44fd-852e-6b713b5977b9",
   "metadata": {},
   "outputs": [
    {
     "data": {
      "text/html": [
       "<div>\n",
       "<style scoped>\n",
       "    .dataframe tbody tr th:only-of-type {\n",
       "        vertical-align: middle;\n",
       "    }\n",
       "\n",
       "    .dataframe tbody tr th {\n",
       "        vertical-align: top;\n",
       "    }\n",
       "\n",
       "    .dataframe thead th {\n",
       "        text-align: right;\n",
       "    }\n",
       "</style>\n",
       "<table border=\"1\" class=\"dataframe\">\n",
       "  <thead>\n",
       "    <tr style=\"text-align: right;\">\n",
       "      <th></th>\n",
       "      <th>X1</th>\n",
       "      <th>Y1</th>\n",
       "      <th>X2</th>\n",
       "      <th>Y2</th>\n",
       "      <th>X3</th>\n",
       "      <th>Y3</th>\n",
       "      <th>X4</th>\n",
       "      <th>Y4</th>\n",
       "      <th>X5</th>\n",
       "      <th>Y5</th>\n",
       "      <th>...</th>\n",
       "      <th>Power93</th>\n",
       "      <th>Power94</th>\n",
       "      <th>Power95</th>\n",
       "      <th>Power96</th>\n",
       "      <th>Power97</th>\n",
       "      <th>Power98</th>\n",
       "      <th>Power99</th>\n",
       "      <th>Power100</th>\n",
       "      <th>qW</th>\n",
       "      <th>Total_Power</th>\n",
       "    </tr>\n",
       "  </thead>\n",
       "  <tbody>\n",
       "    <tr>\n",
       "      <th>0</th>\n",
       "      <td>1000.0</td>\n",
       "      <td>0.0</td>\n",
       "      <td>946.08</td>\n",
       "      <td>37.42</td>\n",
       "      <td>889.67</td>\n",
       "      <td>74.76</td>\n",
       "      <td>832.02</td>\n",
       "      <td>112.10</td>\n",
       "      <td>1250.0</td>\n",
       "      <td>1.0</td>\n",
       "      <td>...</td>\n",
       "      <td>98711.68</td>\n",
       "      <td>102872.82</td>\n",
       "      <td>100743.44</td>\n",
       "      <td>99259.87</td>\n",
       "      <td>98909.46</td>\n",
       "      <td>101388.37</td>\n",
       "      <td>101025.35</td>\n",
       "      <td>98676.66</td>\n",
       "      <td>0.75</td>\n",
       "      <td>7257985.04</td>\n",
       "    </tr>\n",
       "    <tr>\n",
       "      <th>1</th>\n",
       "      <td>800.0</td>\n",
       "      <td>0.0</td>\n",
       "      <td>746.04</td>\n",
       "      <td>37.38</td>\n",
       "      <td>689.81</td>\n",
       "      <td>74.79</td>\n",
       "      <td>632.43</td>\n",
       "      <td>111.97</td>\n",
       "      <td>1200.0</td>\n",
       "      <td>0.0</td>\n",
       "      <td>...</td>\n",
       "      <td>96351.38</td>\n",
       "      <td>102253.02</td>\n",
       "      <td>101744.20</td>\n",
       "      <td>99482.45</td>\n",
       "      <td>99304.59</td>\n",
       "      <td>101953.23</td>\n",
       "      <td>100878.42</td>\n",
       "      <td>99508.49</td>\n",
       "      <td>0.74</td>\n",
       "      <td>7103374.61</td>\n",
       "    </tr>\n",
       "    <tr>\n",
       "      <th>2</th>\n",
       "      <td>600.0</td>\n",
       "      <td>0.0</td>\n",
       "      <td>545.98</td>\n",
       "      <td>37.50</td>\n",
       "      <td>489.87</td>\n",
       "      <td>74.95</td>\n",
       "      <td>432.52</td>\n",
       "      <td>112.15</td>\n",
       "      <td>650.0</td>\n",
       "      <td>0.0</td>\n",
       "      <td>...</td>\n",
       "      <td>96985.29</td>\n",
       "      <td>102472.80</td>\n",
       "      <td>101757.63</td>\n",
       "      <td>99429.45</td>\n",
       "      <td>98709.14</td>\n",
       "      <td>101312.44</td>\n",
       "      <td>100979.86</td>\n",
       "      <td>99024.16</td>\n",
       "      <td>0.76</td>\n",
       "      <td>7335380.64</td>\n",
       "    </tr>\n",
       "    <tr>\n",
       "      <th>3</th>\n",
       "      <td>600.0</td>\n",
       "      <td>0.0</td>\n",
       "      <td>546.09</td>\n",
       "      <td>37.41</td>\n",
       "      <td>489.70</td>\n",
       "      <td>74.76</td>\n",
       "      <td>432.35</td>\n",
       "      <td>111.90</td>\n",
       "      <td>800.0</td>\n",
       "      <td>0.0</td>\n",
       "      <td>...</td>\n",
       "      <td>76823.85</td>\n",
       "      <td>88005.41</td>\n",
       "      <td>98779.92</td>\n",
       "      <td>100260.30</td>\n",
       "      <td>98744.25</td>\n",
       "      <td>101144.58</td>\n",
       "      <td>100835.43</td>\n",
       "      <td>98915.38</td>\n",
       "      <td>0.75</td>\n",
       "      <td>7187769.87</td>\n",
       "    </tr>\n",
       "    <tr>\n",
       "      <th>4</th>\n",
       "      <td>600.0</td>\n",
       "      <td>0.0</td>\n",
       "      <td>545.95</td>\n",
       "      <td>37.52</td>\n",
       "      <td>489.69</td>\n",
       "      <td>74.99</td>\n",
       "      <td>432.46</td>\n",
       "      <td>112.16</td>\n",
       "      <td>800.0</td>\n",
       "      <td>0.0</td>\n",
       "      <td>...</td>\n",
       "      <td>98195.95</td>\n",
       "      <td>102874.16</td>\n",
       "      <td>100256.15</td>\n",
       "      <td>99221.12</td>\n",
       "      <td>98969.54</td>\n",
       "      <td>101389.77</td>\n",
       "      <td>100924.02</td>\n",
       "      <td>98796.00</td>\n",
       "      <td>0.75</td>\n",
       "      <td>7260222.61</td>\n",
       "    </tr>\n",
       "  </tbody>\n",
       "</table>\n",
       "<p>5 rows × 302 columns</p>\n",
       "</div>"
      ],
      "text/plain": [
       "       X1   Y1      X2     Y2      X3     Y3      X4      Y4      X5   Y5   \n",
       "0  1000.0  0.0  946.08  37.42  889.67  74.76  832.02  112.10  1250.0  1.0  \\\n",
       "1   800.0  0.0  746.04  37.38  689.81  74.79  632.43  111.97  1200.0  0.0   \n",
       "2   600.0  0.0  545.98  37.50  489.87  74.95  432.52  112.15   650.0  0.0   \n",
       "3   600.0  0.0  546.09  37.41  489.70  74.76  432.35  111.90   800.0  0.0   \n",
       "4   600.0  0.0  545.95  37.52  489.69  74.99  432.46  112.16   800.0  0.0   \n",
       "\n",
       "   ...   Power93    Power94    Power95    Power96   Power97    Power98   \n",
       "0  ...  98711.68  102872.82  100743.44   99259.87  98909.46  101388.37  \\\n",
       "1  ...  96351.38  102253.02  101744.20   99482.45  99304.59  101953.23   \n",
       "2  ...  96985.29  102472.80  101757.63   99429.45  98709.14  101312.44   \n",
       "3  ...  76823.85   88005.41   98779.92  100260.30  98744.25  101144.58   \n",
       "4  ...  98195.95  102874.16  100256.15   99221.12  98969.54  101389.77   \n",
       "\n",
       "     Power99  Power100    qW  Total_Power  \n",
       "0  101025.35  98676.66  0.75   7257985.04  \n",
       "1  100878.42  99508.49  0.74   7103374.61  \n",
       "2  100979.86  99024.16  0.76   7335380.64  \n",
       "3  100835.43  98915.38  0.75   7187769.87  \n",
       "4  100924.02  98796.00  0.75   7260222.61  \n",
       "\n",
       "[5 rows x 302 columns]"
      ]
     },
     "execution_count": 152,
     "metadata": {},
     "output_type": "execute_result"
    }
   ],
   "source": [
    "dataset.head()"
   ]
  },
  {
   "cell_type": "code",
   "execution_count": 153,
   "id": "ed8599b8-7a98-4526-a0ff-67545eeeb180",
   "metadata": {},
   "outputs": [],
   "source": [
    "edited_dataset = dataset.copy(deep=True)"
   ]
  },
  {
   "cell_type": "code",
   "execution_count": 154,
   "id": "480c285b-1a15-4615-941d-0072bc65b650",
   "metadata": {},
   "outputs": [
    {
     "data": {
      "text/plain": [
       "Index(['X1', 'Y1', 'X2', 'Y2', 'X3', 'Y3', 'X4', 'Y4', 'X5', 'Y5',\n",
       "       ...\n",
       "       'Power93', 'Power94', 'Power95', 'Power96', 'Power97', 'Power98',\n",
       "       'Power99', 'Power100', 'qW', 'Total_Power'],\n",
       "      dtype='object', length=302)"
      ]
     },
     "execution_count": 154,
     "metadata": {},
     "output_type": "execute_result"
    }
   ],
   "source": [
    "edited_dataset.columns"
   ]
  },
  {
   "cell_type": "markdown",
   "id": "e96007b2-6539-43ad-9c03-9779a6719487",
   "metadata": {},
   "source": [
    "## Prepare the data"
   ]
  },
  {
   "cell_type": "code",
   "execution_count": 155,
   "id": "2d8bc1e8-120e-488a-b85f-dd69fd36c88c",
   "metadata": {},
   "outputs": [],
   "source": [
    "edited_dataset = edited_dataset.drop(\"Total_Power\",axis=1)"
   ]
  },
  {
   "cell_type": "code",
   "execution_count": 156,
   "id": "5f80ad12-0f4b-4836-b005-e737dc99fa58",
   "metadata": {},
   "outputs": [],
   "source": [
    "edited_dataset.drop(\"qW\", axis=1, inplace=True)"
   ]
  },
  {
   "cell_type": "code",
   "execution_count": 157,
   "id": "86ffee46-28b7-46ef-b64a-f534a53af47f",
   "metadata": {},
   "outputs": [
    {
     "data": {
      "text/plain": [
       "Index(['X1', 'Y1', 'X2', 'Y2', 'X3', 'Y3', 'X4', 'Y4', 'X5', 'Y5',\n",
       "       ...\n",
       "       'Power91', 'Power92', 'Power93', 'Power94', 'Power95', 'Power96',\n",
       "       'Power97', 'Power98', 'Power99', 'Power100'],\n",
       "      dtype='object', length=300)"
      ]
     },
     "execution_count": 157,
     "metadata": {},
     "output_type": "execute_result"
    }
   ],
   "source": [
    "edited_dataset.columns"
   ]
  },
  {
   "cell_type": "markdown",
   "id": "be5b7388-81cd-4489-bd9c-6a8111c77c85",
   "metadata": {},
   "source": [
    "### Remove duplicates"
   ]
  },
  {
   "cell_type": "code",
   "execution_count": 158,
   "id": "ea182423-da7f-459a-9851-2758bdff2095",
   "metadata": {},
   "outputs": [],
   "source": [
    "edited_dataset.drop_duplicates(inplace=True)"
   ]
  },
  {
   "cell_type": "code",
   "execution_count": 159,
   "id": "08ed3859-2c84-4a55-9713-9a60730c8164",
   "metadata": {},
   "outputs": [
    {
     "data": {
      "text/plain": [
       "(2737, 300)"
      ]
     },
     "execution_count": 159,
     "metadata": {},
     "output_type": "execute_result"
    }
   ],
   "source": [
    "edited_dataset.shape"
   ]
  },
  {
   "cell_type": "code",
   "execution_count": 49,
   "id": "9bc52317-c20b-478e-b06e-ffe347eaa248",
   "metadata": {},
   "outputs": [
    {
     "data": {
      "text/plain": [
       "0"
      ]
     },
     "execution_count": 49,
     "metadata": {},
     "output_type": "execute_result"
    }
   ],
   "source": [
    "len(dataset) -len(edited_dataset)"
   ]
  },
  {
   "cell_type": "markdown",
   "id": "fa028aa8-a557-4f70-b99e-7b9a8e658c95",
   "metadata": {},
   "source": [
    "### Transform to individual WECs"
   ]
  },
  {
   "cell_type": "code",
   "execution_count": 160,
   "id": "cfaeb517-97ef-40bb-8f83-9126d352a360",
   "metadata": {},
   "outputs": [],
   "source": [
    "def to_individual_WEC(dataset):\n",
    "    new_dataset = {\"X\":[], \"Y\":[], \"Power\":[]}\n",
    "    for num in range(0, len(dataset)):\n",
    "        current_row = dataset.iloc[num]\n",
    "        for index in range(1,101):\n",
    "            new_dataset[\"X\"].append(current_row.loc[f\"X{index}\"])\n",
    "            new_dataset[\"Y\"].append(current_row.loc[f\"Y{index}\"])\n",
    "            new_dataset[\"Power\"].append(current_row.loc[f\"Power{index}\"])\n",
    "\n",
    "    new_dataset = pd.DataFrame(new_dataset)\n",
    "    return new_dataset"
   ]
  },
  {
   "cell_type": "code",
   "execution_count": 161,
   "id": "abc93450-4553-4e76-91a4-4089338cdfe5",
   "metadata": {},
   "outputs": [],
   "source": [
    "new_dataset = to_individual_WEC(edited_dataset)"
   ]
  },
  {
   "cell_type": "code",
   "execution_count": 162,
   "id": "61d38391-b26b-4603-a0be-d6be7a6348c5",
   "metadata": {},
   "outputs": [],
   "source": [
    "y = new_dataset[\"Power\"]\n",
    "X = new_dataset.drop(\"Power\", axis=1)"
   ]
  },
  {
   "cell_type": "code",
   "execution_count": 163,
   "id": "03507c62-3732-475c-a10c-237aa04b607c",
   "metadata": {},
   "outputs": [],
   "source": [
    "new_dataset = new_dataset.drop_duplicates()"
   ]
  },
  {
   "cell_type": "code",
   "execution_count": 164,
   "id": "797f1f01-1097-47cc-8f0d-fb88336e9d47",
   "metadata": {},
   "outputs": [
    {
     "data": {
      "text/html": [
       "<div>\n",
       "<style scoped>\n",
       "    .dataframe tbody tr th:only-of-type {\n",
       "        vertical-align: middle;\n",
       "    }\n",
       "\n",
       "    .dataframe tbody tr th {\n",
       "        vertical-align: top;\n",
       "    }\n",
       "\n",
       "    .dataframe thead th {\n",
       "        text-align: right;\n",
       "    }\n",
       "</style>\n",
       "<table border=\"1\" class=\"dataframe\">\n",
       "  <thead>\n",
       "    <tr style=\"text-align: right;\">\n",
       "      <th></th>\n",
       "      <th>X</th>\n",
       "      <th>Y</th>\n",
       "      <th>Power</th>\n",
       "    </tr>\n",
       "  </thead>\n",
       "  <tbody>\n",
       "    <tr>\n",
       "      <th>0</th>\n",
       "      <td>1000.00</td>\n",
       "      <td>0.00</td>\n",
       "      <td>54733.98</td>\n",
       "    </tr>\n",
       "    <tr>\n",
       "      <th>1</th>\n",
       "      <td>946.08</td>\n",
       "      <td>37.42</td>\n",
       "      <td>48754.87</td>\n",
       "    </tr>\n",
       "    <tr>\n",
       "      <th>2</th>\n",
       "      <td>889.67</td>\n",
       "      <td>74.76</td>\n",
       "      <td>47691.48</td>\n",
       "    </tr>\n",
       "    <tr>\n",
       "      <th>3</th>\n",
       "      <td>832.02</td>\n",
       "      <td>112.10</td>\n",
       "      <td>44423.11</td>\n",
       "    </tr>\n",
       "    <tr>\n",
       "      <th>4</th>\n",
       "      <td>1250.00</td>\n",
       "      <td>1.00</td>\n",
       "      <td>65183.30</td>\n",
       "    </tr>\n",
       "    <tr>\n",
       "      <th>...</th>\n",
       "      <td>...</td>\n",
       "      <td>...</td>\n",
       "      <td>...</td>\n",
       "    </tr>\n",
       "    <tr>\n",
       "      <th>273695</th>\n",
       "      <td>432.15</td>\n",
       "      <td>1312.25</td>\n",
       "      <td>99621.37</td>\n",
       "    </tr>\n",
       "    <tr>\n",
       "      <th>273696</th>\n",
       "      <td>1400.00</td>\n",
       "      <td>1200.00</td>\n",
       "      <td>98794.13</td>\n",
       "    </tr>\n",
       "    <tr>\n",
       "      <th>273697</th>\n",
       "      <td>1346.07</td>\n",
       "      <td>1237.54</td>\n",
       "      <td>101405.41</td>\n",
       "    </tr>\n",
       "    <tr>\n",
       "      <th>273698</th>\n",
       "      <td>1289.78</td>\n",
       "      <td>1274.93</td>\n",
       "      <td>100985.18</td>\n",
       "    </tr>\n",
       "    <tr>\n",
       "      <th>273699</th>\n",
       "      <td>1232.15</td>\n",
       "      <td>1312.25</td>\n",
       "      <td>98637.31</td>\n",
       "    </tr>\n",
       "  </tbody>\n",
       "</table>\n",
       "<p>273555 rows × 3 columns</p>\n",
       "</div>"
      ],
      "text/plain": [
       "              X        Y      Power\n",
       "0       1000.00     0.00   54733.98\n",
       "1        946.08    37.42   48754.87\n",
       "2        889.67    74.76   47691.48\n",
       "3        832.02   112.10   44423.11\n",
       "4       1250.00     1.00   65183.30\n",
       "...         ...      ...        ...\n",
       "273695   432.15  1312.25   99621.37\n",
       "273696  1400.00  1200.00   98794.13\n",
       "273697  1346.07  1237.54  101405.41\n",
       "273698  1289.78  1274.93  100985.18\n",
       "273699  1232.15  1312.25   98637.31\n",
       "\n",
       "[273555 rows x 3 columns]"
      ]
     },
     "execution_count": 164,
     "metadata": {},
     "output_type": "execute_result"
    }
   ],
   "source": [
    "new_dataset"
   ]
  },
  {
   "cell_type": "markdown",
   "id": "3e4ee1e7-1d53-4b0b-8d15-0c26ecbd2f46",
   "metadata": {},
   "source": [
    "### Create train and test set"
   ]
  },
  {
   "cell_type": "code",
   "execution_count": 165,
   "id": "4e17ca29-f333-4de9-b896-b51a20021823",
   "metadata": {},
   "outputs": [],
   "source": [
    "X_train, X_test, y_train, y_test = train_test_split(X,y, test_size=0.2 ,random_state=42)"
   ]
  },
  {
   "cell_type": "markdown",
   "id": "58c3db85-41d9-4c24-8cf1-bc684a73d117",
   "metadata": {},
   "source": [
    "### Test with Decision Tree Regressor"
   ]
  },
  {
   "cell_type": "code",
   "execution_count": 59,
   "id": "28385836-69fd-4278-ae4c-246353ab0977",
   "metadata": {},
   "outputs": [],
   "source": [
    "dtr = DecisionTreeRegressor(max_depth=5).fit(X_train,y_train)"
   ]
  },
  {
   "cell_type": "code",
   "execution_count": 60,
   "id": "592a4ab0-160d-47bf-8701-5b69cea221de",
   "metadata": {},
   "outputs": [
    {
     "data": {
      "text/plain": [
       "0.8175329137644313"
      ]
     },
     "execution_count": 60,
     "metadata": {},
     "output_type": "execute_result"
    }
   ],
   "source": [
    "dtr.score(X_test,y_test)"
   ]
  },
  {
   "cell_type": "code",
   "execution_count": 61,
   "id": "9570d715-2205-4405-a175-084b87a70764",
   "metadata": {},
   "outputs": [],
   "source": [
    "cvs_dtr = cross_val_score(DecisionTreeRegressor(), X,y,cv=5)"
   ]
  },
  {
   "cell_type": "code",
   "execution_count": 62,
   "id": "28af4018-c72f-4432-835c-f8b49c89e9ea",
   "metadata": {},
   "outputs": [
    {
     "data": {
      "text/plain": [
       "array([0.84202991, 0.84541757, 0.84389109, 0.83503579, 0.83833932])"
      ]
     },
     "execution_count": 62,
     "metadata": {},
     "output_type": "execute_result"
    }
   ],
   "source": [
    "cvs_dtr"
   ]
  },
  {
   "cell_type": "markdown",
   "id": "2e95bf12-994f-404d-83a8-389b15fa5529",
   "metadata": {},
   "source": [
    "### Test with Random Forest Regressor"
   ]
  },
  {
   "cell_type": "code",
   "execution_count": 63,
   "id": "03819cb5-ca2f-433e-b914-a679b20f90fc",
   "metadata": {},
   "outputs": [],
   "source": [
    "rtr = RandomForestRegressor().fit(X_train,y_train)"
   ]
  },
  {
   "cell_type": "code",
   "execution_count": 64,
   "id": "fbafa2be-07ca-4916-9465-6c14144bbb66",
   "metadata": {},
   "outputs": [
    {
     "data": {
      "text/plain": [
       "0.8551296852669787"
      ]
     },
     "execution_count": 64,
     "metadata": {},
     "output_type": "execute_result"
    }
   ],
   "source": [
    "rtr.score(X_test,y_test)"
   ]
  },
  {
   "cell_type": "code",
   "execution_count": 65,
   "id": "7d0066ab-93da-4002-9285-358199adbd5c",
   "metadata": {},
   "outputs": [],
   "source": [
    "cvs_rtr = cross_val_score(RandomForestRegressor(), X,y,cv=5)"
   ]
  },
  {
   "cell_type": "code",
   "execution_count": 66,
   "id": "9734934b-22f3-491a-a7d3-61e3a4e00bad",
   "metadata": {},
   "outputs": [
    {
     "data": {
      "text/plain": [
       "array([0.85443103, 0.85889817, 0.85717885, 0.84873271, 0.85006979])"
      ]
     },
     "execution_count": 66,
     "metadata": {},
     "output_type": "execute_result"
    }
   ],
   "source": [
    "cvs_rtr"
   ]
  },
  {
   "cell_type": "code",
   "execution_count": 67,
   "id": "84a17726-f99f-4d54-9838-b3f018997340",
   "metadata": {},
   "outputs": [
    {
     "data": {
      "text/plain": [
       "229909    45036.45\n",
       "65271     67483.86\n",
       "231186    81746.97\n",
       "4039      45099.45\n",
       "216022    77271.24\n",
       "Name: Power, dtype: float64"
      ]
     },
     "execution_count": 67,
     "metadata": {},
     "output_type": "execute_result"
    }
   ],
   "source": [
    "y_test.head()"
   ]
  },
  {
   "cell_type": "code",
   "execution_count": 68,
   "id": "09c45e79-a77b-4578-b13e-17b46f1e908d",
   "metadata": {},
   "outputs": [
    {
     "data": {
      "text/html": [
       "<div>\n",
       "<style scoped>\n",
       "    .dataframe tbody tr th:only-of-type {\n",
       "        vertical-align: middle;\n",
       "    }\n",
       "\n",
       "    .dataframe tbody tr th {\n",
       "        vertical-align: top;\n",
       "    }\n",
       "\n",
       "    .dataframe thead th {\n",
       "        text-align: right;\n",
       "    }\n",
       "</style>\n",
       "<table border=\"1\" class=\"dataframe\">\n",
       "  <thead>\n",
       "    <tr style=\"text-align: right;\">\n",
       "      <th></th>\n",
       "      <th>X</th>\n",
       "      <th>Y</th>\n",
       "    </tr>\n",
       "  </thead>\n",
       "  <tbody>\n",
       "    <tr>\n",
       "      <th>229909</th>\n",
       "      <td>346.18</td>\n",
       "      <td>237.50</td>\n",
       "    </tr>\n",
       "    <tr>\n",
       "      <th>65271</th>\n",
       "      <td>32.24</td>\n",
       "      <td>1111.84</td>\n",
       "    </tr>\n",
       "    <tr>\n",
       "      <th>231186</th>\n",
       "      <td>1289.83</td>\n",
       "      <td>1075.05</td>\n",
       "    </tr>\n",
       "    <tr>\n",
       "      <th>4039</th>\n",
       "      <td>232.28</td>\n",
       "      <td>712.28</td>\n",
       "    </tr>\n",
       "    <tr>\n",
       "      <th>216022</th>\n",
       "      <td>1289.62</td>\n",
       "      <td>74.98</td>\n",
       "    </tr>\n",
       "  </tbody>\n",
       "</table>\n",
       "</div>"
      ],
      "text/plain": [
       "              X        Y\n",
       "229909   346.18   237.50\n",
       "65271     32.24  1111.84\n",
       "231186  1289.83  1075.05\n",
       "4039     232.28   712.28\n",
       "216022  1289.62    74.98"
      ]
     },
     "execution_count": 68,
     "metadata": {},
     "output_type": "execute_result"
    }
   ],
   "source": [
    "X_test.head()"
   ]
  },
  {
   "cell_type": "markdown",
   "id": "a097a711-ad2b-4e81-bfcc-2439c7b80250",
   "metadata": {},
   "source": [
    "## Conclusion\n",
    "And again the random forest model makes the best predictions. And it is more accurate to predict individual WECs than the entire farm."
   ]
  },
  {
   "cell_type": "code",
   "execution_count": 137,
   "id": "c356e80d-0a5f-4353-a7ff-ad635692225a",
   "metadata": {},
   "outputs": [],
   "source": [
    "from matplotlib import cm"
   ]
  },
  {
   "cell_type": "code",
   "execution_count": 138,
   "id": "a3976588-3247-4e09-aba5-4b766815fa33",
   "metadata": {},
   "outputs": [],
   "source": [
    "plt.style.use('_mpl-gallery')\n"
   ]
  },
  {
   "cell_type": "code",
   "execution_count": 139,
   "id": "e4ceec7d-a9bd-4c23-a0e3-0183a891c0a5",
   "metadata": {},
   "outputs": [
    {
     "data": {
      "image/png": "[encoded data removed]",
      "text/plain": [
       "<Figure size 200x200 with 1 Axes>"
      ]
     },
     "metadata": {},
     "output_type": "display_data"
    }
   ],
   "source": [
    "fig, ax = plt.subplots(subplot_kw={\"projection\": \"3d\"})"
   ]
  },
  {
   "cell_type": "code",
   "execution_count": 140,
   "id": "dfe643c7-f757-4140-9a2c-4219d02c5e10",
   "metadata": {},
   "outputs": [
    {
     "data": {
      "text/plain": [
       "<mpl_toolkits.mplot3d.art3d.Poly3DCollection at 0x2dc669ff0>"
      ]
     },
     "execution_count": 140,
     "metadata": {},
     "output_type": "execute_result"
    }
   ],
   "source": [
    "ax.plot_trisurf(new_dataset[\"X\"], new_dataset[\"Y\"], new_dataset[\"Power\"], cmap=cm.Blues)"
   ]
  },
  {
   "cell_type": "code",
   "execution_count": 141,
   "id": "9388707b-674e-4ea6-aee1-aa4abbf05f18",
   "metadata": {},
   "outputs": [],
   "source": [
    "plt.show()"
   ]
  },
  {
   "cell_type": "code",
   "execution_count": 142,
   "id": "09cc823d-6ffe-438b-a145-53404277afdd",
   "metadata": {},
   "outputs": [],
   "source": [
    "X,Y,Z = new_dataset[\"X\"], new_dataset[\"Y\"], new_dataset[\"Power\"]"
   ]
  },
  {
   "cell_type": "code",
   "execution_count": 146,
   "id": "ac033123-f28a-4e4e-a1e2-05712a564644",
   "metadata": {},
   "outputs": [
    {
     "data": {
      "image/png": "[encoded data removed]",
      "text/plain": [
       "<Figure size 200x200 with 1 Axes>"
      ]
     },
     "metadata": {},
     "output_type": "display_data"
    }
   ],
   "source": [
    "fig, ax = plt.subplots(subplot_kw={'projection': '3d'})\n",
    "\n",
    "ax.plot_trisurf(x,y,z,vmin=z.min()*2 ,linewidth=0.1)\n",
    "\n",
    "plt.show()"
   ]
  },
  {
   "cell_type": "code",
   "execution_count": 86,
   "id": "aae5bb30-32ef-4d60-b3cb-469050320f59",
   "metadata": {},
   "outputs": [
    {
     "data": {
      "text/plain": [
       "[(-3.0, 3.0), (-3.0, 3.0)]"
      ]
     },
     "execution_count": 86,
     "metadata": {},
     "output_type": "execute_result"
    },
    {
     "data": {
      "image/png": "[encoded data removed]",
      "text/plain": [
       "<Figure size 200x200 with 1 Axes>"
      ]
     },
     "metadata": {},
     "output_type": "display_data"
    }
   ],
   "source": [
    "fig, ax = plt.subplots()\n",
    "\n",
    "ax.plot(x, y, 'o', markersize=2, color='grey')\n",
    "ax.tripcolor(x, y, z)\n",
    "\n",
    "ax.set(xlim=(-3, 3), ylim=(-3, 3))\n"
   ]
  },
  {
   "cell_type": "code",
   "execution_count": 87,
   "id": "e100981f-a2b4-4fdb-b57e-bf4a2fc805bc",
   "metadata": {},
   "outputs": [],
   "source": [
    "plt.show()"
   ]
  },
  {
   "cell_type": "code",
   "execution_count": 144,
   "id": "8ea3ec86-4c39-43a1-a5bc-0dbba6987c78",
   "metadata": {},
   "outputs": [
    {
     "ename": "AttributeError",
     "evalue": "'function' object has no attribute 'ndim'",
     "output_type": "error",
     "traceback": [
      "\u001b[0;31m---------------------------------------------------------------------------\u001b[0m",
      "\u001b[0;31mAttributeError\u001b[0m                            Traceback (most recent call last)",
      "Cell \u001b[0;32mIn[144], line 9\u001b[0m\n\u001b[1;32m      5\u001b[0m fig \u001b[38;5;241m=\u001b[39m plt\u001b[38;5;241m.\u001b[39mfigure()\n\u001b[1;32m      6\u001b[0m ax \u001b[38;5;241m=\u001b[39m fig\u001b[38;5;241m.\u001b[39madd_subplot(\u001b[38;5;241m111\u001b[39m, projection\u001b[38;5;241m=\u001b[39m\u001b[38;5;124m\"\u001b[39m\u001b[38;5;124m3d\u001b[39m\u001b[38;5;124m\"\u001b[39m)\n\u001b[0;32m----> 9\u001b[0m \u001b[43max\u001b[49m\u001b[38;5;241;43m.\u001b[39;49m\u001b[43mplot_surface\u001b[49m\u001b[43m(\u001b[49m\u001b[43mX\u001b[49m\u001b[43m,\u001b[49m\u001b[43m \u001b[49m\u001b[43mY\u001b[49m\u001b[43m,\u001b[49m\u001b[43m \u001b[49m\u001b[43mZ_new\u001b[49m\u001b[43m,\u001b[49m\u001b[43m \u001b[49m\u001b[43mcmap\u001b[49m\u001b[38;5;241;43m=\u001b[39;49m\u001b[38;5;124;43m\"\u001b[39;49m\u001b[38;5;124;43mautumn_r\u001b[39;49m\u001b[38;5;124;43m\"\u001b[39;49m\u001b[43m,\u001b[49m\u001b[43m \u001b[49m\u001b[43mlw\u001b[49m\u001b[38;5;241;43m=\u001b[39;49m\u001b[38;5;241;43m0\u001b[39;49m\u001b[43m,\u001b[49m\u001b[43m \u001b[49m\u001b[43mrstride\u001b[49m\u001b[38;5;241;43m=\u001b[39;49m\u001b[38;5;241;43m1\u001b[39;49m\u001b[43m,\u001b[49m\u001b[43m \u001b[49m\u001b[43mcstride\u001b[49m\u001b[38;5;241;43m=\u001b[39;49m\u001b[38;5;241;43m1\u001b[39;49m\u001b[43m)\u001b[49m\n\u001b[1;32m     10\u001b[0m ax\u001b[38;5;241m.\u001b[39mcontour(X, Y, Z_new, \u001b[38;5;241m10\u001b[39m, lw\u001b[38;5;241m=\u001b[39m\u001b[38;5;241m3\u001b[39m, colors\u001b[38;5;241m=\u001b[39m\u001b[38;5;124m\"\u001b[39m\u001b[38;5;124mk\u001b[39m\u001b[38;5;124m\"\u001b[39m, linestyles\u001b[38;5;241m=\u001b[39m\u001b[38;5;124m\"\u001b[39m\u001b[38;5;124msolid\u001b[39m\u001b[38;5;124m\"\u001b[39m)\n\u001b[1;32m     11\u001b[0m plt\u001b[38;5;241m.\u001b[39mshow()\n",
      "File \u001b[0;32m~/miniconda3/lib/python3.10/site-packages/mpl_toolkits/mplot3d/axes3d.py:1568\u001b[0m, in \u001b[0;36mAxes3D.plot_surface\u001b[0;34m(self, X, Y, Z, norm, vmin, vmax, lightsource, **kwargs)\u001b[0m\n\u001b[1;32m   1498\u001b[0m \u001b[38;5;124;03m\"\"\"\u001b[39;00m\n\u001b[1;32m   1499\u001b[0m \u001b[38;5;124;03mCreate a surface plot.\u001b[39;00m\n\u001b[1;32m   1500\u001b[0m \n\u001b[0;32m   (...)\u001b[0m\n\u001b[1;32m   1563\u001b[0m \u001b[38;5;124;03m    Other keyword arguments are forwarded to `.Poly3DCollection`.\u001b[39;00m\n\u001b[1;32m   1564\u001b[0m \u001b[38;5;124;03m\"\"\"\u001b[39;00m\n\u001b[1;32m   1566\u001b[0m had_data \u001b[38;5;241m=\u001b[39m \u001b[38;5;28mself\u001b[39m\u001b[38;5;241m.\u001b[39mhas_data()\n\u001b[0;32m-> 1568\u001b[0m \u001b[38;5;28;01mif\u001b[39;00m \u001b[43mZ\u001b[49m\u001b[38;5;241;43m.\u001b[39;49m\u001b[43mndim\u001b[49m \u001b[38;5;241m!=\u001b[39m \u001b[38;5;241m2\u001b[39m:\n\u001b[1;32m   1569\u001b[0m     \u001b[38;5;28;01mraise\u001b[39;00m \u001b[38;5;167;01mValueError\u001b[39;00m(\u001b[38;5;124m\"\u001b[39m\u001b[38;5;124mArgument Z must be 2-dimensional.\u001b[39m\u001b[38;5;124m\"\u001b[39m)\n\u001b[1;32m   1571\u001b[0m Z \u001b[38;5;241m=\u001b[39m cbook\u001b[38;5;241m.\u001b[39m_to_unmasked_float_array(Z)\n",
      "\u001b[0;31mAttributeError\u001b[0m: 'function' object has no attribute 'ndim'"
     ]
    },
    {
     "data": {
      "image/png": "[encoded data removed]",
      "text/plain": [
       "<Figure size 200x200 with 1 Axes>"
      ]
     },
     "metadata": {},
     "output_type": "display_data"
    }
   ],
   "source": [
    "from mpl_toolkits.mplot3d import axes3d\n",
    "\n",
    "import matplotlib.pyplot as plt\n",
    "\n",
    "fig = plt.figure()\n",
    "ax = fig.add_subplot(111, projection=\"3d\")\n",
    "\n",
    "\n",
    "ax.plot_surface(X, Y, Z_new, cmap=\"autumn_r\", lw=0, rstride=1, cstride=1)\n",
    "ax.contour(X, Y, Z_new, 10, lw=3, colors=\"k\", linestyles=\"solid\")\n",
    "plt.show()"
   ]
  },
  {
   "cell_type": "code",
   "execution_count": 105,
   "id": "b63ebed2-cebf-45b0-aeea-e6fbcf577302",
   "metadata": {},
   "outputs": [
    {
     "data": {
      "text/plain": [
       "0          54733.98\n",
       "1          48754.87\n",
       "2          47691.48\n",
       "3          44423.11\n",
       "4          65183.30\n",
       "            ...    \n",
       "273695     99621.37\n",
       "273696     98794.13\n",
       "273697    101405.41\n",
       "273698    100985.18\n",
       "273699     98637.31\n",
       "Name: Power, Length: 273555, dtype: float64"
      ]
     },
     "execution_count": 105,
     "metadata": {},
     "output_type": "execute_result"
    }
   ],
   "source": [
    "Z"
   ]
  },
  {
   "cell_type": "code",
   "execution_count": 106,
   "id": "1395be8c-143b-4dcf-ac6a-d7a76f76220d",
   "metadata": {},
   "outputs": [],
   "source": [
    "Z_new = Z.to_numpy"
   ]
  },
  {
   "cell_type": "code",
   "execution_count": 107,
   "id": "eb31ef81-631c-40a8-b6c1-f6bb67c2566c",
   "metadata": {},
   "outputs": [
    {
     "data": {
      "text/plain": [
       "<bound method IndexOpsMixin.to_numpy of 0          54733.98\n",
       "1          48754.87\n",
       "2          47691.48\n",
       "3          44423.11\n",
       "4          65183.30\n",
       "            ...    \n",
       "273695     99621.37\n",
       "273696     98794.13\n",
       "273697    101405.41\n",
       "273698    100985.18\n",
       "273699     98637.31\n",
       "Name: Power, Length: 273555, dtype: float64>"
      ]
     },
     "execution_count": 107,
     "metadata": {},
     "output_type": "execute_result"
    }
   ],
   "source": [
    "Z_new"
   ]
  },
  {
   "cell_type": "code",
   "execution_count": 145,
   "id": "8ebb912d-5037-4405-bbea-47906911edf7",
   "metadata": {},
   "outputs": [
    {
     "data": {
      "image/png": "[encoded data removed]",
      "text/plain": [
       "<Figure size 200x200 with 1 Axes>"
      ]
     },
     "metadata": {},
     "output_type": "display_data"
    }
   ],
   "source": [
    "import matplotlib.tri as mtri\n",
    "fig = plt.figure()\n",
    "ax = fig.add_subplot(1,1,1, projection='3d')\n",
    "\n",
    "ax.plot_trisurf(mtri.Triangulation(X,Y), Z, cmap='jet')\n",
    "ax.scatter(X,Y,Z, marker='.', s=10, c=\"black\", alpha=.001)\n",
    "ax.view_init(elev=60, azim=-45)\n",
    "\n",
    "ax.set_xlabel('X')\n",
    "ax.set_ylabel('Y')\n",
    "ax.set_zlabel('Z')\n",
    "plt.show()"
   ]
  },
  {
   "cell_type": "markdown",
   "id": "3b00c298-5d38-4842-95ad-3de883dcfbc6",
   "metadata": {},
   "source": [
    "# Trying a deep neural net with tensorflow"
   ]
  },
  {
   "cell_type": "code",
   "execution_count": 173,
   "id": "3d5129da-adb8-4438-8b06-abc58b536c27",
   "metadata": {},
   "outputs": [],
   "source": [
    "import tensorflow as tf\n",
    "from tensorflow import keras\n",
    "from tensorflow.keras import layers"
   ]
  },
  {
   "cell_type": "code",
   "execution_count": 174,
   "id": "bb96a939-3d3e-4c84-a460-36210a150790",
   "metadata": {},
   "outputs": [],
   "source": [
    "np.set_printoptions(precision=3, suppress=True)\n"
   ]
  },
  {
   "cell_type": "code",
   "execution_count": 178,
   "id": "83ddb4cf-43ea-4772-848c-33938a856120",
   "metadata": {},
   "outputs": [
    {
     "data": {
      "text/html": [
       "<div>\n",
       "<style scoped>\n",
       "    .dataframe tbody tr th:only-of-type {\n",
       "        vertical-align: middle;\n",
       "    }\n",
       "\n",
       "    .dataframe tbody tr th {\n",
       "        vertical-align: top;\n",
       "    }\n",
       "\n",
       "    .dataframe thead th {\n",
       "        text-align: right;\n",
       "    }\n",
       "</style>\n",
       "<table border=\"1\" class=\"dataframe\">\n",
       "  <thead>\n",
       "    <tr style=\"text-align: right;\">\n",
       "      <th></th>\n",
       "      <th>mean</th>\n",
       "      <th>std</th>\n",
       "    </tr>\n",
       "  </thead>\n",
       "  <tbody>\n",
       "    <tr>\n",
       "      <th>X1</th>\n",
       "      <td>352.430815</td>\n",
       "      <td>293.777257</td>\n",
       "    </tr>\n",
       "    <tr>\n",
       "      <th>Y1</th>\n",
       "      <td>28.443796</td>\n",
       "      <td>97.276123</td>\n",
       "    </tr>\n",
       "    <tr>\n",
       "      <th>X2</th>\n",
       "      <td>376.587603</td>\n",
       "      <td>271.069835</td>\n",
       "    </tr>\n",
       "    <tr>\n",
       "      <th>Y2</th>\n",
       "      <td>48.513548</td>\n",
       "      <td>59.577117</td>\n",
       "    </tr>\n",
       "    <tr>\n",
       "      <th>X3</th>\n",
       "      <td>390.824538</td>\n",
       "      <td>282.745074</td>\n",
       "    </tr>\n",
       "    <tr>\n",
       "      <th>...</th>\n",
       "      <td>...</td>\n",
       "      <td>...</td>\n",
       "    </tr>\n",
       "    <tr>\n",
       "      <th>Power96</th>\n",
       "      <td>97620.391436</td>\n",
       "      <td>5975.969268</td>\n",
       "    </tr>\n",
       "    <tr>\n",
       "      <th>Power97</th>\n",
       "      <td>97511.043405</td>\n",
       "      <td>5045.909333</td>\n",
       "    </tr>\n",
       "    <tr>\n",
       "      <th>Power98</th>\n",
       "      <td>98655.269839</td>\n",
       "      <td>6408.359410</td>\n",
       "    </tr>\n",
       "    <tr>\n",
       "      <th>Power99</th>\n",
       "      <td>98920.618290</td>\n",
       "      <td>4689.778147</td>\n",
       "    </tr>\n",
       "    <tr>\n",
       "      <th>Power100</th>\n",
       "      <td>97713.614468</td>\n",
       "      <td>3966.695051</td>\n",
       "    </tr>\n",
       "  </tbody>\n",
       "</table>\n",
       "<p>300 rows × 2 columns</p>\n",
       "</div>"
      ],
      "text/plain": [
       "                  mean          std\n",
       "X1          352.430815   293.777257\n",
       "Y1           28.443796    97.276123\n",
       "X2          376.587603   271.069835\n",
       "Y2           48.513548    59.577117\n",
       "X3          390.824538   282.745074\n",
       "...                ...          ...\n",
       "Power96   97620.391436  5975.969268\n",
       "Power97   97511.043405  5045.909333\n",
       "Power98   98655.269839  6408.359410\n",
       "Power99   98920.618290  4689.778147\n",
       "Power100  97713.614468  3966.695051\n",
       "\n",
       "[300 rows x 2 columns]"
      ]
     },
     "execution_count": 178,
     "metadata": {},
     "output_type": "execute_result"
    }
   ],
   "source": [
    "edited_dataset.describe().transpose()[[\"mean\", \"std\"]]\n"
   ]
  },
  {
   "cell_type": "code",
   "execution_count": 184,
   "id": "7a0a023e-c3c8-4cd7-81dc-123441743eed",
   "metadata": {},
   "outputs": [],
   "source": [
    "normalizer = tf.keras.layers.Normalization(axis=-1)"
   ]
  },
  {
   "cell_type": "code",
   "execution_count": 185,
   "id": "64224723-e24e-48c0-a255-2a2887d11b8a",
   "metadata": {},
   "outputs": [],
   "source": [
    "normalizer.adapt(np.array(X_train))"
   ]
  },
  {
   "cell_type": "code",
   "execution_count": 186,
   "id": "b8fddcdd-9df3-4ecf-8e24-dfc15dfcfce3",
   "metadata": {},
   "outputs": [
    {
     "name": "stdout",
     "output_type": "stream",
     "text": [
      "[[715.068 673.846]]\n"
     ]
    }
   ],
   "source": [
    "print(normalizer.mean.numpy())"
   ]
  },
  {
   "cell_type": "code",
   "execution_count": 183,
   "id": "6c643bcc-b8e9-4253-b4d0-9d6a632ab39e",
   "metadata": {},
   "outputs": [],
   "source": [
    "def build_and_compile_model(norm):\n",
    "    model = keras.Sequential([\n",
    "        norm,\n",
    "        layers.Dense(64, activation=\"relu\"),\n",
    "        layers.Dense(64, activation=\"relu\"),\n",
    "        layers.Dense(1)\n",
    "    ])\n",
    "    model.compile(loss=\"mean_absolut_error\",\n",
    "             optimizer=tf.keras.optimizers.Adam(0.001))\n",
    "    return model"
   ]
  },
  {
   "cell_type": "code",
   "execution_count": 187,
   "id": "b1b2ba45-869e-46f6-b89e-2135bd847421",
   "metadata": {},
   "outputs": [
    {
     "name": "stderr",
     "output_type": "stream",
     "text": [
      "WARNING:absl:At this time, the v2.11+ optimizer `tf.keras.optimizers.Adam` runs slowly on M1/M2 Macs, please use the legacy Keras optimizer instead, located at `tf.keras.optimizers.legacy.Adam`.\n"
     ]
    }
   ],
   "source": [
    "dnn_wec_model = build_and_compile_model(normalizer)"
   ]
  },
  {
   "cell_type": "code",
   "execution_count": null,
   "id": "e4d91a5f-688d-4ef0-aea8-2c3d8fcaaa62",
   "metadata": {},
   "outputs": [],
   "source": [
    "%%time\n",
    "history = dnn_wec_model.fit()"
   ]
  }
 ],
 "metadata": {
  "kernelspec": {
   "display_name": "Python 3 (ipykernel)",
   "language": "python",
   "name": "python3"
  },
  "language_info": {
   "codemirror_mode": {
    "name": "ipython",
    "version": 3
   },
   "file_extension": ".py",
   "mimetype": "text/x-python",
   "name": "python",
   "nbconvert_exporter": "python",
   "pygments_lexer": "ipython3",
   "version": "3.10.9"
  }
 },
 "nbformat": 4,
 "nbformat_minor": 5
}
