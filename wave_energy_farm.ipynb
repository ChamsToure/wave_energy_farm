{
  "cells": [
    {
      "cell_type": "markdown",
      "metadata": {
        "id": "view-in-github",
        "colab_type": "text"
      },
      "source": [
        "<a href=\"https://colab.research.google.com/github/ChamsToure/wave_energy_farm/blob/main/wave_energy_farm.ipynb\" target=\"_parent\"><img src=\"https://colab.research.google.com/assets/colab-badge.svg\" alt=\"Open In Colab\"/></a>"
      ]
    },
    {
      "cell_type": "markdown",
      "id": "89a7fffe-64db-4475-b3c8-b75dd409c2af",
      "metadata": {
        "id": "89a7fffe-64db-4475-b3c8-b75dd409c2af"
      },
      "source": [
        "# General information\n",
        "\n",
        "Wave energy is a rapidly advancing and promising renewable energy source that holds great potential for addressing the challenges of global warming and climate change. However, optimizing energy output in large wave farms presents a complex problem due to the expensive calculations required to account for hydrodynamic interactions between wave energy converters (WECs). Developing a fast and accurate surrogate model is crucial to overcome these challenges. In light of this, we have compiled an extensive WEC dataset that includes 54,000 and 9,600 configurations involving 49 and 100 WECs, coordination, power, q-factor, and total farm power output. The dataset was derived from a study published at the GECCO conference and received the prestigious Best Paper award. We want to acknowledge the support of the University of Adelaide Phoenix HPC service in conducting this research. For more details, please refer to the following link: https://dl.acm.org/doi/abs/10.1145/3377930.3390235.\n",
        "\n",
        "## Features\n",
        "The dataset includes 4 CSV files for 49 and 100 wave energy converters based on Perth and Sydney wave scenarios. The main goal is predicting the total power output of the wave farm based on the coordination of WECs (X1, Y1, X2, Y2,..., Xn, Yn). As the second plan, predicting the power output of each converter in the wave farm can be interesting.\n",
        "\n",
        "* X and Y - coordinates\n",
        "* Power - individual power\n",
        "* total power - total power of all the WECs\n",
        "* qW - q-factor\n",
        "\n",
        "## Findings\n",
        "There are many duplicates in the dataset (4540).\n",
        "\n",
        "## Goal\n",
        "* Predicting the total power output of the wave farm based on the coordination of WECs\n",
        "* Predicting the power ouput of each converter in the wave farm\n",
        "\n",
        "## Candidates for inaccuracy\n",
        "* To small dataset -> need more data\n",
        "* Not the right regression model -> Test many different regression models and measure their accuracy\n",
        "\n",
        "## Potential Problems\n",
        "* Cannot inference based on geodata from only 4 locations, especially with a relatively small dataset.\n",
        "* In what timeframe was the data collected? Becuase you cannot predict the total power over the year if it is also dependent of the seasons\n",
        "* Why are there so many duplicates?\n",
        "\n",
        "## Instances\n",
        "Each instance represents the coordination of wave energy converters in a wave farm plus the total power output and individual power of each converter and q-factor.\n",
        "\n",
        "## Source\n",
        "https://archive.ics.uci.edu/dataset/882/large-scale+wave+energy+farm\n",
        "Neshat, Mehdi, Bradley Alexander, Nataliia Y. Sergiienko, and Markus Wagner. \"Optimisation of large wave farms using a multi-strategy evolutionary framework.\" In Proceedings of the 2020 Genetic and Evolutionary Computation Conference, pp. 1150-1158. 2020.\n",
        "Link to research: https://dl.acm.org/doi/abs/10.1145/3377930.3390235."
      ]
    },
    {
      "cell_type": "code",
      "execution_count": 2,
      "id": "7f4c55d0-0eb8-419a-8ec1-b84a375d2fd5",
      "metadata": {
        "id": "7f4c55d0-0eb8-419a-8ec1-b84a375d2fd5"
      },
      "outputs": [],
      "source": [
        "import numpy as np\n",
        "import pandas as pd\n",
        "import matplotlib.pyplot as plt\n",
        "from sklearn.model_selection import train_test_split,cross_val_score\n",
        "from sklearn.linear_model import LinearRegression\n",
        "from sklearn.preprocessing import PolynomialFeatures\n",
        "from sklearn.tree import DecisionTreeRegressor\n",
        "from sklearn.ensemble import RandomForestRegressor\n",
        "from sklearn.metrics import mean_squared_error\n"
      ]
    },
    {
      "cell_type": "code",
      "source": [
        "from google.colab import drive\n",
        "drive.mount('/content/drive')"
      ],
      "metadata": {
        "colab": {
          "base_uri": "https://localhost:8080/"
        },
        "id": "ZBGQiDRblGJo",
        "outputId": "85d9854a-335f-456f-9664-820ff88ef8a9"
      },
      "id": "ZBGQiDRblGJo",
      "execution_count": 3,
      "outputs": [
        {
          "output_type": "stream",
          "name": "stdout",
          "text": [
            "Mounted at /content/drive\n"
          ]
        }
      ]
    },
    {
      "cell_type": "code",
      "execution_count": 4,
      "id": "7eca48d8-d376-4ce2-ba28-eba4b863a631",
      "metadata": {
        "id": "7eca48d8-d376-4ce2-ba28-eba4b863a631"
      },
      "outputs": [],
      "source": [
        "dataset = pd.read_csv(\"/content/drive/MyDrive/Ai/WEC_Perth_100.csv\")"
      ]
    },
    {
      "cell_type": "markdown",
      "id": "bdca668a-276c-45f9-b329-15e2d790700c",
      "metadata": {
        "id": "bdca668a-276c-45f9-b329-15e2d790700c"
      },
      "source": [
        "## Preprocessing"
      ]
    },
    {
      "cell_type": "code",
      "execution_count": 6,
      "id": "4f2bb412-98cb-4d99-85ca-678f4e3322a9",
      "metadata": {
        "colab": {
          "base_uri": "https://localhost:8080/"
        },
        "id": "4f2bb412-98cb-4d99-85ca-678f4e3322a9",
        "outputId": "e5f6fe9f-a5f2-4939-e7f6-888e6f2bc9ed"
      },
      "outputs": [
        {
          "output_type": "execute_result",
          "data": {
            "text/plain": [
              "(7277, 302)"
            ]
          },
          "metadata": {},
          "execution_count": 6
        }
      ],
      "source": [
        "dataset.shape"
      ]
    },
    {
      "cell_type": "code",
      "execution_count": 7,
      "id": "a6b10b95-0eb7-4b60-b48a-1255fc420433",
      "metadata": {
        "colab": {
          "base_uri": "https://localhost:8080/",
          "height": 255
        },
        "id": "a6b10b95-0eb7-4b60-b48a-1255fc420433",
        "outputId": "8c0a51d4-3f2c-4da5-db9b-c180f84ef77a"
      },
      "outputs": [
        {
          "output_type": "execute_result",
          "data": {
            "text/plain": [
              "       X1   Y1      X2     Y2      X3     Y3      X4      Y4      X5   Y5  \\\n",
              "0  1000.0  0.0  946.08  37.42  889.67  74.76  832.02  112.10  1250.0  1.0   \n",
              "1   800.0  0.0  746.04  37.38  689.81  74.79  632.43  111.97  1200.0  0.0   \n",
              "2   600.0  0.0  545.98  37.50  489.87  74.95  432.52  112.15   650.0  0.0   \n",
              "3   600.0  0.0  546.09  37.41  489.70  74.76  432.35  111.90   800.0  0.0   \n",
              "4   600.0  0.0  545.95  37.52  489.69  74.99  432.46  112.16   800.0  0.0   \n",
              "\n",
              "   ...   Power93    Power94    Power95    Power96   Power97    Power98  \\\n",
              "0  ...  98711.68  102872.82  100743.44   99259.87  98909.46  101388.37   \n",
              "1  ...  96351.38  102253.02  101744.20   99482.45  99304.59  101953.23   \n",
              "2  ...  96985.29  102472.80  101757.63   99429.45  98709.14  101312.44   \n",
              "3  ...  76823.85   88005.41   98779.92  100260.30  98744.25  101144.58   \n",
              "4  ...  98195.95  102874.16  100256.15   99221.12  98969.54  101389.77   \n",
              "\n",
              "     Power99  Power100    qW  Total_Power  \n",
              "0  101025.35  98676.66  0.75   7257985.04  \n",
              "1  100878.42  99508.49  0.74   7103374.61  \n",
              "2  100979.86  99024.16  0.76   7335380.64  \n",
              "3  100835.43  98915.38  0.75   7187769.87  \n",
              "4  100924.02  98796.00  0.75   7260222.61  \n",
              "\n",
              "[5 rows x 302 columns]"
            ],
            "text/html": [
              "\n",
              "  <div id=\"df-57f4233f-72e8-4caf-9ff8-98fa0d7b9c1f\" class=\"colab-df-container\">\n",
              "    <div>\n",
              "<style scoped>\n",
              "    .dataframe tbody tr th:only-of-type {\n",
              "        vertical-align: middle;\n",
              "    }\n",
              "\n",
              "    .dataframe tbody tr th {\n",
              "        vertical-align: top;\n",
              "    }\n",
              "\n",
              "    .dataframe thead th {\n",
              "        text-align: right;\n",
              "    }\n",
              "</style>\n",
              "<table border=\"1\" class=\"dataframe\">\n",
              "  <thead>\n",
              "    <tr style=\"text-align: right;\">\n",
              "      <th></th>\n",
              "      <th>X1</th>\n",
              "      <th>Y1</th>\n",
              "      <th>X2</th>\n",
              "      <th>Y2</th>\n",
              "      <th>X3</th>\n",
              "      <th>Y3</th>\n",
              "      <th>X4</th>\n",
              "      <th>Y4</th>\n",
              "      <th>X5</th>\n",
              "      <th>Y5</th>\n",
              "      <th>...</th>\n",
              "      <th>Power93</th>\n",
              "      <th>Power94</th>\n",
              "      <th>Power95</th>\n",
              "      <th>Power96</th>\n",
              "      <th>Power97</th>\n",
              "      <th>Power98</th>\n",
              "      <th>Power99</th>\n",
              "      <th>Power100</th>\n",
              "      <th>qW</th>\n",
              "      <th>Total_Power</th>\n",
              "    </tr>\n",
              "  </thead>\n",
              "  <tbody>\n",
              "    <tr>\n",
              "      <th>0</th>\n",
              "      <td>1000.0</td>\n",
              "      <td>0.0</td>\n",
              "      <td>946.08</td>\n",
              "      <td>37.42</td>\n",
              "      <td>889.67</td>\n",
              "      <td>74.76</td>\n",
              "      <td>832.02</td>\n",
              "      <td>112.10</td>\n",
              "      <td>1250.0</td>\n",
              "      <td>1.0</td>\n",
              "      <td>...</td>\n",
              "      <td>98711.68</td>\n",
              "      <td>102872.82</td>\n",
              "      <td>100743.44</td>\n",
              "      <td>99259.87</td>\n",
              "      <td>98909.46</td>\n",
              "      <td>101388.37</td>\n",
              "      <td>101025.35</td>\n",
              "      <td>98676.66</td>\n",
              "      <td>0.75</td>\n",
              "      <td>7257985.04</td>\n",
              "    </tr>\n",
              "    <tr>\n",
              "      <th>1</th>\n",
              "      <td>800.0</td>\n",
              "      <td>0.0</td>\n",
              "      <td>746.04</td>\n",
              "      <td>37.38</td>\n",
              "      <td>689.81</td>\n",
              "      <td>74.79</td>\n",
              "      <td>632.43</td>\n",
              "      <td>111.97</td>\n",
              "      <td>1200.0</td>\n",
              "      <td>0.0</td>\n",
              "      <td>...</td>\n",
              "      <td>96351.38</td>\n",
              "      <td>102253.02</td>\n",
              "      <td>101744.20</td>\n",
              "      <td>99482.45</td>\n",
              "      <td>99304.59</td>\n",
              "      <td>101953.23</td>\n",
              "      <td>100878.42</td>\n",
              "      <td>99508.49</td>\n",
              "      <td>0.74</td>\n",
              "      <td>7103374.61</td>\n",
              "    </tr>\n",
              "    <tr>\n",
              "      <th>2</th>\n",
              "      <td>600.0</td>\n",
              "      <td>0.0</td>\n",
              "      <td>545.98</td>\n",
              "      <td>37.50</td>\n",
              "      <td>489.87</td>\n",
              "      <td>74.95</td>\n",
              "      <td>432.52</td>\n",
              "      <td>112.15</td>\n",
              "      <td>650.0</td>\n",
              "      <td>0.0</td>\n",
              "      <td>...</td>\n",
              "      <td>96985.29</td>\n",
              "      <td>102472.80</td>\n",
              "      <td>101757.63</td>\n",
              "      <td>99429.45</td>\n",
              "      <td>98709.14</td>\n",
              "      <td>101312.44</td>\n",
              "      <td>100979.86</td>\n",
              "      <td>99024.16</td>\n",
              "      <td>0.76</td>\n",
              "      <td>7335380.64</td>\n",
              "    </tr>\n",
              "    <tr>\n",
              "      <th>3</th>\n",
              "      <td>600.0</td>\n",
              "      <td>0.0</td>\n",
              "      <td>546.09</td>\n",
              "      <td>37.41</td>\n",
              "      <td>489.70</td>\n",
              "      <td>74.76</td>\n",
              "      <td>432.35</td>\n",
              "      <td>111.90</td>\n",
              "      <td>800.0</td>\n",
              "      <td>0.0</td>\n",
              "      <td>...</td>\n",
              "      <td>76823.85</td>\n",
              "      <td>88005.41</td>\n",
              "      <td>98779.92</td>\n",
              "      <td>100260.30</td>\n",
              "      <td>98744.25</td>\n",
              "      <td>101144.58</td>\n",
              "      <td>100835.43</td>\n",
              "      <td>98915.38</td>\n",
              "      <td>0.75</td>\n",
              "      <td>7187769.87</td>\n",
              "    </tr>\n",
              "    <tr>\n",
              "      <th>4</th>\n",
              "      <td>600.0</td>\n",
              "      <td>0.0</td>\n",
              "      <td>545.95</td>\n",
              "      <td>37.52</td>\n",
              "      <td>489.69</td>\n",
              "      <td>74.99</td>\n",
              "      <td>432.46</td>\n",
              "      <td>112.16</td>\n",
              "      <td>800.0</td>\n",
              "      <td>0.0</td>\n",
              "      <td>...</td>\n",
              "      <td>98195.95</td>\n",
              "      <td>102874.16</td>\n",
              "      <td>100256.15</td>\n",
              "      <td>99221.12</td>\n",
              "      <td>98969.54</td>\n",
              "      <td>101389.77</td>\n",
              "      <td>100924.02</td>\n",
              "      <td>98796.00</td>\n",
              "      <td>0.75</td>\n",
              "      <td>7260222.61</td>\n",
              "    </tr>\n",
              "  </tbody>\n",
              "</table>\n",
              "<p>5 rows × 302 columns</p>\n",
              "</div>\n",
              "    <div class=\"colab-df-buttons\">\n",
              "\n",
              "  <div class=\"colab-df-container\">\n",
              "    <button class=\"colab-df-convert\" onclick=\"convertToInteractive('df-57f4233f-72e8-4caf-9ff8-98fa0d7b9c1f')\"\n",
              "            title=\"Convert this dataframe to an interactive table.\"\n",
              "            style=\"display:none;\">\n",
              "\n",
              "  <svg xmlns=\"http://www.w3.org/2000/svg\" height=\"24px\" viewBox=\"0 -960 960 960\">\n",
              "    <path d=\"M120-120v-720h720v720H120Zm60-500h600v-160H180v160Zm220 220h160v-160H400v160Zm0 220h160v-160H400v160ZM180-400h160v-160H180v160Zm440 0h160v-160H620v160ZM180-180h160v-160H180v160Zm440 0h160v-160H620v160Z\"/>\n",
              "  </svg>\n",
              "    </button>\n",
              "\n",
              "  <style>\n",
              "    .colab-df-container {\n",
              "      display:flex;\n",
              "      gap: 12px;\n",
              "    }\n",
              "\n",
              "    .colab-df-convert {\n",
              "      background-color: #E8F0FE;\n",
              "      border: none;\n",
              "      border-radius: 50%;\n",
              "      cursor: pointer;\n",
              "      display: none;\n",
              "      fill: #1967D2;\n",
              "      height: 32px;\n",
              "      padding: 0 0 0 0;\n",
              "      width: 32px;\n",
              "    }\n",
              "\n",
              "    .colab-df-convert:hover {\n",
              "      background-color: #E2EBFA;\n",
              "      box-shadow: 0px 1px 2px rgba(60, 64, 67, 0.3), 0px 1px 3px 1px rgba(60, 64, 67, 0.15);\n",
              "      fill: #174EA6;\n",
              "    }\n",
              "\n",
              "    .colab-df-buttons div {\n",
              "      margin-bottom: 4px;\n",
              "    }\n",
              "\n",
              "    [theme=dark] .colab-df-convert {\n",
              "      background-color: #3B4455;\n",
              "      fill: #D2E3FC;\n",
              "    }\n",
              "\n",
              "    [theme=dark] .colab-df-convert:hover {\n",
              "      background-color: #434B5C;\n",
              "      box-shadow: 0px 1px 3px 1px rgba(0, 0, 0, 0.15);\n",
              "      filter: drop-shadow(0px 1px 2px rgba(0, 0, 0, 0.3));\n",
              "      fill: #FFFFFF;\n",
              "    }\n",
              "  </style>\n",
              "\n",
              "    <script>\n",
              "      const buttonEl =\n",
              "        document.querySelector('#df-57f4233f-72e8-4caf-9ff8-98fa0d7b9c1f button.colab-df-convert');\n",
              "      buttonEl.style.display =\n",
              "        google.colab.kernel.accessAllowed ? 'block' : 'none';\n",
              "\n",
              "      async function convertToInteractive(key) {\n",
              "        const element = document.querySelector('#df-57f4233f-72e8-4caf-9ff8-98fa0d7b9c1f');\n",
              "        const dataTable =\n",
              "          await google.colab.kernel.invokeFunction('convertToInteractive',\n",
              "                                                    [key], {});\n",
              "        if (!dataTable) return;\n",
              "\n",
              "        const docLinkHtml = 'Like what you see? Visit the ' +\n",
              "          '<a target=\"_blank\" href=https://colab.research.google.com/notebooks/data_table.ipynb>data table notebook</a>'\n",
              "          + ' to learn more about interactive tables.';\n",
              "        element.innerHTML = '';\n",
              "        dataTable['output_type'] = 'display_data';\n",
              "        await google.colab.output.renderOutput(dataTable, element);\n",
              "        const docLink = document.createElement('div');\n",
              "        docLink.innerHTML = docLinkHtml;\n",
              "        element.appendChild(docLink);\n",
              "      }\n",
              "    </script>\n",
              "  </div>\n",
              "\n",
              "\n",
              "<div id=\"df-65106a80-9472-448d-9233-b187a7676c48\">\n",
              "  <button class=\"colab-df-quickchart\" onclick=\"quickchart('df-65106a80-9472-448d-9233-b187a7676c48')\"\n",
              "            title=\"Suggest charts.\"\n",
              "            style=\"display:none;\">\n",
              "\n",
              "<svg xmlns=\"http://www.w3.org/2000/svg\" height=\"24px\"viewBox=\"0 0 24 24\"\n",
              "     width=\"24px\">\n",
              "    <g>\n",
              "        <path d=\"M19 3H5c-1.1 0-2 .9-2 2v14c0 1.1.9 2 2 2h14c1.1 0 2-.9 2-2V5c0-1.1-.9-2-2-2zM9 17H7v-7h2v7zm4 0h-2V7h2v10zm4 0h-2v-4h2v4z\"/>\n",
              "    </g>\n",
              "</svg>\n",
              "  </button>\n",
              "\n",
              "<style>\n",
              "  .colab-df-quickchart {\n",
              "      --bg-color: #E8F0FE;\n",
              "      --fill-color: #1967D2;\n",
              "      --hover-bg-color: #E2EBFA;\n",
              "      --hover-fill-color: #174EA6;\n",
              "      --disabled-fill-color: #AAA;\n",
              "      --disabled-bg-color: #DDD;\n",
              "  }\n",
              "\n",
              "  [theme=dark] .colab-df-quickchart {\n",
              "      --bg-color: #3B4455;\n",
              "      --fill-color: #D2E3FC;\n",
              "      --hover-bg-color: #434B5C;\n",
              "      --hover-fill-color: #FFFFFF;\n",
              "      --disabled-bg-color: #3B4455;\n",
              "      --disabled-fill-color: #666;\n",
              "  }\n",
              "\n",
              "  .colab-df-quickchart {\n",
              "    background-color: var(--bg-color);\n",
              "    border: none;\n",
              "    border-radius: 50%;\n",
              "    cursor: pointer;\n",
              "    display: none;\n",
              "    fill: var(--fill-color);\n",
              "    height: 32px;\n",
              "    padding: 0;\n",
              "    width: 32px;\n",
              "  }\n",
              "\n",
              "  .colab-df-quickchart:hover {\n",
              "    background-color: var(--hover-bg-color);\n",
              "    box-shadow: 0 1px 2px rgba(60, 64, 67, 0.3), 0 1px 3px 1px rgba(60, 64, 67, 0.15);\n",
              "    fill: var(--button-hover-fill-color);\n",
              "  }\n",
              "\n",
              "  .colab-df-quickchart-complete:disabled,\n",
              "  .colab-df-quickchart-complete:disabled:hover {\n",
              "    background-color: var(--disabled-bg-color);\n",
              "    fill: var(--disabled-fill-color);\n",
              "    box-shadow: none;\n",
              "  }\n",
              "\n",
              "  .colab-df-spinner {\n",
              "    border: 2px solid var(--fill-color);\n",
              "    border-color: transparent;\n",
              "    border-bottom-color: var(--fill-color);\n",
              "    animation:\n",
              "      spin 1s steps(1) infinite;\n",
              "  }\n",
              "\n",
              "  @keyframes spin {\n",
              "    0% {\n",
              "      border-color: transparent;\n",
              "      border-bottom-color: var(--fill-color);\n",
              "      border-left-color: var(--fill-color);\n",
              "    }\n",
              "    20% {\n",
              "      border-color: transparent;\n",
              "      border-left-color: var(--fill-color);\n",
              "      border-top-color: var(--fill-color);\n",
              "    }\n",
              "    30% {\n",
              "      border-color: transparent;\n",
              "      border-left-color: var(--fill-color);\n",
              "      border-top-color: var(--fill-color);\n",
              "      border-right-color: var(--fill-color);\n",
              "    }\n",
              "    40% {\n",
              "      border-color: transparent;\n",
              "      border-right-color: var(--fill-color);\n",
              "      border-top-color: var(--fill-color);\n",
              "    }\n",
              "    60% {\n",
              "      border-color: transparent;\n",
              "      border-right-color: var(--fill-color);\n",
              "    }\n",
              "    80% {\n",
              "      border-color: transparent;\n",
              "      border-right-color: var(--fill-color);\n",
              "      border-bottom-color: var(--fill-color);\n",
              "    }\n",
              "    90% {\n",
              "      border-color: transparent;\n",
              "      border-bottom-color: var(--fill-color);\n",
              "    }\n",
              "  }\n",
              "</style>\n",
              "\n",
              "  <script>\n",
              "    async function quickchart(key) {\n",
              "      const quickchartButtonEl =\n",
              "        document.querySelector('#' + key + ' button');\n",
              "      quickchartButtonEl.disabled = true;  // To prevent multiple clicks.\n",
              "      quickchartButtonEl.classList.add('colab-df-spinner');\n",
              "      try {\n",
              "        const charts = await google.colab.kernel.invokeFunction(\n",
              "            'suggestCharts', [key], {});\n",
              "      } catch (error) {\n",
              "        console.error('Error during call to suggestCharts:', error);\n",
              "      }\n",
              "      quickchartButtonEl.classList.remove('colab-df-spinner');\n",
              "      quickchartButtonEl.classList.add('colab-df-quickchart-complete');\n",
              "    }\n",
              "    (() => {\n",
              "      let quickchartButtonEl =\n",
              "        document.querySelector('#df-65106a80-9472-448d-9233-b187a7676c48 button');\n",
              "      quickchartButtonEl.style.display =\n",
              "        google.colab.kernel.accessAllowed ? 'block' : 'none';\n",
              "    })();\n",
              "  </script>\n",
              "</div>\n",
              "    </div>\n",
              "  </div>\n"
            ]
          },
          "metadata": {},
          "execution_count": 7
        }
      ],
      "source": [
        "dataset.head()"
      ]
    },
    {
      "cell_type": "markdown",
      "id": "16a88bd3-fe0a-48a9-b060-ccc3bd14126c",
      "metadata": {
        "id": "16a88bd3-fe0a-48a9-b060-ccc3bd14126c"
      },
      "source": [
        "### Remove Duplicates"
      ]
    },
    {
      "cell_type": "code",
      "execution_count": 5,
      "id": "c6826635-d9e8-4a2a-aaf0-7a7ed4ed384a",
      "metadata": {
        "id": "c6826635-d9e8-4a2a-aaf0-7a7ed4ed384a"
      },
      "outputs": [],
      "source": [
        "dataset = dataset.drop_duplicates()"
      ]
    },
    {
      "cell_type": "code",
      "execution_count": 9,
      "id": "fda1d395-c5de-4a1d-98a0-8f5695cab1e3",
      "metadata": {
        "colab": {
          "base_uri": "https://localhost:8080/"
        },
        "id": "fda1d395-c5de-4a1d-98a0-8f5695cab1e3",
        "outputId": "014f4eb5-03b5-4cac-851d-626cb0060389"
      },
      "outputs": [
        {
          "output_type": "execute_result",
          "data": {
            "text/plain": [
              "(2737, 302)"
            ]
          },
          "metadata": {},
          "execution_count": 9
        }
      ],
      "source": [
        "dataset.shape"
      ]
    },
    {
      "cell_type": "markdown",
      "id": "c9f54f69-0af6-40d1-805a-3d1ca1dab90a",
      "metadata": {
        "id": "c9f54f69-0af6-40d1-805a-3d1ca1dab90a"
      },
      "source": [
        "### Check for null values"
      ]
    },
    {
      "cell_type": "code",
      "execution_count": 10,
      "id": "fff37c03-f4da-42a5-88ee-c20bda0ac92e",
      "metadata": {
        "colab": {
          "base_uri": "https://localhost:8080/"
        },
        "id": "fff37c03-f4da-42a5-88ee-c20bda0ac92e",
        "outputId": "8b15e540-1331-4b9f-a1ca-5ae6cae60663"
      },
      "outputs": [
        {
          "output_type": "execute_result",
          "data": {
            "text/plain": [
              "0"
            ]
          },
          "metadata": {},
          "execution_count": 10
        }
      ],
      "source": [
        "#Check how many null values are in the entire dataset\n",
        "dataset.isnull().sum().sum()"
      ]
    },
    {
      "cell_type": "markdown",
      "id": "8fa58e91-adfc-4d1b-bdff-7292c1e1fadc",
      "metadata": {
        "id": "8fa58e91-adfc-4d1b-bdff-7292c1e1fadc"
      },
      "source": [
        "## Analysis"
      ]
    },
    {
      "cell_type": "code",
      "execution_count": 11,
      "id": "7008cd62-6183-4251-8011-8e4f5f08c7cb",
      "metadata": {
        "id": "7008cd62-6183-4251-8011-8e4f5f08c7cb"
      },
      "outputs": [],
      "source": [
        "columns = list(dataset)"
      ]
    },
    {
      "cell_type": "markdown",
      "id": "a3fcbaf4-cc2a-4d46-abb3-95a46ac0587c",
      "metadata": {
        "id": "a3fcbaf4-cc2a-4d46-abb3-95a46ac0587c"
      },
      "source": [
        "### Check for outliers"
      ]
    },
    {
      "cell_type": "code",
      "execution_count": 12,
      "id": "745f46ca-c4e2-45d4-9395-2f6910fd4dc6",
      "metadata": {
        "colab": {
          "base_uri": "https://localhost:8080/",
          "height": 349
        },
        "id": "745f46ca-c4e2-45d4-9395-2f6910fd4dc6",
        "outputId": "331e07d2-97c4-4ce2-e391-4247634c1e1c"
      },
      "outputs": [
        {
          "output_type": "execute_result",
          "data": {
            "text/plain": [
              "                X1           Y1           X2           Y2           X3  \\\n",
              "count  2737.000000  2737.000000  2737.000000  2737.000000  2737.000000   \n",
              "mean    352.430815    28.443796   376.587603    48.513548   390.824538   \n",
              "std     293.777257    97.276123   271.069835    59.577117   282.745074   \n",
              "min       0.000000     0.000000     0.000000     0.000000     0.000000   \n",
              "25%     129.200000     0.000000   146.150000    37.390000    89.980000   \n",
              "50%     200.000000     0.000000   316.740000    37.490000   324.570000   \n",
              "75%     600.000000     0.000000   546.040000    37.550000   489.820000   \n",
              "max    1400.000000  1353.550000  1400.000000  1277.640000  1414.000000   \n",
              "\n",
              "                Y3           X4           Y4          X5           Y5  ...  \\\n",
              "count  2737.000000  2737.000000  2737.000000  2737.00000  2737.000000  ...   \n",
              "mean     67.395784   382.368316   100.883800   748.81297    31.299488  ...   \n",
              "std      45.932165   299.046854    57.995795   285.37046    73.050856  ...   \n",
              "min       0.000000     0.000000     0.000000     0.00000     0.000000  ...   \n",
              "25%      65.990000    32.640000    98.430000   600.00000     0.000000  ...   \n",
              "50%      74.880000   432.240000   112.070000   661.08000     0.000000  ...   \n",
              "75%      75.010000   514.460000   112.240000  1000.00000    40.990000  ...   \n",
              "max     698.010000  1400.000000  1035.090000  1413.39000   910.420000  ...   \n",
              "\n",
              "             Power93        Power94        Power95        Power96  \\\n",
              "count    2737.000000    2737.000000    2737.000000    2737.000000   \n",
              "mean    88784.392488   94574.215331   97805.710833   97620.391436   \n",
              "std     10396.969817    7717.499315    6250.371796    5975.969268   \n",
              "min     34236.100000   32447.850000   30658.290000   35208.350000   \n",
              "25%     76698.160000   87986.780000   98477.180000   98429.200000   \n",
              "50%     95014.870000   97237.470000   98785.020000   99601.280000   \n",
              "75%     98339.870000  102029.820000  101089.720000  100267.940000   \n",
              "max    103541.860000  104047.690000  104403.690000  104206.780000   \n",
              "\n",
              "             Power97        Power98        Power99       Power100  \\\n",
              "count    2737.000000    2737.000000    2737.000000    2737.000000   \n",
              "mean    97511.043405   98655.269839   98920.618290   97713.614468   \n",
              "std      5045.909333    6408.359410    4689.778147    3966.695051   \n",
              "min     29411.690000   36525.750000   42148.330000   33879.920000   \n",
              "25%     98614.520000   98350.170000   98118.470000   96904.240000   \n",
              "50%     98840.130000  101312.440000  100905.720000   98796.000000   \n",
              "75%     99017.440000  101438.470000  101027.360000   98959.650000   \n",
              "max    103678.570000  102543.340000  102219.050000  101692.770000   \n",
              "\n",
              "                qW   Total_Power  \n",
              "count  2737.000000  2.737000e+03  \n",
              "mean      0.721995  6.959157e+06  \n",
              "std       0.020921  1.998767e+05  \n",
              "min       0.630000  6.099480e+06  \n",
              "25%       0.710000  6.806309e+06  \n",
              "50%       0.720000  6.941249e+06  \n",
              "75%       0.740000  7.129514e+06  \n",
              "max       0.760000  7.364528e+06  \n",
              "\n",
              "[8 rows x 302 columns]"
            ],
            "text/html": [
              "\n",
              "  <div id=\"df-aeee4a5b-b752-4166-9010-242f744777f3\" class=\"colab-df-container\">\n",
              "    <div>\n",
              "<style scoped>\n",
              "    .dataframe tbody tr th:only-of-type {\n",
              "        vertical-align: middle;\n",
              "    }\n",
              "\n",
              "    .dataframe tbody tr th {\n",
              "        vertical-align: top;\n",
              "    }\n",
              "\n",
              "    .dataframe thead th {\n",
              "        text-align: right;\n",
              "    }\n",
              "</style>\n",
              "<table border=\"1\" class=\"dataframe\">\n",
              "  <thead>\n",
              "    <tr style=\"text-align: right;\">\n",
              "      <th></th>\n",
              "      <th>X1</th>\n",
              "      <th>Y1</th>\n",
              "      <th>X2</th>\n",
              "      <th>Y2</th>\n",
              "      <th>X3</th>\n",
              "      <th>Y3</th>\n",
              "      <th>X4</th>\n",
              "      <th>Y4</th>\n",
              "      <th>X5</th>\n",
              "      <th>Y5</th>\n",
              "      <th>...</th>\n",
              "      <th>Power93</th>\n",
              "      <th>Power94</th>\n",
              "      <th>Power95</th>\n",
              "      <th>Power96</th>\n",
              "      <th>Power97</th>\n",
              "      <th>Power98</th>\n",
              "      <th>Power99</th>\n",
              "      <th>Power100</th>\n",
              "      <th>qW</th>\n",
              "      <th>Total_Power</th>\n",
              "    </tr>\n",
              "  </thead>\n",
              "  <tbody>\n",
              "    <tr>\n",
              "      <th>count</th>\n",
              "      <td>2737.000000</td>\n",
              "      <td>2737.000000</td>\n",
              "      <td>2737.000000</td>\n",
              "      <td>2737.000000</td>\n",
              "      <td>2737.000000</td>\n",
              "      <td>2737.000000</td>\n",
              "      <td>2737.000000</td>\n",
              "      <td>2737.000000</td>\n",
              "      <td>2737.00000</td>\n",
              "      <td>2737.000000</td>\n",
              "      <td>...</td>\n",
              "      <td>2737.000000</td>\n",
              "      <td>2737.000000</td>\n",
              "      <td>2737.000000</td>\n",
              "      <td>2737.000000</td>\n",
              "      <td>2737.000000</td>\n",
              "      <td>2737.000000</td>\n",
              "      <td>2737.000000</td>\n",
              "      <td>2737.000000</td>\n",
              "      <td>2737.000000</td>\n",
              "      <td>2.737000e+03</td>\n",
              "    </tr>\n",
              "    <tr>\n",
              "      <th>mean</th>\n",
              "      <td>352.430815</td>\n",
              "      <td>28.443796</td>\n",
              "      <td>376.587603</td>\n",
              "      <td>48.513548</td>\n",
              "      <td>390.824538</td>\n",
              "      <td>67.395784</td>\n",
              "      <td>382.368316</td>\n",
              "      <td>100.883800</td>\n",
              "      <td>748.81297</td>\n",
              "      <td>31.299488</td>\n",
              "      <td>...</td>\n",
              "      <td>88784.392488</td>\n",
              "      <td>94574.215331</td>\n",
              "      <td>97805.710833</td>\n",
              "      <td>97620.391436</td>\n",
              "      <td>97511.043405</td>\n",
              "      <td>98655.269839</td>\n",
              "      <td>98920.618290</td>\n",
              "      <td>97713.614468</td>\n",
              "      <td>0.721995</td>\n",
              "      <td>6.959157e+06</td>\n",
              "    </tr>\n",
              "    <tr>\n",
              "      <th>std</th>\n",
              "      <td>293.777257</td>\n",
              "      <td>97.276123</td>\n",
              "      <td>271.069835</td>\n",
              "      <td>59.577117</td>\n",
              "      <td>282.745074</td>\n",
              "      <td>45.932165</td>\n",
              "      <td>299.046854</td>\n",
              "      <td>57.995795</td>\n",
              "      <td>285.37046</td>\n",
              "      <td>73.050856</td>\n",
              "      <td>...</td>\n",
              "      <td>10396.969817</td>\n",
              "      <td>7717.499315</td>\n",
              "      <td>6250.371796</td>\n",
              "      <td>5975.969268</td>\n",
              "      <td>5045.909333</td>\n",
              "      <td>6408.359410</td>\n",
              "      <td>4689.778147</td>\n",
              "      <td>3966.695051</td>\n",
              "      <td>0.020921</td>\n",
              "      <td>1.998767e+05</td>\n",
              "    </tr>\n",
              "    <tr>\n",
              "      <th>min</th>\n",
              "      <td>0.000000</td>\n",
              "      <td>0.000000</td>\n",
              "      <td>0.000000</td>\n",
              "      <td>0.000000</td>\n",
              "      <td>0.000000</td>\n",
              "      <td>0.000000</td>\n",
              "      <td>0.000000</td>\n",
              "      <td>0.000000</td>\n",
              "      <td>0.00000</td>\n",
              "      <td>0.000000</td>\n",
              "      <td>...</td>\n",
              "      <td>34236.100000</td>\n",
              "      <td>32447.850000</td>\n",
              "      <td>30658.290000</td>\n",
              "      <td>35208.350000</td>\n",
              "      <td>29411.690000</td>\n",
              "      <td>36525.750000</td>\n",
              "      <td>42148.330000</td>\n",
              "      <td>33879.920000</td>\n",
              "      <td>0.630000</td>\n",
              "      <td>6.099480e+06</td>\n",
              "    </tr>\n",
              "    <tr>\n",
              "      <th>25%</th>\n",
              "      <td>129.200000</td>\n",
              "      <td>0.000000</td>\n",
              "      <td>146.150000</td>\n",
              "      <td>37.390000</td>\n",
              "      <td>89.980000</td>\n",
              "      <td>65.990000</td>\n",
              "      <td>32.640000</td>\n",
              "      <td>98.430000</td>\n",
              "      <td>600.00000</td>\n",
              "      <td>0.000000</td>\n",
              "      <td>...</td>\n",
              "      <td>76698.160000</td>\n",
              "      <td>87986.780000</td>\n",
              "      <td>98477.180000</td>\n",
              "      <td>98429.200000</td>\n",
              "      <td>98614.520000</td>\n",
              "      <td>98350.170000</td>\n",
              "      <td>98118.470000</td>\n",
              "      <td>96904.240000</td>\n",
              "      <td>0.710000</td>\n",
              "      <td>6.806309e+06</td>\n",
              "    </tr>\n",
              "    <tr>\n",
              "      <th>50%</th>\n",
              "      <td>200.000000</td>\n",
              "      <td>0.000000</td>\n",
              "      <td>316.740000</td>\n",
              "      <td>37.490000</td>\n",
              "      <td>324.570000</td>\n",
              "      <td>74.880000</td>\n",
              "      <td>432.240000</td>\n",
              "      <td>112.070000</td>\n",
              "      <td>661.08000</td>\n",
              "      <td>0.000000</td>\n",
              "      <td>...</td>\n",
              "      <td>95014.870000</td>\n",
              "      <td>97237.470000</td>\n",
              "      <td>98785.020000</td>\n",
              "      <td>99601.280000</td>\n",
              "      <td>98840.130000</td>\n",
              "      <td>101312.440000</td>\n",
              "      <td>100905.720000</td>\n",
              "      <td>98796.000000</td>\n",
              "      <td>0.720000</td>\n",
              "      <td>6.941249e+06</td>\n",
              "    </tr>\n",
              "    <tr>\n",
              "      <th>75%</th>\n",
              "      <td>600.000000</td>\n",
              "      <td>0.000000</td>\n",
              "      <td>546.040000</td>\n",
              "      <td>37.550000</td>\n",
              "      <td>489.820000</td>\n",
              "      <td>75.010000</td>\n",
              "      <td>514.460000</td>\n",
              "      <td>112.240000</td>\n",
              "      <td>1000.00000</td>\n",
              "      <td>40.990000</td>\n",
              "      <td>...</td>\n",
              "      <td>98339.870000</td>\n",
              "      <td>102029.820000</td>\n",
              "      <td>101089.720000</td>\n",
              "      <td>100267.940000</td>\n",
              "      <td>99017.440000</td>\n",
              "      <td>101438.470000</td>\n",
              "      <td>101027.360000</td>\n",
              "      <td>98959.650000</td>\n",
              "      <td>0.740000</td>\n",
              "      <td>7.129514e+06</td>\n",
              "    </tr>\n",
              "    <tr>\n",
              "      <th>max</th>\n",
              "      <td>1400.000000</td>\n",
              "      <td>1353.550000</td>\n",
              "      <td>1400.000000</td>\n",
              "      <td>1277.640000</td>\n",
              "      <td>1414.000000</td>\n",
              "      <td>698.010000</td>\n",
              "      <td>1400.000000</td>\n",
              "      <td>1035.090000</td>\n",
              "      <td>1413.39000</td>\n",
              "      <td>910.420000</td>\n",
              "      <td>...</td>\n",
              "      <td>103541.860000</td>\n",
              "      <td>104047.690000</td>\n",
              "      <td>104403.690000</td>\n",
              "      <td>104206.780000</td>\n",
              "      <td>103678.570000</td>\n",
              "      <td>102543.340000</td>\n",
              "      <td>102219.050000</td>\n",
              "      <td>101692.770000</td>\n",
              "      <td>0.760000</td>\n",
              "      <td>7.364528e+06</td>\n",
              "    </tr>\n",
              "  </tbody>\n",
              "</table>\n",
              "<p>8 rows × 302 columns</p>\n",
              "</div>\n",
              "    <div class=\"colab-df-buttons\">\n",
              "\n",
              "  <div class=\"colab-df-container\">\n",
              "    <button class=\"colab-df-convert\" onclick=\"convertToInteractive('df-aeee4a5b-b752-4166-9010-242f744777f3')\"\n",
              "            title=\"Convert this dataframe to an interactive table.\"\n",
              "            style=\"display:none;\">\n",
              "\n",
              "  <svg xmlns=\"http://www.w3.org/2000/svg\" height=\"24px\" viewBox=\"0 -960 960 960\">\n",
              "    <path d=\"M120-120v-720h720v720H120Zm60-500h600v-160H180v160Zm220 220h160v-160H400v160Zm0 220h160v-160H400v160ZM180-400h160v-160H180v160Zm440 0h160v-160H620v160ZM180-180h160v-160H180v160Zm440 0h160v-160H620v160Z\"/>\n",
              "  </svg>\n",
              "    </button>\n",
              "\n",
              "  <style>\n",
              "    .colab-df-container {\n",
              "      display:flex;\n",
              "      gap: 12px;\n",
              "    }\n",
              "\n",
              "    .colab-df-convert {\n",
              "      background-color: #E8F0FE;\n",
              "      border: none;\n",
              "      border-radius: 50%;\n",
              "      cursor: pointer;\n",
              "      display: none;\n",
              "      fill: #1967D2;\n",
              "      height: 32px;\n",
              "      padding: 0 0 0 0;\n",
              "      width: 32px;\n",
              "    }\n",
              "\n",
              "    .colab-df-convert:hover {\n",
              "      background-color: #E2EBFA;\n",
              "      box-shadow: 0px 1px 2px rgba(60, 64, 67, 0.3), 0px 1px 3px 1px rgba(60, 64, 67, 0.15);\n",
              "      fill: #174EA6;\n",
              "    }\n",
              "\n",
              "    .colab-df-buttons div {\n",
              "      margin-bottom: 4px;\n",
              "    }\n",
              "\n",
              "    [theme=dark] .colab-df-convert {\n",
              "      background-color: #3B4455;\n",
              "      fill: #D2E3FC;\n",
              "    }\n",
              "\n",
              "    [theme=dark] .colab-df-convert:hover {\n",
              "      background-color: #434B5C;\n",
              "      box-shadow: 0px 1px 3px 1px rgba(0, 0, 0, 0.15);\n",
              "      filter: drop-shadow(0px 1px 2px rgba(0, 0, 0, 0.3));\n",
              "      fill: #FFFFFF;\n",
              "    }\n",
              "  </style>\n",
              "\n",
              "    <script>\n",
              "      const buttonEl =\n",
              "        document.querySelector('#df-aeee4a5b-b752-4166-9010-242f744777f3 button.colab-df-convert');\n",
              "      buttonEl.style.display =\n",
              "        google.colab.kernel.accessAllowed ? 'block' : 'none';\n",
              "\n",
              "      async function convertToInteractive(key) {\n",
              "        const element = document.querySelector('#df-aeee4a5b-b752-4166-9010-242f744777f3');\n",
              "        const dataTable =\n",
              "          await google.colab.kernel.invokeFunction('convertToInteractive',\n",
              "                                                    [key], {});\n",
              "        if (!dataTable) return;\n",
              "\n",
              "        const docLinkHtml = 'Like what you see? Visit the ' +\n",
              "          '<a target=\"_blank\" href=https://colab.research.google.com/notebooks/data_table.ipynb>data table notebook</a>'\n",
              "          + ' to learn more about interactive tables.';\n",
              "        element.innerHTML = '';\n",
              "        dataTable['output_type'] = 'display_data';\n",
              "        await google.colab.output.renderOutput(dataTable, element);\n",
              "        const docLink = document.createElement('div');\n",
              "        docLink.innerHTML = docLinkHtml;\n",
              "        element.appendChild(docLink);\n",
              "      }\n",
              "    </script>\n",
              "  </div>\n",
              "\n",
              "\n",
              "<div id=\"df-7a8a33d8-451e-46ea-bb0a-eb0b27e09104\">\n",
              "  <button class=\"colab-df-quickchart\" onclick=\"quickchart('df-7a8a33d8-451e-46ea-bb0a-eb0b27e09104')\"\n",
              "            title=\"Suggest charts.\"\n",
              "            style=\"display:none;\">\n",
              "\n",
              "<svg xmlns=\"http://www.w3.org/2000/svg\" height=\"24px\"viewBox=\"0 0 24 24\"\n",
              "     width=\"24px\">\n",
              "    <g>\n",
              "        <path d=\"M19 3H5c-1.1 0-2 .9-2 2v14c0 1.1.9 2 2 2h14c1.1 0 2-.9 2-2V5c0-1.1-.9-2-2-2zM9 17H7v-7h2v7zm4 0h-2V7h2v10zm4 0h-2v-4h2v4z\"/>\n",
              "    </g>\n",
              "</svg>\n",
              "  </button>\n",
              "\n",
              "<style>\n",
              "  .colab-df-quickchart {\n",
              "      --bg-color: #E8F0FE;\n",
              "      --fill-color: #1967D2;\n",
              "      --hover-bg-color: #E2EBFA;\n",
              "      --hover-fill-color: #174EA6;\n",
              "      --disabled-fill-color: #AAA;\n",
              "      --disabled-bg-color: #DDD;\n",
              "  }\n",
              "\n",
              "  [theme=dark] .colab-df-quickchart {\n",
              "      --bg-color: #3B4455;\n",
              "      --fill-color: #D2E3FC;\n",
              "      --hover-bg-color: #434B5C;\n",
              "      --hover-fill-color: #FFFFFF;\n",
              "      --disabled-bg-color: #3B4455;\n",
              "      --disabled-fill-color: #666;\n",
              "  }\n",
              "\n",
              "  .colab-df-quickchart {\n",
              "    background-color: var(--bg-color);\n",
              "    border: none;\n",
              "    border-radius: 50%;\n",
              "    cursor: pointer;\n",
              "    display: none;\n",
              "    fill: var(--fill-color);\n",
              "    height: 32px;\n",
              "    padding: 0;\n",
              "    width: 32px;\n",
              "  }\n",
              "\n",
              "  .colab-df-quickchart:hover {\n",
              "    background-color: var(--hover-bg-color);\n",
              "    box-shadow: 0 1px 2px rgba(60, 64, 67, 0.3), 0 1px 3px 1px rgba(60, 64, 67, 0.15);\n",
              "    fill: var(--button-hover-fill-color);\n",
              "  }\n",
              "\n",
              "  .colab-df-quickchart-complete:disabled,\n",
              "  .colab-df-quickchart-complete:disabled:hover {\n",
              "    background-color: var(--disabled-bg-color);\n",
              "    fill: var(--disabled-fill-color);\n",
              "    box-shadow: none;\n",
              "  }\n",
              "\n",
              "  .colab-df-spinner {\n",
              "    border: 2px solid var(--fill-color);\n",
              "    border-color: transparent;\n",
              "    border-bottom-color: var(--fill-color);\n",
              "    animation:\n",
              "      spin 1s steps(1) infinite;\n",
              "  }\n",
              "\n",
              "  @keyframes spin {\n",
              "    0% {\n",
              "      border-color: transparent;\n",
              "      border-bottom-color: var(--fill-color);\n",
              "      border-left-color: var(--fill-color);\n",
              "    }\n",
              "    20% {\n",
              "      border-color: transparent;\n",
              "      border-left-color: var(--fill-color);\n",
              "      border-top-color: var(--fill-color);\n",
              "    }\n",
              "    30% {\n",
              "      border-color: transparent;\n",
              "      border-left-color: var(--fill-color);\n",
              "      border-top-color: var(--fill-color);\n",
              "      border-right-color: var(--fill-color);\n",
              "    }\n",
              "    40% {\n",
              "      border-color: transparent;\n",
              "      border-right-color: var(--fill-color);\n",
              "      border-top-color: var(--fill-color);\n",
              "    }\n",
              "    60% {\n",
              "      border-color: transparent;\n",
              "      border-right-color: var(--fill-color);\n",
              "    }\n",
              "    80% {\n",
              "      border-color: transparent;\n",
              "      border-right-color: var(--fill-color);\n",
              "      border-bottom-color: var(--fill-color);\n",
              "    }\n",
              "    90% {\n",
              "      border-color: transparent;\n",
              "      border-bottom-color: var(--fill-color);\n",
              "    }\n",
              "  }\n",
              "</style>\n",
              "\n",
              "  <script>\n",
              "    async function quickchart(key) {\n",
              "      const quickchartButtonEl =\n",
              "        document.querySelector('#' + key + ' button');\n",
              "      quickchartButtonEl.disabled = true;  // To prevent multiple clicks.\n",
              "      quickchartButtonEl.classList.add('colab-df-spinner');\n",
              "      try {\n",
              "        const charts = await google.colab.kernel.invokeFunction(\n",
              "            'suggestCharts', [key], {});\n",
              "      } catch (error) {\n",
              "        console.error('Error during call to suggestCharts:', error);\n",
              "      }\n",
              "      quickchartButtonEl.classList.remove('colab-df-spinner');\n",
              "      quickchartButtonEl.classList.add('colab-df-quickchart-complete');\n",
              "    }\n",
              "    (() => {\n",
              "      let quickchartButtonEl =\n",
              "        document.querySelector('#df-7a8a33d8-451e-46ea-bb0a-eb0b27e09104 button');\n",
              "      quickchartButtonEl.style.display =\n",
              "        google.colab.kernel.accessAllowed ? 'block' : 'none';\n",
              "    })();\n",
              "  </script>\n",
              "</div>\n",
              "    </div>\n",
              "  </div>\n"
            ]
          },
          "metadata": {},
          "execution_count": 12
        }
      ],
      "source": [
        "dataset.describe()"
      ]
    },
    {
      "cell_type": "code",
      "execution_count": 6,
      "id": "3c539393-d1cd-4b5d-9823-5dcffebbfaa1",
      "metadata": {
        "colab": {
          "base_uri": "https://localhost:8080/"
        },
        "id": "3c539393-d1cd-4b5d-9823-5dcffebbfaa1",
        "outputId": "48c314cf-fb9f-45b4-e92e-e92bad976ba8"
      },
      "outputs": [
        {
          "output_type": "execute_result",
          "data": {
            "text/plain": [
              "count    2.737000e+03\n",
              "mean     6.959157e+06\n",
              "std      1.998767e+05\n",
              "min      6.099480e+06\n",
              "25%      6.806309e+06\n",
              "50%      6.941249e+06\n",
              "75%      7.129514e+06\n",
              "max      7.364528e+06\n",
              "Name: Total_Power, dtype: float64"
            ]
          },
          "metadata": {},
          "execution_count": 6
        }
      ],
      "source": [
        "dataset[\"Total_Power\"].describe()"
      ]
    },
    {
      "cell_type": "code",
      "execution_count": 10,
      "id": "7f994a81-50b4-468f-8a2e-3439aacc366a",
      "metadata": {
        "colab": {
          "base_uri": "https://localhost:8080/",
          "height": 448
        },
        "id": "7f994a81-50b4-468f-8a2e-3439aacc366a",
        "outputId": "f410bc4a-4f10-496a-fdcc-dd9fd61c8720"
      },
      "outputs": [
        {
          "output_type": "display_data",
          "data": {
            "text/plain": [
              "<Figure size 640x480 with 1 Axes>"
            ],
            "image/png": "[encoded data removed]"
          },
          "metadata": {}
        }
      ],
      "source": [
        "graph = plt.hist(x = dataset[\"Total_Power\"], bins=500)"
      ]
    },
    {
      "cell_type": "markdown",
      "id": "d42c7628-e5ee-47c6-b27e-9ef8b90c80d2",
      "metadata": {
        "id": "d42c7628-e5ee-47c6-b27e-9ef8b90c80d2"
      },
      "source": [
        "# Train models to predict Total_Power output of wave energy farms based on coordinates"
      ]
    },
    {
      "cell_type": "markdown",
      "id": "38460c83-c95e-4b7b-96ad-1a4c460c5fbc",
      "metadata": {
        "id": "38460c83-c95e-4b7b-96ad-1a4c460c5fbc"
      },
      "source": [
        "## Drop the power columns for individual WECs and qW"
      ]
    },
    {
      "cell_type": "code",
      "execution_count": 7,
      "id": "da4123dc-ba42-4df2-8977-c4f435f661c8",
      "metadata": {
        "id": "da4123dc-ba42-4df2-8977-c4f435f661c8"
      },
      "outputs": [],
      "source": [
        "dataset_copy = dataset.copy(deep=True)"
      ]
    },
    {
      "cell_type": "code",
      "execution_count": 8,
      "id": "5a415ef5-bad6-4d77-9219-67c81b181a0d",
      "metadata": {
        "id": "5a415ef5-bad6-4d77-9219-67c81b181a0d"
      },
      "outputs": [],
      "source": [
        "for num in range(1, 101):\n",
        "    dataset_copy.drop(f\"Power{num}\", axis=1, inplace=True)"
      ]
    },
    {
      "cell_type": "code",
      "execution_count": 9,
      "id": "628c21ec-6171-4b45-8b84-e2961c068a25",
      "metadata": {
        "id": "628c21ec-6171-4b45-8b84-e2961c068a25"
      },
      "outputs": [],
      "source": [
        "dataset_copy.drop(\"qW\", inplace=True, axis=1)"
      ]
    },
    {
      "cell_type": "code",
      "execution_count": 14,
      "id": "1b2c6065-1e78-43d6-b267-b95a66352e4a",
      "metadata": {
        "colab": {
          "base_uri": "https://localhost:8080/"
        },
        "id": "1b2c6065-1e78-43d6-b267-b95a66352e4a",
        "outputId": "86ce8790-9cf1-4ebc-8fcd-3fefcd62f6b2"
      },
      "outputs": [
        {
          "output_type": "execute_result",
          "data": {
            "text/plain": [
              "(2737, 201)"
            ]
          },
          "metadata": {},
          "execution_count": 14
        }
      ],
      "source": [
        "dataset_copy.shape"
      ]
    },
    {
      "cell_type": "code",
      "execution_count": 15,
      "id": "d7685d2e-9f5e-416b-a7a2-7d2e650eaa4c",
      "metadata": {
        "colab": {
          "base_uri": "https://localhost:8080/"
        },
        "id": "d7685d2e-9f5e-416b-a7a2-7d2e650eaa4c",
        "outputId": "10978268-ee5b-4269-f156-4668747702ec"
      },
      "outputs": [
        {
          "output_type": "execute_result",
          "data": {
            "text/plain": [
              "(2737, 302)"
            ]
          },
          "metadata": {},
          "execution_count": 15
        }
      ],
      "source": [
        "dataset.shape"
      ]
    },
    {
      "cell_type": "code",
      "execution_count": 16,
      "id": "fae9d3a3-dbf5-4692-ad9d-2f7ff8f8b680",
      "metadata": {
        "id": "fae9d3a3-dbf5-4692-ad9d-2f7ff8f8b680"
      },
      "outputs": [],
      "source": [
        "y = dataset_copy[\"Total_Power\"]\n",
        "X = dataset_copy.drop(\"Total_Power\", axis=1)"
      ]
    },
    {
      "cell_type": "code",
      "execution_count": 21,
      "id": "f0511b60-3963-4761-923d-0c6796acca51",
      "metadata": {
        "colab": {
          "base_uri": "https://localhost:8080/",
          "height": 255
        },
        "id": "f0511b60-3963-4761-923d-0c6796acca51",
        "outputId": "3bf4090d-df79-49ef-b6fd-fee4c0b49100"
      },
      "outputs": [
        {
          "output_type": "execute_result",
          "data": {
            "text/plain": [
              "       X1   Y1      X2     Y2      X3     Y3      X4      Y4      X5   Y5  \\\n",
              "0  1000.0  0.0  946.08  37.42  889.67  74.76  832.02  112.10  1250.0  1.0   \n",
              "1   800.0  0.0  746.04  37.38  689.81  74.79  632.43  111.97  1200.0  0.0   \n",
              "2   600.0  0.0  545.98  37.50  489.87  74.95  432.52  112.15   650.0  0.0   \n",
              "3   600.0  0.0  546.09  37.41  489.70  74.76  432.35  111.90   800.0  0.0   \n",
              "4   600.0  0.0  545.95  37.52  489.69  74.99  432.46  112.16   800.0  0.0   \n",
              "\n",
              "   ...     X96      Y96     X97     Y97      X98      Y98      X99      Y99  \\\n",
              "0  ...  432.02  1312.10  1200.0  1200.0  1146.08  1237.42  1089.67  1274.76   \n",
              "1  ...  232.43  1311.97   800.0  1200.0   746.04  1237.38   689.81  1274.79   \n",
              "2  ...  432.52  1312.15  1000.0  1200.0   945.98  1237.50   889.87  1274.95   \n",
              "3  ...  832.35  1311.90  1200.0  1200.0  1146.09  1237.41  1089.70  1274.76   \n",
              "4  ...  432.46  1312.16  1200.0  1200.0  1145.95  1237.52  1089.69  1274.99   \n",
              "\n",
              "      X100     Y100  \n",
              "0  1032.02  1312.10  \n",
              "1   632.43  1311.97  \n",
              "2   832.52  1312.15  \n",
              "3  1032.35  1311.90  \n",
              "4  1032.46  1312.16  \n",
              "\n",
              "[5 rows x 200 columns]"
            ],
            "text/html": [
              "\n",
              "  <div id=\"df-7fb60d0f-7654-4883-8839-e67aee850d1b\" class=\"colab-df-container\">\n",
              "    <div>\n",
              "<style scoped>\n",
              "    .dataframe tbody tr th:only-of-type {\n",
              "        vertical-align: middle;\n",
              "    }\n",
              "\n",
              "    .dataframe tbody tr th {\n",
              "        vertical-align: top;\n",
              "    }\n",
              "\n",
              "    .dataframe thead th {\n",
              "        text-align: right;\n",
              "    }\n",
              "</style>\n",
              "<table border=\"1\" class=\"dataframe\">\n",
              "  <thead>\n",
              "    <tr style=\"text-align: right;\">\n",
              "      <th></th>\n",
              "      <th>X1</th>\n",
              "      <th>Y1</th>\n",
              "      <th>X2</th>\n",
              "      <th>Y2</th>\n",
              "      <th>X3</th>\n",
              "      <th>Y3</th>\n",
              "      <th>X4</th>\n",
              "      <th>Y4</th>\n",
              "      <th>X5</th>\n",
              "      <th>Y5</th>\n",
              "      <th>...</th>\n",
              "      <th>X96</th>\n",
              "      <th>Y96</th>\n",
              "      <th>X97</th>\n",
              "      <th>Y97</th>\n",
              "      <th>X98</th>\n",
              "      <th>Y98</th>\n",
              "      <th>X99</th>\n",
              "      <th>Y99</th>\n",
              "      <th>X100</th>\n",
              "      <th>Y100</th>\n",
              "    </tr>\n",
              "  </thead>\n",
              "  <tbody>\n",
              "    <tr>\n",
              "      <th>0</th>\n",
              "      <td>1000.0</td>\n",
              "      <td>0.0</td>\n",
              "      <td>946.08</td>\n",
              "      <td>37.42</td>\n",
              "      <td>889.67</td>\n",
              "      <td>74.76</td>\n",
              "      <td>832.02</td>\n",
              "      <td>112.10</td>\n",
              "      <td>1250.0</td>\n",
              "      <td>1.0</td>\n",
              "      <td>...</td>\n",
              "      <td>432.02</td>\n",
              "      <td>1312.10</td>\n",
              "      <td>1200.0</td>\n",
              "      <td>1200.0</td>\n",
              "      <td>1146.08</td>\n",
              "      <td>1237.42</td>\n",
              "      <td>1089.67</td>\n",
              "      <td>1274.76</td>\n",
              "      <td>1032.02</td>\n",
              "      <td>1312.10</td>\n",
              "    </tr>\n",
              "    <tr>\n",
              "      <th>1</th>\n",
              "      <td>800.0</td>\n",
              "      <td>0.0</td>\n",
              "      <td>746.04</td>\n",
              "      <td>37.38</td>\n",
              "      <td>689.81</td>\n",
              "      <td>74.79</td>\n",
              "      <td>632.43</td>\n",
              "      <td>111.97</td>\n",
              "      <td>1200.0</td>\n",
              "      <td>0.0</td>\n",
              "      <td>...</td>\n",
              "      <td>232.43</td>\n",
              "      <td>1311.97</td>\n",
              "      <td>800.0</td>\n",
              "      <td>1200.0</td>\n",
              "      <td>746.04</td>\n",
              "      <td>1237.38</td>\n",
              "      <td>689.81</td>\n",
              "      <td>1274.79</td>\n",
              "      <td>632.43</td>\n",
              "      <td>1311.97</td>\n",
              "    </tr>\n",
              "    <tr>\n",
              "      <th>2</th>\n",
              "      <td>600.0</td>\n",
              "      <td>0.0</td>\n",
              "      <td>545.98</td>\n",
              "      <td>37.50</td>\n",
              "      <td>489.87</td>\n",
              "      <td>74.95</td>\n",
              "      <td>432.52</td>\n",
              "      <td>112.15</td>\n",
              "      <td>650.0</td>\n",
              "      <td>0.0</td>\n",
              "      <td>...</td>\n",
              "      <td>432.52</td>\n",
              "      <td>1312.15</td>\n",
              "      <td>1000.0</td>\n",
              "      <td>1200.0</td>\n",
              "      <td>945.98</td>\n",
              "      <td>1237.50</td>\n",
              "      <td>889.87</td>\n",
              "      <td>1274.95</td>\n",
              "      <td>832.52</td>\n",
              "      <td>1312.15</td>\n",
              "    </tr>\n",
              "    <tr>\n",
              "      <th>3</th>\n",
              "      <td>600.0</td>\n",
              "      <td>0.0</td>\n",
              "      <td>546.09</td>\n",
              "      <td>37.41</td>\n",
              "      <td>489.70</td>\n",
              "      <td>74.76</td>\n",
              "      <td>432.35</td>\n",
              "      <td>111.90</td>\n",
              "      <td>800.0</td>\n",
              "      <td>0.0</td>\n",
              "      <td>...</td>\n",
              "      <td>832.35</td>\n",
              "      <td>1311.90</td>\n",
              "      <td>1200.0</td>\n",
              "      <td>1200.0</td>\n",
              "      <td>1146.09</td>\n",
              "      <td>1237.41</td>\n",
              "      <td>1089.70</td>\n",
              "      <td>1274.76</td>\n",
              "      <td>1032.35</td>\n",
              "      <td>1311.90</td>\n",
              "    </tr>\n",
              "    <tr>\n",
              "      <th>4</th>\n",
              "      <td>600.0</td>\n",
              "      <td>0.0</td>\n",
              "      <td>545.95</td>\n",
              "      <td>37.52</td>\n",
              "      <td>489.69</td>\n",
              "      <td>74.99</td>\n",
              "      <td>432.46</td>\n",
              "      <td>112.16</td>\n",
              "      <td>800.0</td>\n",
              "      <td>0.0</td>\n",
              "      <td>...</td>\n",
              "      <td>432.46</td>\n",
              "      <td>1312.16</td>\n",
              "      <td>1200.0</td>\n",
              "      <td>1200.0</td>\n",
              "      <td>1145.95</td>\n",
              "      <td>1237.52</td>\n",
              "      <td>1089.69</td>\n",
              "      <td>1274.99</td>\n",
              "      <td>1032.46</td>\n",
              "      <td>1312.16</td>\n",
              "    </tr>\n",
              "  </tbody>\n",
              "</table>\n",
              "<p>5 rows × 200 columns</p>\n",
              "</div>\n",
              "    <div class=\"colab-df-buttons\">\n",
              "\n",
              "  <div class=\"colab-df-container\">\n",
              "    <button class=\"colab-df-convert\" onclick=\"convertToInteractive('df-7fb60d0f-7654-4883-8839-e67aee850d1b')\"\n",
              "            title=\"Convert this dataframe to an interactive table.\"\n",
              "            style=\"display:none;\">\n",
              "\n",
              "  <svg xmlns=\"http://www.w3.org/2000/svg\" height=\"24px\" viewBox=\"0 -960 960 960\">\n",
              "    <path d=\"M120-120v-720h720v720H120Zm60-500h600v-160H180v160Zm220 220h160v-160H400v160Zm0 220h160v-160H400v160ZM180-400h160v-160H180v160Zm440 0h160v-160H620v160ZM180-180h160v-160H180v160Zm440 0h160v-160H620v160Z\"/>\n",
              "  </svg>\n",
              "    </button>\n",
              "\n",
              "  <style>\n",
              "    .colab-df-container {\n",
              "      display:flex;\n",
              "      gap: 12px;\n",
              "    }\n",
              "\n",
              "    .colab-df-convert {\n",
              "      background-color: #E8F0FE;\n",
              "      border: none;\n",
              "      border-radius: 50%;\n",
              "      cursor: pointer;\n",
              "      display: none;\n",
              "      fill: #1967D2;\n",
              "      height: 32px;\n",
              "      padding: 0 0 0 0;\n",
              "      width: 32px;\n",
              "    }\n",
              "\n",
              "    .colab-df-convert:hover {\n",
              "      background-color: #E2EBFA;\n",
              "      box-shadow: 0px 1px 2px rgba(60, 64, 67, 0.3), 0px 1px 3px 1px rgba(60, 64, 67, 0.15);\n",
              "      fill: #174EA6;\n",
              "    }\n",
              "\n",
              "    .colab-df-buttons div {\n",
              "      margin-bottom: 4px;\n",
              "    }\n",
              "\n",
              "    [theme=dark] .colab-df-convert {\n",
              "      background-color: #3B4455;\n",
              "      fill: #D2E3FC;\n",
              "    }\n",
              "\n",
              "    [theme=dark] .colab-df-convert:hover {\n",
              "      background-color: #434B5C;\n",
              "      box-shadow: 0px 1px 3px 1px rgba(0, 0, 0, 0.15);\n",
              "      filter: drop-shadow(0px 1px 2px rgba(0, 0, 0, 0.3));\n",
              "      fill: #FFFFFF;\n",
              "    }\n",
              "  </style>\n",
              "\n",
              "    <script>\n",
              "      const buttonEl =\n",
              "        document.querySelector('#df-7fb60d0f-7654-4883-8839-e67aee850d1b button.colab-df-convert');\n",
              "      buttonEl.style.display =\n",
              "        google.colab.kernel.accessAllowed ? 'block' : 'none';\n",
              "\n",
              "      async function convertToInteractive(key) {\n",
              "        const element = document.querySelector('#df-7fb60d0f-7654-4883-8839-e67aee850d1b');\n",
              "        const dataTable =\n",
              "          await google.colab.kernel.invokeFunction('convertToInteractive',\n",
              "                                                    [key], {});\n",
              "        if (!dataTable) return;\n",
              "\n",
              "        const docLinkHtml = 'Like what you see? Visit the ' +\n",
              "          '<a target=\"_blank\" href=https://colab.research.google.com/notebooks/data_table.ipynb>data table notebook</a>'\n",
              "          + ' to learn more about interactive tables.';\n",
              "        element.innerHTML = '';\n",
              "        dataTable['output_type'] = 'display_data';\n",
              "        await google.colab.output.renderOutput(dataTable, element);\n",
              "        const docLink = document.createElement('div');\n",
              "        docLink.innerHTML = docLinkHtml;\n",
              "        element.appendChild(docLink);\n",
              "      }\n",
              "    </script>\n",
              "  </div>\n",
              "\n",
              "\n",
              "<div id=\"df-2a812d37-e07c-42e8-b213-d07bdf2f2026\">\n",
              "  <button class=\"colab-df-quickchart\" onclick=\"quickchart('df-2a812d37-e07c-42e8-b213-d07bdf2f2026')\"\n",
              "            title=\"Suggest charts.\"\n",
              "            style=\"display:none;\">\n",
              "\n",
              "<svg xmlns=\"http://www.w3.org/2000/svg\" height=\"24px\"viewBox=\"0 0 24 24\"\n",
              "     width=\"24px\">\n",
              "    <g>\n",
              "        <path d=\"M19 3H5c-1.1 0-2 .9-2 2v14c0 1.1.9 2 2 2h14c1.1 0 2-.9 2-2V5c0-1.1-.9-2-2-2zM9 17H7v-7h2v7zm4 0h-2V7h2v10zm4 0h-2v-4h2v4z\"/>\n",
              "    </g>\n",
              "</svg>\n",
              "  </button>\n",
              "\n",
              "<style>\n",
              "  .colab-df-quickchart {\n",
              "      --bg-color: #E8F0FE;\n",
              "      --fill-color: #1967D2;\n",
              "      --hover-bg-color: #E2EBFA;\n",
              "      --hover-fill-color: #174EA6;\n",
              "      --disabled-fill-color: #AAA;\n",
              "      --disabled-bg-color: #DDD;\n",
              "  }\n",
              "\n",
              "  [theme=dark] .colab-df-quickchart {\n",
              "      --bg-color: #3B4455;\n",
              "      --fill-color: #D2E3FC;\n",
              "      --hover-bg-color: #434B5C;\n",
              "      --hover-fill-color: #FFFFFF;\n",
              "      --disabled-bg-color: #3B4455;\n",
              "      --disabled-fill-color: #666;\n",
              "  }\n",
              "\n",
              "  .colab-df-quickchart {\n",
              "    background-color: var(--bg-color);\n",
              "    border: none;\n",
              "    border-radius: 50%;\n",
              "    cursor: pointer;\n",
              "    display: none;\n",
              "    fill: var(--fill-color);\n",
              "    height: 32px;\n",
              "    padding: 0;\n",
              "    width: 32px;\n",
              "  }\n",
              "\n",
              "  .colab-df-quickchart:hover {\n",
              "    background-color: var(--hover-bg-color);\n",
              "    box-shadow: 0 1px 2px rgba(60, 64, 67, 0.3), 0 1px 3px 1px rgba(60, 64, 67, 0.15);\n",
              "    fill: var(--button-hover-fill-color);\n",
              "  }\n",
              "\n",
              "  .colab-df-quickchart-complete:disabled,\n",
              "  .colab-df-quickchart-complete:disabled:hover {\n",
              "    background-color: var(--disabled-bg-color);\n",
              "    fill: var(--disabled-fill-color);\n",
              "    box-shadow: none;\n",
              "  }\n",
              "\n",
              "  .colab-df-spinner {\n",
              "    border: 2px solid var(--fill-color);\n",
              "    border-color: transparent;\n",
              "    border-bottom-color: var(--fill-color);\n",
              "    animation:\n",
              "      spin 1s steps(1) infinite;\n",
              "  }\n",
              "\n",
              "  @keyframes spin {\n",
              "    0% {\n",
              "      border-color: transparent;\n",
              "      border-bottom-color: var(--fill-color);\n",
              "      border-left-color: var(--fill-color);\n",
              "    }\n",
              "    20% {\n",
              "      border-color: transparent;\n",
              "      border-left-color: var(--fill-color);\n",
              "      border-top-color: var(--fill-color);\n",
              "    }\n",
              "    30% {\n",
              "      border-color: transparent;\n",
              "      border-left-color: var(--fill-color);\n",
              "      border-top-color: var(--fill-color);\n",
              "      border-right-color: var(--fill-color);\n",
              "    }\n",
              "    40% {\n",
              "      border-color: transparent;\n",
              "      border-right-color: var(--fill-color);\n",
              "      border-top-color: var(--fill-color);\n",
              "    }\n",
              "    60% {\n",
              "      border-color: transparent;\n",
              "      border-right-color: var(--fill-color);\n",
              "    }\n",
              "    80% {\n",
              "      border-color: transparent;\n",
              "      border-right-color: var(--fill-color);\n",
              "      border-bottom-color: var(--fill-color);\n",
              "    }\n",
              "    90% {\n",
              "      border-color: transparent;\n",
              "      border-bottom-color: var(--fill-color);\n",
              "    }\n",
              "  }\n",
              "</style>\n",
              "\n",
              "  <script>\n",
              "    async function quickchart(key) {\n",
              "      const quickchartButtonEl =\n",
              "        document.querySelector('#' + key + ' button');\n",
              "      quickchartButtonEl.disabled = true;  // To prevent multiple clicks.\n",
              "      quickchartButtonEl.classList.add('colab-df-spinner');\n",
              "      try {\n",
              "        const charts = await google.colab.kernel.invokeFunction(\n",
              "            'suggestCharts', [key], {});\n",
              "      } catch (error) {\n",
              "        console.error('Error during call to suggestCharts:', error);\n",
              "      }\n",
              "      quickchartButtonEl.classList.remove('colab-df-spinner');\n",
              "      quickchartButtonEl.classList.add('colab-df-quickchart-complete');\n",
              "    }\n",
              "    (() => {\n",
              "      let quickchartButtonEl =\n",
              "        document.querySelector('#df-2a812d37-e07c-42e8-b213-d07bdf2f2026 button');\n",
              "      quickchartButtonEl.style.display =\n",
              "        google.colab.kernel.accessAllowed ? 'block' : 'none';\n",
              "    })();\n",
              "  </script>\n",
              "</div>\n",
              "    </div>\n",
              "  </div>\n"
            ]
          },
          "metadata": {},
          "execution_count": 21
        }
      ],
      "source": [
        "X.head()"
      ]
    },
    {
      "cell_type": "markdown",
      "id": "f34d22a6-f6c3-4952-981c-8c8739d06d53",
      "metadata": {
        "id": "f34d22a6-f6c3-4952-981c-8c8739d06d53"
      },
      "source": [
        "## Create train and test set"
      ]
    },
    {
      "cell_type": "code",
      "execution_count": 22,
      "id": "894d8858-2e7c-426d-af1e-5d6a811adaf6",
      "metadata": {
        "id": "894d8858-2e7c-426d-af1e-5d6a811adaf6"
      },
      "outputs": [],
      "source": [
        "X_train, X_test, y_train, y_test = train_test_split(X,y, test_size=0.2 ,random_state=42)"
      ]
    },
    {
      "cell_type": "markdown",
      "id": "675f9f70-41d7-4558-b207-10b2e44e4e1d",
      "metadata": {
        "id": "675f9f70-41d7-4558-b207-10b2e44e4e1d"
      },
      "source": [
        "## Try Decision Tree Regressor\n",
        "It is more powerful for nonlinear relationships in data"
      ]
    },
    {
      "cell_type": "code",
      "execution_count": 23,
      "id": "773f2c66-7099-4d23-b8fd-4f25a1ea5df0",
      "metadata": {
        "id": "773f2c66-7099-4d23-b8fd-4f25a1ea5df0"
      },
      "outputs": [],
      "source": [
        "tree_reg_1 = DecisionTreeRegressor(max_depth=2,random_state=42).fit(X_train, y_train)\n",
        "tree_reg_2 = DecisionTreeRegressor(max_depth=5, random_state=42).fit(X_train, y_train)"
      ]
    },
    {
      "cell_type": "code",
      "execution_count": null,
      "id": "59b75cc1-ab16-448b-bc51-4cfb9b6a02bf",
      "metadata": {
        "colab": {
          "base_uri": "https://localhost:8080/"
        },
        "id": "59b75cc1-ab16-448b-bc51-4cfb9b6a02bf",
        "outputId": "321ef279-b09f-4556-e85d-7ab9c11d31ec"
      },
      "outputs": [
        {
          "output_type": "execute_result",
          "data": {
            "text/plain": [
              "0.24867754203147185"
            ]
          },
          "metadata": {},
          "execution_count": 38
        }
      ],
      "source": [
        "tree_reg_1.score(X_test, y_test)"
      ]
    },
    {
      "cell_type": "code",
      "execution_count": null,
      "id": "3a679024-4a1d-4cd3-b6e2-80c40e4dd046",
      "metadata": {
        "colab": {
          "base_uri": "https://localhost:8080/"
        },
        "id": "3a679024-4a1d-4cd3-b6e2-80c40e4dd046",
        "outputId": "1d014b89-ec25-416c-8921-8e055b677b4e"
      },
      "outputs": [
        {
          "output_type": "execute_result",
          "data": {
            "text/plain": [
              "0.44036272433181334"
            ]
          },
          "metadata": {},
          "execution_count": 39
        }
      ],
      "source": [
        "tree_reg_2.score(X_test, y_test)"
      ]
    },
    {
      "cell_type": "code",
      "execution_count": null,
      "id": "2c9fca52-18fb-4327-b56e-cb3793b28a41",
      "metadata": {
        "id": "2c9fca52-18fb-4327-b56e-cb3793b28a41"
      },
      "outputs": [],
      "source": [
        "cross_vals = -cross_val_score(tree_reg_1, X,y, scoring=\"neg_root_mean_squared_error\", cv=10)"
      ]
    },
    {
      "cell_type": "code",
      "execution_count": null,
      "id": "c6a8c985-f88b-415b-a4fb-c54096f0aaa9",
      "metadata": {
        "colab": {
          "base_uri": "https://localhost:8080/"
        },
        "id": "c6a8c985-f88b-415b-a4fb-c54096f0aaa9",
        "outputId": "e994563f-3d32-4141-a134-674ab2e08cde"
      },
      "outputs": [
        {
          "output_type": "execute_result",
          "data": {
            "text/plain": [
              "count        10.000000\n",
              "mean     173455.032255\n",
              "std       11567.575123\n",
              "min      157648.456309\n",
              "25%      164704.534676\n",
              "50%      171671.588416\n",
              "75%      182107.010265\n",
              "max      190399.689784\n",
              "dtype: float64"
            ]
          },
          "metadata": {},
          "execution_count": 41
        }
      ],
      "source": [
        "pd.Series(cross_vals).describe()"
      ]
    },
    {
      "cell_type": "markdown",
      "id": "82823a47-94a6-4f68-9686-bdf3e3ef9981",
      "metadata": {
        "id": "82823a47-94a6-4f68-9686-bdf3e3ef9981"
      },
      "source": [
        "## Try Random Forest Regressor"
      ]
    },
    {
      "cell_type": "code",
      "execution_count": null,
      "id": "fd58339f-6c1b-4682-90e2-390677bb75b5",
      "metadata": {
        "colab": {
          "base_uri": "https://localhost:8080/"
        },
        "id": "fd58339f-6c1b-4682-90e2-390677bb75b5",
        "outputId": "cbb68936-34a8-4490-a130-020b1900c329"
      },
      "outputs": [
        {
          "output_type": "execute_result",
          "data": {
            "text/plain": [
              "0.7172245433317017"
            ]
          },
          "metadata": {},
          "execution_count": 42
        }
      ],
      "source": [
        "forest_reg = RandomForestRegressor()\n",
        "forest_reg.fit(X_train, y_train).score(X_test,y_test)"
      ]
    },
    {
      "cell_type": "code",
      "execution_count": null,
      "id": "adc93d10-55c9-4ef6-a18b-9744b5a50eda",
      "metadata": {
        "colab": {
          "base_uri": "https://localhost:8080/"
        },
        "id": "adc93d10-55c9-4ef6-a18b-9744b5a50eda",
        "outputId": "fcf82d32-3767-4342-d381-ace304e302a0"
      },
      "outputs": [
        {
          "output_type": "execute_result",
          "data": {
            "text/plain": [
              "array([0.7835241 , 0.7567162 , 0.68311678, 0.65717309, 0.64243909])"
            ]
          },
          "metadata": {},
          "execution_count": 43
        }
      ],
      "source": [
        "cross_vals_forest = cross_val_score(RandomForestRegressor(), X,y,cv=5)\n",
        "cross_vals_forest"
      ]
    },
    {
      "cell_type": "markdown",
      "id": "27f75391-ac4e-4922-adb4-74ed98d9f786",
      "metadata": {
        "id": "27f75391-ac4e-4922-adb4-74ed98d9f786"
      },
      "source": [
        "## Conclusion\n",
        "Random forest model looks the most promising to predict the total_power"
      ]
    },
    {
      "cell_type": "markdown",
      "id": "03e88369-bcc2-4e3f-8e1f-f07f0d178d39",
      "metadata": {
        "id": "03e88369-bcc2-4e3f-8e1f-f07f0d178d39"
      },
      "source": [
        "# Train models to predict the power of individual wave energy converters"
      ]
    },
    {
      "cell_type": "code",
      "execution_count": 19,
      "id": "015e13fc-4c3f-44fd-852e-6b713b5977b9",
      "metadata": {
        "colab": {
          "base_uri": "https://localhost:8080/",
          "height": 255
        },
        "id": "015e13fc-4c3f-44fd-852e-6b713b5977b9",
        "outputId": "e113bd6d-8279-4f44-83ec-e421569d83d4"
      },
      "outputs": [
        {
          "output_type": "execute_result",
          "data": {
            "text/plain": [
              "       X1   Y1      X2     Y2      X3     Y3      X4      Y4      X5   Y5  \\\n",
              "0  1000.0  0.0  946.08  37.42  889.67  74.76  832.02  112.10  1250.0  1.0   \n",
              "1   800.0  0.0  746.04  37.38  689.81  74.79  632.43  111.97  1200.0  0.0   \n",
              "2   600.0  0.0  545.98  37.50  489.87  74.95  432.52  112.15   650.0  0.0   \n",
              "3   600.0  0.0  546.09  37.41  489.70  74.76  432.35  111.90   800.0  0.0   \n",
              "4   600.0  0.0  545.95  37.52  489.69  74.99  432.46  112.16   800.0  0.0   \n",
              "\n",
              "   ...   Power93    Power94    Power95    Power96   Power97    Power98  \\\n",
              "0  ...  98711.68  102872.82  100743.44   99259.87  98909.46  101388.37   \n",
              "1  ...  96351.38  102253.02  101744.20   99482.45  99304.59  101953.23   \n",
              "2  ...  96985.29  102472.80  101757.63   99429.45  98709.14  101312.44   \n",
              "3  ...  76823.85   88005.41   98779.92  100260.30  98744.25  101144.58   \n",
              "4  ...  98195.95  102874.16  100256.15   99221.12  98969.54  101389.77   \n",
              "\n",
              "     Power99  Power100    qW  Total_Power  \n",
              "0  101025.35  98676.66  0.75   7257985.04  \n",
              "1  100878.42  99508.49  0.74   7103374.61  \n",
              "2  100979.86  99024.16  0.76   7335380.64  \n",
              "3  100835.43  98915.38  0.75   7187769.87  \n",
              "4  100924.02  98796.00  0.75   7260222.61  \n",
              "\n",
              "[5 rows x 302 columns]"
            ],
            "text/html": [
              "\n",
              "  <div id=\"df-4618fdbf-8a33-4fb2-a970-422f8fb22741\" class=\"colab-df-container\">\n",
              "    <div>\n",
              "<style scoped>\n",
              "    .dataframe tbody tr th:only-of-type {\n",
              "        vertical-align: middle;\n",
              "    }\n",
              "\n",
              "    .dataframe tbody tr th {\n",
              "        vertical-align: top;\n",
              "    }\n",
              "\n",
              "    .dataframe thead th {\n",
              "        text-align: right;\n",
              "    }\n",
              "</style>\n",
              "<table border=\"1\" class=\"dataframe\">\n",
              "  <thead>\n",
              "    <tr style=\"text-align: right;\">\n",
              "      <th></th>\n",
              "      <th>X1</th>\n",
              "      <th>Y1</th>\n",
              "      <th>X2</th>\n",
              "      <th>Y2</th>\n",
              "      <th>X3</th>\n",
              "      <th>Y3</th>\n",
              "      <th>X4</th>\n",
              "      <th>Y4</th>\n",
              "      <th>X5</th>\n",
              "      <th>Y5</th>\n",
              "      <th>...</th>\n",
              "      <th>Power93</th>\n",
              "      <th>Power94</th>\n",
              "      <th>Power95</th>\n",
              "      <th>Power96</th>\n",
              "      <th>Power97</th>\n",
              "      <th>Power98</th>\n",
              "      <th>Power99</th>\n",
              "      <th>Power100</th>\n",
              "      <th>qW</th>\n",
              "      <th>Total_Power</th>\n",
              "    </tr>\n",
              "  </thead>\n",
              "  <tbody>\n",
              "    <tr>\n",
              "      <th>0</th>\n",
              "      <td>1000.0</td>\n",
              "      <td>0.0</td>\n",
              "      <td>946.08</td>\n",
              "      <td>37.42</td>\n",
              "      <td>889.67</td>\n",
              "      <td>74.76</td>\n",
              "      <td>832.02</td>\n",
              "      <td>112.10</td>\n",
              "      <td>1250.0</td>\n",
              "      <td>1.0</td>\n",
              "      <td>...</td>\n",
              "      <td>98711.68</td>\n",
              "      <td>102872.82</td>\n",
              "      <td>100743.44</td>\n",
              "      <td>99259.87</td>\n",
              "      <td>98909.46</td>\n",
              "      <td>101388.37</td>\n",
              "      <td>101025.35</td>\n",
              "      <td>98676.66</td>\n",
              "      <td>0.75</td>\n",
              "      <td>7257985.04</td>\n",
              "    </tr>\n",
              "    <tr>\n",
              "      <th>1</th>\n",
              "      <td>800.0</td>\n",
              "      <td>0.0</td>\n",
              "      <td>746.04</td>\n",
              "      <td>37.38</td>\n",
              "      <td>689.81</td>\n",
              "      <td>74.79</td>\n",
              "      <td>632.43</td>\n",
              "      <td>111.97</td>\n",
              "      <td>1200.0</td>\n",
              "      <td>0.0</td>\n",
              "      <td>...</td>\n",
              "      <td>96351.38</td>\n",
              "      <td>102253.02</td>\n",
              "      <td>101744.20</td>\n",
              "      <td>99482.45</td>\n",
              "      <td>99304.59</td>\n",
              "      <td>101953.23</td>\n",
              "      <td>100878.42</td>\n",
              "      <td>99508.49</td>\n",
              "      <td>0.74</td>\n",
              "      <td>7103374.61</td>\n",
              "    </tr>\n",
              "    <tr>\n",
              "      <th>2</th>\n",
              "      <td>600.0</td>\n",
              "      <td>0.0</td>\n",
              "      <td>545.98</td>\n",
              "      <td>37.50</td>\n",
              "      <td>489.87</td>\n",
              "      <td>74.95</td>\n",
              "      <td>432.52</td>\n",
              "      <td>112.15</td>\n",
              "      <td>650.0</td>\n",
              "      <td>0.0</td>\n",
              "      <td>...</td>\n",
              "      <td>96985.29</td>\n",
              "      <td>102472.80</td>\n",
              "      <td>101757.63</td>\n",
              "      <td>99429.45</td>\n",
              "      <td>98709.14</td>\n",
              "      <td>101312.44</td>\n",
              "      <td>100979.86</td>\n",
              "      <td>99024.16</td>\n",
              "      <td>0.76</td>\n",
              "      <td>7335380.64</td>\n",
              "    </tr>\n",
              "    <tr>\n",
              "      <th>3</th>\n",
              "      <td>600.0</td>\n",
              "      <td>0.0</td>\n",
              "      <td>546.09</td>\n",
              "      <td>37.41</td>\n",
              "      <td>489.70</td>\n",
              "      <td>74.76</td>\n",
              "      <td>432.35</td>\n",
              "      <td>111.90</td>\n",
              "      <td>800.0</td>\n",
              "      <td>0.0</td>\n",
              "      <td>...</td>\n",
              "      <td>76823.85</td>\n",
              "      <td>88005.41</td>\n",
              "      <td>98779.92</td>\n",
              "      <td>100260.30</td>\n",
              "      <td>98744.25</td>\n",
              "      <td>101144.58</td>\n",
              "      <td>100835.43</td>\n",
              "      <td>98915.38</td>\n",
              "      <td>0.75</td>\n",
              "      <td>7187769.87</td>\n",
              "    </tr>\n",
              "    <tr>\n",
              "      <th>4</th>\n",
              "      <td>600.0</td>\n",
              "      <td>0.0</td>\n",
              "      <td>545.95</td>\n",
              "      <td>37.52</td>\n",
              "      <td>489.69</td>\n",
              "      <td>74.99</td>\n",
              "      <td>432.46</td>\n",
              "      <td>112.16</td>\n",
              "      <td>800.0</td>\n",
              "      <td>0.0</td>\n",
              "      <td>...</td>\n",
              "      <td>98195.95</td>\n",
              "      <td>102874.16</td>\n",
              "      <td>100256.15</td>\n",
              "      <td>99221.12</td>\n",
              "      <td>98969.54</td>\n",
              "      <td>101389.77</td>\n",
              "      <td>100924.02</td>\n",
              "      <td>98796.00</td>\n",
              "      <td>0.75</td>\n",
              "      <td>7260222.61</td>\n",
              "    </tr>\n",
              "  </tbody>\n",
              "</table>\n",
              "<p>5 rows × 302 columns</p>\n",
              "</div>\n",
              "    <div class=\"colab-df-buttons\">\n",
              "\n",
              "  <div class=\"colab-df-container\">\n",
              "    <button class=\"colab-df-convert\" onclick=\"convertToInteractive('df-4618fdbf-8a33-4fb2-a970-422f8fb22741')\"\n",
              "            title=\"Convert this dataframe to an interactive table.\"\n",
              "            style=\"display:none;\">\n",
              "\n",
              "  <svg xmlns=\"http://www.w3.org/2000/svg\" height=\"24px\" viewBox=\"0 -960 960 960\">\n",
              "    <path d=\"M120-120v-720h720v720H120Zm60-500h600v-160H180v160Zm220 220h160v-160H400v160Zm0 220h160v-160H400v160ZM180-400h160v-160H180v160Zm440 0h160v-160H620v160ZM180-180h160v-160H180v160Zm440 0h160v-160H620v160Z\"/>\n",
              "  </svg>\n",
              "    </button>\n",
              "\n",
              "  <style>\n",
              "    .colab-df-container {\n",
              "      display:flex;\n",
              "      gap: 12px;\n",
              "    }\n",
              "\n",
              "    .colab-df-convert {\n",
              "      background-color: #E8F0FE;\n",
              "      border: none;\n",
              "      border-radius: 50%;\n",
              "      cursor: pointer;\n",
              "      display: none;\n",
              "      fill: #1967D2;\n",
              "      height: 32px;\n",
              "      padding: 0 0 0 0;\n",
              "      width: 32px;\n",
              "    }\n",
              "\n",
              "    .colab-df-convert:hover {\n",
              "      background-color: #E2EBFA;\n",
              "      box-shadow: 0px 1px 2px rgba(60, 64, 67, 0.3), 0px 1px 3px 1px rgba(60, 64, 67, 0.15);\n",
              "      fill: #174EA6;\n",
              "    }\n",
              "\n",
              "    .colab-df-buttons div {\n",
              "      margin-bottom: 4px;\n",
              "    }\n",
              "\n",
              "    [theme=dark] .colab-df-convert {\n",
              "      background-color: #3B4455;\n",
              "      fill: #D2E3FC;\n",
              "    }\n",
              "\n",
              "    [theme=dark] .colab-df-convert:hover {\n",
              "      background-color: #434B5C;\n",
              "      box-shadow: 0px 1px 3px 1px rgba(0, 0, 0, 0.15);\n",
              "      filter: drop-shadow(0px 1px 2px rgba(0, 0, 0, 0.3));\n",
              "      fill: #FFFFFF;\n",
              "    }\n",
              "  </style>\n",
              "\n",
              "    <script>\n",
              "      const buttonEl =\n",
              "        document.querySelector('#df-4618fdbf-8a33-4fb2-a970-422f8fb22741 button.colab-df-convert');\n",
              "      buttonEl.style.display =\n",
              "        google.colab.kernel.accessAllowed ? 'block' : 'none';\n",
              "\n",
              "      async function convertToInteractive(key) {\n",
              "        const element = document.querySelector('#df-4618fdbf-8a33-4fb2-a970-422f8fb22741');\n",
              "        const dataTable =\n",
              "          await google.colab.kernel.invokeFunction('convertToInteractive',\n",
              "                                                    [key], {});\n",
              "        if (!dataTable) return;\n",
              "\n",
              "        const docLinkHtml = 'Like what you see? Visit the ' +\n",
              "          '<a target=\"_blank\" href=https://colab.research.google.com/notebooks/data_table.ipynb>data table notebook</a>'\n",
              "          + ' to learn more about interactive tables.';\n",
              "        element.innerHTML = '';\n",
              "        dataTable['output_type'] = 'display_data';\n",
              "        await google.colab.output.renderOutput(dataTable, element);\n",
              "        const docLink = document.createElement('div');\n",
              "        docLink.innerHTML = docLinkHtml;\n",
              "        element.appendChild(docLink);\n",
              "      }\n",
              "    </script>\n",
              "  </div>\n",
              "\n",
              "\n",
              "<div id=\"df-6092e5dd-4d30-40d3-ba3f-8a5b2d40892d\">\n",
              "  <button class=\"colab-df-quickchart\" onclick=\"quickchart('df-6092e5dd-4d30-40d3-ba3f-8a5b2d40892d')\"\n",
              "            title=\"Suggest charts.\"\n",
              "            style=\"display:none;\">\n",
              "\n",
              "<svg xmlns=\"http://www.w3.org/2000/svg\" height=\"24px\"viewBox=\"0 0 24 24\"\n",
              "     width=\"24px\">\n",
              "    <g>\n",
              "        <path d=\"M19 3H5c-1.1 0-2 .9-2 2v14c0 1.1.9 2 2 2h14c1.1 0 2-.9 2-2V5c0-1.1-.9-2-2-2zM9 17H7v-7h2v7zm4 0h-2V7h2v10zm4 0h-2v-4h2v4z\"/>\n",
              "    </g>\n",
              "</svg>\n",
              "  </button>\n",
              "\n",
              "<style>\n",
              "  .colab-df-quickchart {\n",
              "      --bg-color: #E8F0FE;\n",
              "      --fill-color: #1967D2;\n",
              "      --hover-bg-color: #E2EBFA;\n",
              "      --hover-fill-color: #174EA6;\n",
              "      --disabled-fill-color: #AAA;\n",
              "      --disabled-bg-color: #DDD;\n",
              "  }\n",
              "\n",
              "  [theme=dark] .colab-df-quickchart {\n",
              "      --bg-color: #3B4455;\n",
              "      --fill-color: #D2E3FC;\n",
              "      --hover-bg-color: #434B5C;\n",
              "      --hover-fill-color: #FFFFFF;\n",
              "      --disabled-bg-color: #3B4455;\n",
              "      --disabled-fill-color: #666;\n",
              "  }\n",
              "\n",
              "  .colab-df-quickchart {\n",
              "    background-color: var(--bg-color);\n",
              "    border: none;\n",
              "    border-radius: 50%;\n",
              "    cursor: pointer;\n",
              "    display: none;\n",
              "    fill: var(--fill-color);\n",
              "    height: 32px;\n",
              "    padding: 0;\n",
              "    width: 32px;\n",
              "  }\n",
              "\n",
              "  .colab-df-quickchart:hover {\n",
              "    background-color: var(--hover-bg-color);\n",
              "    box-shadow: 0 1px 2px rgba(60, 64, 67, 0.3), 0 1px 3px 1px rgba(60, 64, 67, 0.15);\n",
              "    fill: var(--button-hover-fill-color);\n",
              "  }\n",
              "\n",
              "  .colab-df-quickchart-complete:disabled,\n",
              "  .colab-df-quickchart-complete:disabled:hover {\n",
              "    background-color: var(--disabled-bg-color);\n",
              "    fill: var(--disabled-fill-color);\n",
              "    box-shadow: none;\n",
              "  }\n",
              "\n",
              "  .colab-df-spinner {\n",
              "    border: 2px solid var(--fill-color);\n",
              "    border-color: transparent;\n",
              "    border-bottom-color: var(--fill-color);\n",
              "    animation:\n",
              "      spin 1s steps(1) infinite;\n",
              "  }\n",
              "\n",
              "  @keyframes spin {\n",
              "    0% {\n",
              "      border-color: transparent;\n",
              "      border-bottom-color: var(--fill-color);\n",
              "      border-left-color: var(--fill-color);\n",
              "    }\n",
              "    20% {\n",
              "      border-color: transparent;\n",
              "      border-left-color: var(--fill-color);\n",
              "      border-top-color: var(--fill-color);\n",
              "    }\n",
              "    30% {\n",
              "      border-color: transparent;\n",
              "      border-left-color: var(--fill-color);\n",
              "      border-top-color: var(--fill-color);\n",
              "      border-right-color: var(--fill-color);\n",
              "    }\n",
              "    40% {\n",
              "      border-color: transparent;\n",
              "      border-right-color: var(--fill-color);\n",
              "      border-top-color: var(--fill-color);\n",
              "    }\n",
              "    60% {\n",
              "      border-color: transparent;\n",
              "      border-right-color: var(--fill-color);\n",
              "    }\n",
              "    80% {\n",
              "      border-color: transparent;\n",
              "      border-right-color: var(--fill-color);\n",
              "      border-bottom-color: var(--fill-color);\n",
              "    }\n",
              "    90% {\n",
              "      border-color: transparent;\n",
              "      border-bottom-color: var(--fill-color);\n",
              "    }\n",
              "  }\n",
              "</style>\n",
              "\n",
              "  <script>\n",
              "    async function quickchart(key) {\n",
              "      const quickchartButtonEl =\n",
              "        document.querySelector('#' + key + ' button');\n",
              "      quickchartButtonEl.disabled = true;  // To prevent multiple clicks.\n",
              "      quickchartButtonEl.classList.add('colab-df-spinner');\n",
              "      try {\n",
              "        const charts = await google.colab.kernel.invokeFunction(\n",
              "            'suggestCharts', [key], {});\n",
              "      } catch (error) {\n",
              "        console.error('Error during call to suggestCharts:', error);\n",
              "      }\n",
              "      quickchartButtonEl.classList.remove('colab-df-spinner');\n",
              "      quickchartButtonEl.classList.add('colab-df-quickchart-complete');\n",
              "    }\n",
              "    (() => {\n",
              "      let quickchartButtonEl =\n",
              "        document.querySelector('#df-6092e5dd-4d30-40d3-ba3f-8a5b2d40892d button');\n",
              "      quickchartButtonEl.style.display =\n",
              "        google.colab.kernel.accessAllowed ? 'block' : 'none';\n",
              "    })();\n",
              "  </script>\n",
              "</div>\n",
              "    </div>\n",
              "  </div>\n"
            ]
          },
          "metadata": {},
          "execution_count": 19
        }
      ],
      "source": [
        "dataset.head()"
      ]
    },
    {
      "cell_type": "code",
      "execution_count": 10,
      "id": "ed8599b8-7a98-4526-a0ff-67545eeeb180",
      "metadata": {
        "id": "ed8599b8-7a98-4526-a0ff-67545eeeb180"
      },
      "outputs": [],
      "source": [
        "individual_wec_data = dataset.copy(deep=True)"
      ]
    },
    {
      "cell_type": "code",
      "execution_count": 11,
      "id": "480c285b-1a15-4615-941d-0072bc65b650",
      "metadata": {
        "colab": {
          "base_uri": "https://localhost:8080/"
        },
        "id": "480c285b-1a15-4615-941d-0072bc65b650",
        "outputId": "204c58c7-4c11-47b4-e37a-2ee9306fd698"
      },
      "outputs": [
        {
          "output_type": "execute_result",
          "data": {
            "text/plain": [
              "Index(['X1', 'Y1', 'X2', 'Y2', 'X3', 'Y3', 'X4', 'Y4', 'X5', 'Y5',\n",
              "       ...\n",
              "       'Power93', 'Power94', 'Power95', 'Power96', 'Power97', 'Power98',\n",
              "       'Power99', 'Power100', 'qW', 'Total_Power'],\n",
              "      dtype='object', length=302)"
            ]
          },
          "metadata": {},
          "execution_count": 11
        }
      ],
      "source": [
        "individual_wec_data.columns"
      ]
    },
    {
      "cell_type": "markdown",
      "id": "e96007b2-6539-43ad-9c03-9779a6719487",
      "metadata": {
        "id": "e96007b2-6539-43ad-9c03-9779a6719487"
      },
      "source": [
        "## Prepare the data\n",
        "Change the dataframe, so that we have the x,y coordinates and the power for each WEC in each row."
      ]
    },
    {
      "cell_type": "code",
      "execution_count": 12,
      "id": "2d8bc1e8-120e-488a-b85f-dd69fd36c88c",
      "metadata": {
        "id": "2d8bc1e8-120e-488a-b85f-dd69fd36c88c"
      },
      "outputs": [],
      "source": [
        "individual_wec_data.drop(columns=['Total_Power', 'qW'],axis=1, inplace=True)"
      ]
    },
    {
      "cell_type": "code",
      "execution_count": 13,
      "id": "86ffee46-28b7-46ef-b64a-f534a53af47f",
      "metadata": {
        "colab": {
          "base_uri": "https://localhost:8080/"
        },
        "id": "86ffee46-28b7-46ef-b64a-f534a53af47f",
        "outputId": "95f44ae4-b7ad-4740-9aad-b24d5b056d71"
      },
      "outputs": [
        {
          "output_type": "execute_result",
          "data": {
            "text/plain": [
              "Index(['X1', 'Y1', 'X2', 'Y2', 'X3', 'Y3', 'X4', 'Y4', 'X5', 'Y5',\n",
              "       ...\n",
              "       'Power91', 'Power92', 'Power93', 'Power94', 'Power95', 'Power96',\n",
              "       'Power97', 'Power98', 'Power99', 'Power100'],\n",
              "      dtype='object', length=300)"
            ]
          },
          "metadata": {},
          "execution_count": 13
        }
      ],
      "source": [
        "individual_wec_data.columns"
      ]
    },
    {
      "cell_type": "markdown",
      "id": "fa028aa8-a557-4f70-b99e-7b9a8e658c95",
      "metadata": {
        "id": "fa028aa8-a557-4f70-b99e-7b9a8e658c95"
      },
      "source": [
        "### Transform to individual WECs"
      ]
    },
    {
      "cell_type": "code",
      "execution_count": 14,
      "id": "cfaeb517-97ef-40bb-8f83-9126d352a360",
      "metadata": {
        "id": "cfaeb517-97ef-40bb-8f83-9126d352a360"
      },
      "outputs": [],
      "source": [
        "def to_individual_WEC(dataset):\n",
        "    new_dataset = {\"X\":[], \"Y\":[], \"Power\":[]}\n",
        "    for num in range(0, len(dataset)):\n",
        "        current_row = dataset.iloc[num]\n",
        "        for index in range(1,101):\n",
        "            new_dataset[\"X\"].append(current_row.loc[f\"X{index}\"])\n",
        "            new_dataset[\"Y\"].append(current_row.loc[f\"Y{index}\"])\n",
        "            new_dataset[\"Power\"].append(current_row.loc[f\"Power{index}\"])\n",
        "\n",
        "    new_dataset = pd.DataFrame(new_dataset)\n",
        "    return new_dataset"
      ]
    },
    {
      "cell_type": "code",
      "execution_count": 15,
      "id": "abc93450-4553-4e76-91a4-4089338cdfe5",
      "metadata": {
        "id": "abc93450-4553-4e76-91a4-4089338cdfe5"
      },
      "outputs": [],
      "source": [
        "individual_wec_data = to_individual_WEC(individual_wec_data)"
      ]
    },
    {
      "cell_type": "code",
      "source": [
        "individual_wec_data.shape"
      ],
      "metadata": {
        "colab": {
          "base_uri": "https://localhost:8080/"
        },
        "id": "Z2LRdOSgmX2C",
        "outputId": "33b2582e-b75e-4c64-c804-1c35aa88df40"
      },
      "id": "Z2LRdOSgmX2C",
      "execution_count": 16,
      "outputs": [
        {
          "output_type": "execute_result",
          "data": {
            "text/plain": [
              "(273700, 3)"
            ]
          },
          "metadata": {},
          "execution_count": 16
        }
      ]
    },
    {
      "cell_type": "code",
      "source": [
        "individual_wec_data.drop_duplicates(inplace=True)"
      ],
      "metadata": {
        "id": "ZCqYYitmm7qe"
      },
      "id": "ZCqYYitmm7qe",
      "execution_count": 17,
      "outputs": []
    },
    {
      "cell_type": "code",
      "execution_count": 18,
      "id": "61d38391-b26b-4603-a0be-d6be7a6348c5",
      "metadata": {
        "id": "61d38391-b26b-4603-a0be-d6be7a6348c5"
      },
      "outputs": [],
      "source": [
        "y = individual_wec_data[\"Power\"]\n",
        "X = individual_wec_data.drop(\"Power\", axis=1)"
      ]
    },
    {
      "cell_type": "code",
      "execution_count": 25,
      "id": "797f1f01-1097-47cc-8f0d-fb88336e9d47",
      "metadata": {
        "colab": {
          "base_uri": "https://localhost:8080/"
        },
        "id": "797f1f01-1097-47cc-8f0d-fb88336e9d47",
        "outputId": "07a544fc-dc9a-4030-d42a-c53ed940ad42"
      },
      "outputs": [
        {
          "output_type": "execute_result",
          "data": {
            "text/plain": [
              "(273555, 3)"
            ]
          },
          "metadata": {},
          "execution_count": 25
        }
      ],
      "source": [
        "individual_wec_data.shape"
      ]
    },
    {
      "cell_type": "markdown",
      "id": "3e4ee1e7-1d53-4b0b-8d15-0c26ecbd2f46",
      "metadata": {
        "id": "3e4ee1e7-1d53-4b0b-8d15-0c26ecbd2f46"
      },
      "source": [
        "### Create train and test set"
      ]
    },
    {
      "cell_type": "code",
      "execution_count": 19,
      "id": "4e17ca29-f333-4de9-b896-b51a20021823",
      "metadata": {
        "id": "4e17ca29-f333-4de9-b896-b51a20021823"
      },
      "outputs": [],
      "source": [
        "X_train, X_test, y_train, y_test = train_test_split(X,y, test_size=0.2 ,random_state=42)"
      ]
    },
    {
      "cell_type": "markdown",
      "id": "58c3db85-41d9-4c24-8cf1-bc684a73d117",
      "metadata": {
        "id": "58c3db85-41d9-4c24-8cf1-bc684a73d117"
      },
      "source": [
        "### Test with Decision Tree Regressor"
      ]
    },
    {
      "cell_type": "code",
      "execution_count": 107,
      "id": "28385836-69fd-4278-ae4c-246353ab0977",
      "metadata": {
        "id": "28385836-69fd-4278-ae4c-246353ab0977"
      },
      "outputs": [],
      "source": [
        "dtr = DecisionTreeRegressor(max_depth=5).fit(X_train,y_train)"
      ]
    },
    {
      "cell_type": "code",
      "execution_count": 108,
      "id": "592a4ab0-160d-47bf-8701-5b69cea221de",
      "metadata": {
        "colab": {
          "base_uri": "https://localhost:8080/"
        },
        "id": "592a4ab0-160d-47bf-8701-5b69cea221de",
        "outputId": "f4879203-36fc-406e-a8b2-b89252b6f850"
      },
      "outputs": [
        {
          "output_type": "execute_result",
          "data": {
            "text/plain": [
              "0.8179964931411378"
            ]
          },
          "metadata": {},
          "execution_count": 108
        }
      ],
      "source": [
        "dtr.score(X_test,y_test)"
      ]
    },
    {
      "cell_type": "code",
      "execution_count": 109,
      "id": "9570d715-2205-4405-a175-084b87a70764",
      "metadata": {
        "id": "9570d715-2205-4405-a175-084b87a70764"
      },
      "outputs": [],
      "source": [
        "cvs_dtr = cross_val_score(DecisionTreeRegressor(), X,y,cv=5)"
      ]
    },
    {
      "cell_type": "code",
      "execution_count": 110,
      "id": "28af4018-c72f-4432-835c-f8b49c89e9ea",
      "metadata": {
        "colab": {
          "base_uri": "https://localhost:8080/"
        },
        "id": "28af4018-c72f-4432-835c-f8b49c89e9ea",
        "outputId": "6c0f2e6c-cf9a-44e2-b7be-29d522cb688a"
      },
      "outputs": [
        {
          "output_type": "execute_result",
          "data": {
            "text/plain": [
              "array([0.8420308 , 0.8458494 , 0.84369502, 0.83539277, 0.83827556])"
            ]
          },
          "metadata": {},
          "execution_count": 110
        }
      ],
      "source": [
        "cvs_dtr"
      ]
    },
    {
      "cell_type": "markdown",
      "id": "2e95bf12-994f-404d-83a8-389b15fa5529",
      "metadata": {
        "id": "2e95bf12-994f-404d-83a8-389b15fa5529"
      },
      "source": [
        "### Test with Random Forest Regressor"
      ]
    },
    {
      "cell_type": "code",
      "execution_count": 111,
      "id": "03819cb5-ca2f-433e-b914-a679b20f90fc",
      "metadata": {
        "id": "03819cb5-ca2f-433e-b914-a679b20f90fc"
      },
      "outputs": [],
      "source": [
        "rtr = RandomForestRegressor().fit(X_train,y_train)"
      ]
    },
    {
      "cell_type": "code",
      "execution_count": 112,
      "id": "fbafa2be-07ca-4916-9465-6c14144bbb66",
      "metadata": {
        "colab": {
          "base_uri": "https://localhost:8080/"
        },
        "id": "fbafa2be-07ca-4916-9465-6c14144bbb66",
        "outputId": "3962a7fd-65a8-4015-aa0b-c0f85df9b647"
      },
      "outputs": [
        {
          "output_type": "execute_result",
          "data": {
            "text/plain": [
              "0.8547784601685058"
            ]
          },
          "metadata": {},
          "execution_count": 112
        }
      ],
      "source": [
        "rtr.score(X_test,y_test)"
      ]
    },
    {
      "cell_type": "code",
      "execution_count": 113,
      "id": "7d0066ab-93da-4002-9285-358199adbd5c",
      "metadata": {
        "id": "7d0066ab-93da-4002-9285-358199adbd5c"
      },
      "outputs": [],
      "source": [
        "cvs_rtr = cross_val_score(RandomForestRegressor(), X,y,cv=5)"
      ]
    },
    {
      "cell_type": "code",
      "execution_count": 114,
      "id": "9734934b-22f3-491a-a7d3-61e3a4e00bad",
      "metadata": {
        "colab": {
          "base_uri": "https://localhost:8080/"
        },
        "id": "9734934b-22f3-491a-a7d3-61e3a4e00bad",
        "outputId": "251aa36f-f235-484f-f458-f94348f7f8fd"
      },
      "outputs": [
        {
          "output_type": "execute_result",
          "data": {
            "text/plain": [
              "array([0.85452133, 0.8592236 , 0.85717353, 0.84866646, 0.84995573])"
            ]
          },
          "metadata": {},
          "execution_count": 114
        }
      ],
      "source": [
        "cvs_rtr"
      ]
    },
    {
      "cell_type": "markdown",
      "id": "a097a711-ad2b-4e81-bfcc-2439c7b80250",
      "metadata": {
        "id": "a097a711-ad2b-4e81-bfcc-2439c7b80250"
      },
      "source": [
        "## Conclusion\n",
        "And again the random forest model makes the best predictions. And it is more accurate to predict individual WECs than the entire farm."
      ]
    },
    {
      "cell_type": "markdown",
      "source": [
        "# Training a neural net"
      ],
      "metadata": {
        "id": "sY2PPZOZQB1I"
      },
      "id": "sY2PPZOZQB1I"
    },
    {
      "cell_type": "code",
      "source": [
        "import tensorflow as tf"
      ],
      "metadata": {
        "id": "B7RzBAs15UBw"
      },
      "id": "B7RzBAs15UBw",
      "execution_count": 20,
      "outputs": []
    },
    {
      "cell_type": "code",
      "source": [
        "X_tensor = tf.convert_to_tensor(X)\n",
        "y_tensor = tf.convert_to_tensor(X)"
      ],
      "metadata": {
        "id": "NITtykOdw76a"
      },
      "id": "NITtykOdw76a",
      "execution_count": 21,
      "outputs": []
    },
    {
      "cell_type": "code",
      "source": [
        "X.shape"
      ],
      "metadata": {
        "colab": {
          "base_uri": "https://localhost:8080/"
        },
        "id": "q6jSC9HkxVjc",
        "outputId": "6b6a5c30-42cb-4262-a86c-1a820c5f8bc0"
      },
      "id": "q6jSC9HkxVjc",
      "execution_count": 37,
      "outputs": [
        {
          "output_type": "execute_result",
          "data": {
            "text/plain": [
              "(273555, 2)"
            ]
          },
          "metadata": {},
          "execution_count": 37
        }
      ]
    },
    {
      "cell_type": "code",
      "source": [
        "y.shape"
      ],
      "metadata": {
        "colab": {
          "base_uri": "https://localhost:8080/"
        },
        "id": "ap7JG_-SxW9h",
        "outputId": "c31f1349-104d-45dc-d1c7-e114982dfe48"
      },
      "id": "ap7JG_-SxW9h",
      "execution_count": 132,
      "outputs": [
        {
          "output_type": "execute_result",
          "data": {
            "text/plain": [
              "(273555,)"
            ]
          },
          "metadata": {},
          "execution_count": 132
        }
      ]
    },
    {
      "cell_type": "code",
      "source": [
        "X_train_tensor = tf.convert_to_tensor(X_train)\n",
        "X_test_tensor = tf.convert_to_tensor(X_test)\n",
        "y_train_tensor = tf.convert_to_tensor(y_train)\n",
        "y_test_tensor = tf.convert_to_tensor(y_test)"
      ],
      "metadata": {
        "id": "KASGoBcjxYHq"
      },
      "id": "KASGoBcjxYHq",
      "execution_count": 22,
      "outputs": []
    },
    {
      "cell_type": "code",
      "source": [
        "X_train_tensor.shape"
      ],
      "metadata": {
        "colab": {
          "base_uri": "https://localhost:8080/"
        },
        "id": "yC1ynvXXxpGA",
        "outputId": "d0de0bf8-eb04-4f16-8413-c6c89251e691"
      },
      "id": "yC1ynvXXxpGA",
      "execution_count": 30,
      "outputs": [
        {
          "output_type": "execute_result",
          "data": {
            "text/plain": [
              "TensorShape([218844, 2])"
            ]
          },
          "metadata": {},
          "execution_count": 30
        }
      ]
    },
    {
      "cell_type": "code",
      "source": [
        "X_train_tensor.shape[1:]"
      ],
      "metadata": {
        "colab": {
          "base_uri": "https://localhost:8080/"
        },
        "id": "P__w4iTlt9_J",
        "outputId": "e809a9aa-1bcd-480f-f8c1-00a51226d0bc"
      },
      "id": "P__w4iTlt9_J",
      "execution_count": 31,
      "outputs": [
        {
          "output_type": "execute_result",
          "data": {
            "text/plain": [
              "TensorShape([2])"
            ]
          },
          "metadata": {},
          "execution_count": 31
        }
      ]
    },
    {
      "cell_type": "code",
      "source": [
        "tf.random.set_seed(42)\n",
        "norm_layer = tf.keras.layers.Normalization(input_shape=X_train_tensor.shape[1:])\n",
        "model = tf.keras.Sequential([\n",
        "    norm_layer,\n",
        "    tf.keras.layers.Dense(50, activation=\"relu\"),\n",
        "    tf.keras.layers.Dense(50, activation=\"relu\"),\n",
        "    tf.keras.layers.Dense(50, activation=\"relu\"),\n",
        "    tf.keras.layers.Dense(1)\n",
        "])"
      ],
      "metadata": {
        "id": "-NqIVLUMxq7J"
      },
      "id": "-NqIVLUMxq7J",
      "execution_count": 32,
      "outputs": []
    },
    {
      "cell_type": "code",
      "source": [
        "model.summary()"
      ],
      "metadata": {
        "colab": {
          "base_uri": "https://localhost:8080/"
        },
        "id": "OPHG-3AE0Jkv",
        "outputId": "aa47e8a4-de8d-4c98-b77b-6c79b21625ab"
      },
      "id": "OPHG-3AE0Jkv",
      "execution_count": 33,
      "outputs": [
        {
          "output_type": "stream",
          "name": "stdout",
          "text": [
            "Model: \"sequential\"\n",
            "_________________________________________________________________\n",
            " Layer (type)                Output Shape              Param #   \n",
            "=================================================================\n",
            " normalization (Normalizati  (None, 2)                 5         \n",
            " on)                                                             \n",
            "                                                                 \n",
            " dense (Dense)               (None, 50)                150       \n",
            "                                                                 \n",
            " dense_1 (Dense)             (None, 50)                2550      \n",
            "                                                                 \n",
            " dense_2 (Dense)             (None, 50)                2550      \n",
            "                                                                 \n",
            " dense_3 (Dense)             (None, 1)                 51        \n",
            "                                                                 \n",
            "=================================================================\n",
            "Total params: 5306 (20.73 KB)\n",
            "Trainable params: 5301 (20.71 KB)\n",
            "Non-trainable params: 5 (24.00 Byte)\n",
            "_________________________________________________________________\n"
          ]
        }
      ]
    },
    {
      "cell_type": "code",
      "source": [
        "optimizer = tf.keras.optimizers.Adam(learning_rate=1e-3)\n",
        "model.compile(loss=\"mse\", optimizer=optimizer,metrics=[\"RootMeanSquaredError\",tf.keras.metrics.MeanAbsolutePercentageError(),tf.keras.metrics.R2Score()])\n",
        "norm_layer.adapt(X_train_tensor)"
      ],
      "metadata": {
        "id": "XJ8cHrKe0Lb7"
      },
      "id": "XJ8cHrKe0Lb7",
      "execution_count": 58,
      "outputs": []
    },
    {
      "cell_type": "code",
      "source": [
        "%%time\n",
        "history = model.fit(X_train_tensor, y_train_tensor, epochs=20,validation_data=(X_test_tensor, y_test_tensor))"
      ],
      "metadata": {
        "id": "j-Zta8yy0kZS"
      },
      "id": "j-Zta8yy0kZS",
      "execution_count": null,
      "outputs": []
    },
    {
      "cell_type": "code",
      "source": [
        "mse_test, rmse_test = model.evaluate(X_test_tensor, y_test_tensor)"
      ],
      "metadata": {
        "colab": {
          "base_uri": "https://localhost:8080/",
          "height": 217
        },
        "id": "cTlunNlH2Glr",
        "outputId": "9b5dbf1e-5e2a-44d8-b734-6483c605443b"
      },
      "id": "cTlunNlH2Glr",
      "execution_count": 60,
      "outputs": [
        {
          "output_type": "stream",
          "name": "stdout",
          "text": [
            "1710/1710 [==============================] - 4s 3ms/step - loss: 69161744.0000 - root_mean_squared_error: 8316.3545 - mean_absolute_percentage_error: 9.5958 - r2_score: 0.8234\n"
          ]
        },
        {
          "output_type": "error",
          "ename": "ValueError",
          "evalue": "ignored",
          "traceback": [
            "\u001b[0;31m---------------------------------------------------------------------------\u001b[0m",
            "\u001b[0;31mValueError\u001b[0m                                Traceback (most recent call last)",
            "\u001b[0;32m<ipython-input-60-471d1b365d68>\u001b[0m in \u001b[0;36m<cell line: 1>\u001b[0;34m()\u001b[0m\n\u001b[0;32m----> 1\u001b[0;31m \u001b[0mmse_test\u001b[0m\u001b[0;34m,\u001b[0m \u001b[0mrmse_test\u001b[0m \u001b[0;34m=\u001b[0m \u001b[0mmodel\u001b[0m\u001b[0;34m.\u001b[0m\u001b[0mevaluate\u001b[0m\u001b[0;34m(\u001b[0m\u001b[0mX_test_tensor\u001b[0m\u001b[0;34m,\u001b[0m \u001b[0my_test_tensor\u001b[0m\u001b[0;34m)\u001b[0m\u001b[0;34m\u001b[0m\u001b[0;34m\u001b[0m\u001b[0m\n\u001b[0m",
            "\u001b[0;31mValueError\u001b[0m: too many values to unpack (expected 2)"
          ]
        }
      ]
    },
    {
      "cell_type": "code",
      "source": [
        "mse_test"
      ],
      "metadata": {
        "colab": {
          "base_uri": "https://localhost:8080/"
        },
        "id": "8RVALgfT4BCR",
        "outputId": "92d61631-4ba9-41b7-eb0c-f8bf363d5665"
      },
      "id": "8RVALgfT4BCR",
      "execution_count": 49,
      "outputs": [
        {
          "output_type": "execute_result",
          "data": {
            "text/plain": [
              "69899032.0"
            ]
          },
          "metadata": {},
          "execution_count": 49
        }
      ]
    },
    {
      "cell_type": "code",
      "source": [
        "rmse_test"
      ],
      "metadata": {
        "colab": {
          "base_uri": "https://localhost:8080/"
        },
        "id": "FGaiqyPr-MuM",
        "outputId": "bbef99f8-68d9-4d0c-98e6-3488ec24d45d"
      },
      "id": "FGaiqyPr-MuM",
      "execution_count": 50,
      "outputs": [
        {
          "output_type": "execute_result",
          "data": {
            "text/plain": [
              "8360.564453125"
            ]
          },
          "metadata": {},
          "execution_count": 50
        }
      ]
    },
    {
      "cell_type": "code",
      "source": [
        "model.evaluate(X_test_tensor, y_test_tensor)"
      ],
      "metadata": {
        "colab": {
          "base_uri": "https://localhost:8080/"
        },
        "id": "nlVSL0GO-N1Z",
        "outputId": "423b8cb0-07f1-48df-b56e-38cc5b3a17eb"
      },
      "id": "nlVSL0GO-N1Z",
      "execution_count": 61,
      "outputs": [
        {
          "output_type": "stream",
          "name": "stdout",
          "text": [
            "1710/1710 [==============================] - 4s 2ms/step - loss: 69161744.0000 - root_mean_squared_error: 8316.3545 - mean_absolute_percentage_error: 9.5958 - r2_score: 0.8234\n"
          ]
        },
        {
          "output_type": "execute_result",
          "data": {
            "text/plain": [
              "[69161744.0, 8316.3544921875, 9.595788955688477, 0.8234137296676636]"
            ]
          },
          "metadata": {},
          "execution_count": 61
        }
      ]
    },
    {
      "cell_type": "code",
      "source": [
        "X_new = X_test_tensor[:3]\n",
        "y_pred = model.predict(X_new)"
      ],
      "metadata": {
        "colab": {
          "base_uri": "https://localhost:8080/"
        },
        "id": "pESs19B--fTG",
        "outputId": "8b57d5df-6336-46ec-cc8c-3fcff89fc650"
      },
      "id": "pESs19B--fTG",
      "execution_count": 57,
      "outputs": [
        {
          "output_type": "stream",
          "name": "stdout",
          "text": [
            "1/1 [==============================] - 0s 82ms/step\n"
          ]
        }
      ]
    },
    {
      "cell_type": "code",
      "source": [
        "y_pred"
      ],
      "metadata": {
        "colab": {
          "base_uri": "https://localhost:8080/"
        },
        "id": "bqbyP0_-CxtX",
        "outputId": "82df3d46-8420-4362-909e-3c3fdd5f2e86"
      },
      "id": "bqbyP0_-CxtX",
      "execution_count": 58,
      "outputs": [
        {
          "output_type": "execute_result",
          "data": {
            "text/plain": [
              "array([[90670.05 ],\n",
              "       [43477.277],\n",
              "       [71901.16 ]], dtype=float32)"
            ]
          },
          "metadata": {},
          "execution_count": 58
        }
      ]
    },
    {
      "cell_type": "code",
      "source": [
        "abs(y_pred - y_test_tensor[:3])"
      ],
      "metadata": {
        "colab": {
          "base_uri": "https://localhost:8080/"
        },
        "id": "RYHeS2WyCzZx",
        "outputId": "d1d18cc3-6e56-4356-e32b-ce2f35e8f132"
      },
      "id": "RYHeS2WyCzZx",
      "execution_count": 60,
      "outputs": [
        {
          "output_type": "execute_result",
          "data": {
            "text/plain": [
              "<tf.Tensor: shape=(3, 3), dtype=float64, numpy=\n",
              "array([[  818.376875  , 40969.256875  , 17593.536875  ],\n",
              "       [46374.39265625,  6223.51265625, 29599.23265625],\n",
              "       [17950.51375   , 22200.36625   ,  1175.35375   ]])>"
            ]
          },
          "metadata": {},
          "execution_count": 60
        }
      ]
    },
    {
      "cell_type": "code",
      "source": [
        "X_test_tensor[:3]"
      ],
      "metadata": {
        "colab": {
          "base_uri": "https://localhost:8080/"
        },
        "id": "FEvuBzY4C60N",
        "outputId": "e63b7f70-949f-456e-9004-257235ecfdee"
      },
      "id": "FEvuBzY4C60N",
      "execution_count": 71,
      "outputs": [
        {
          "output_type": "execute_result",
          "data": {
            "text/plain": [
              "<tf.Tensor: shape=(3, 2), dtype=float64, numpy=\n",
              "array([[1346.22,  237.63],\n",
              "       [   0.  ,  300.  ],\n",
              "       [1137.96,  496.43]])>"
            ]
          },
          "metadata": {},
          "execution_count": 71
        }
      ]
    },
    {
      "cell_type": "code",
      "source": [
        "history.history"
      ],
      "metadata": {
        "id": "GXOJnDemFVzl"
      },
      "id": "GXOJnDemFVzl",
      "execution_count": null,
      "outputs": []
    },
    {
      "cell_type": "code",
      "source": [
        "def plot_loss(history):\n",
        "  plt.plot(history.history['loss'], label='loss')\n",
        "  plt.plot(history.history['val_loss'], label='val_loss')\n",
        "  plt.ylim([0, 1000])\n",
        "  plt.xlabel('Epoch')\n",
        "  plt.ylabel('Error [Power]')\n",
        "  plt.legend()\n",
        "  plt.grid(True)"
      ],
      "metadata": {
        "id": "cRcSd_XoJODH"
      },
      "execution_count": 72,
      "outputs": [],
      "id": "cRcSd_XoJODH"
    },
    {
      "cell_type": "code",
      "source": [
        "plot_loss(history)"
      ],
      "metadata": {
        "colab": {
          "base_uri": "https://localhost:8080/",
          "height": 455
        },
        "id": "eaqAhMLCJObF",
        "outputId": "ca456b7a-142e-4450-9e2c-fca913f7003b"
      },
      "id": "eaqAhMLCJObF",
      "execution_count": 73,
      "outputs": [
        {
          "output_type": "display_data",
          "data": {
            "text/plain": [
              "<Figure size 640x480 with 1 Axes>"
            ],
            "image/png": "[encoded data removed]"
          },
          "metadata": {}
        }
      ]
    },
    {
      "cell_type": "code",
      "source": [
        "pd.DataFrame(history.history).plot(\n",
        "figsize=(8, 5), xlim=[0, 29], ylim=[0, 100000], grid=True, xlabel=\"Epoch\", style=[\"r--\", \"r--.\", \"b-\", \"b-*\"])\n",
        "plt.show()"
      ],
      "metadata": {
        "colab": {
          "base_uri": "https://localhost:8080/",
          "height": 470
        },
        "id": "OWM9fN5aJQBF",
        "outputId": "fc10d0ca-ac86-457e-ba34-8784cbd613b3"
      },
      "id": "OWM9fN5aJQBF",
      "execution_count": 76,
      "outputs": [
        {
          "output_type": "display_data",
          "data": {
            "text/plain": [
              "<Figure size 800x500 with 1 Axes>"
            ],
            "image/png": "[encoded data removed]"
          },
          "metadata": {}
        }
      ]
    },
    {
      "cell_type": "code",
      "source": [
        "tf.random.set_seed(42)\n",
        "norm_layer = tf.keras.layers.Normalization(input_shape=X_train_tensor.shape[1:])\n",
        "model2 = tf.keras.Sequential([\n",
        "    norm_layer,\n",
        "    tf.keras.layers.Dense(300, activation=\"relu\"),\n",
        "    tf.keras.layers.Dense(100, activation=\"relu\"),\n",
        "    tf.keras.layers.Dense(10, activation=\"relu\"),\n",
        "    tf.keras.layers.Dense(1)])"
      ],
      "metadata": {
        "id": "h08a0f7oNS1d"
      },
      "id": "h08a0f7oNS1d",
      "execution_count": 140,
      "outputs": []
    },
    {
      "cell_type": "code",
      "source": [
        "optimizer = tf.keras.optimizers.Adam(learning_rate=1e-3)\n",
        "model.compile(loss=\"mse\", optimizer=optimizer,metrics=[\"RootMeanSquaredError\",tf.keras.metrics.MeanAbsolutePercentageError(),tf.keras.metrics.R2Score()])\n",
        "norm_layer.adapt(X_train_tensor)"
      ],
      "metadata": {
        "id": "ejcJzJr0wNWx"
      },
      "id": "ejcJzJr0wNWx",
      "execution_count": 141,
      "outputs": []
    },
    {
      "cell_type": "code",
      "source": [
        "history = model.fit(X_train_tensor, y_train_tensor, epochs=30,validation_data=(X_test_tensor, y_test_tensor))"
      ],
      "metadata": {
        "colab": {
          "base_uri": "https://localhost:8080/"
        },
        "id": "yffvMx9vwUZO",
        "outputId": "45bf0184-4603-4a65-c5cf-b97b1b2a97ac"
      },
      "id": "yffvMx9vwUZO",
      "execution_count": 143,
      "outputs": [
        {
          "output_type": "stream",
          "name": "stdout",
          "text": [
            "Epoch 1/30\n",
            "6839/6839 [==============================] - 25s 4ms/step - loss: 78270040.0000 - root_mean_squared_error: 8847.0352 - mean_absolute_percentage_error: 10.4469 - r2_score: 0.7990 - val_loss: 77300696.0000 - val_root_mean_squared_error: 8792.0811 - val_mean_absolute_percentage_error: 10.3884 - val_r2_score: 0.8028\n",
            "Epoch 2/30\n",
            "6839/6839 [==============================] - 25s 4ms/step - loss: 77935384.0000 - root_mean_squared_error: 8828.1016 - mean_absolute_percentage_error: 10.4154 - r2_score: 0.7999 - val_loss: 77480112.0000 - val_root_mean_squared_error: 8802.2783 - val_mean_absolute_percentage_error: 10.1683 - val_r2_score: 0.8023\n",
            "Epoch 3/30\n",
            "6839/6839 [==============================] - 25s 4ms/step - loss: 77554744.0000 - root_mean_squared_error: 8806.5166 - mean_absolute_percentage_error: 10.3790 - r2_score: 0.8008 - val_loss: 76389840.0000 - val_root_mean_squared_error: 8740.1279 - val_mean_absolute_percentage_error: 10.2859 - val_r2_score: 0.8051\n",
            "Epoch 4/30\n",
            "6839/6839 [==============================] - 25s 4ms/step - loss: 77188608.0000 - root_mean_squared_error: 8785.7051 - mean_absolute_percentage_error: 10.3376 - r2_score: 0.8018 - val_loss: 77185928.0000 - val_root_mean_squared_error: 8785.5518 - val_mean_absolute_percentage_error: 10.5782 - val_r2_score: 0.8031\n",
            "Epoch 5/30\n",
            "6839/6839 [==============================] - 25s 4ms/step - loss: 76653856.0000 - root_mean_squared_error: 8755.2188 - mean_absolute_percentage_error: 10.2962 - r2_score: 0.8031 - val_loss: 75884192.0000 - val_root_mean_squared_error: 8711.1533 - val_mean_absolute_percentage_error: 10.2414 - val_r2_score: 0.8064\n",
            "Epoch 6/30\n",
            "6839/6839 [==============================] - 25s 4ms/step - loss: 76262008.0000 - root_mean_squared_error: 8732.8125 - mean_absolute_percentage_error: 10.2559 - r2_score: 0.8042 - val_loss: 76279576.0000 - val_root_mean_squared_error: 8733.8184 - val_mean_absolute_percentage_error: 10.3602 - val_r2_score: 0.8054\n",
            "Epoch 7/30\n",
            "6839/6839 [==============================] - 25s 4ms/step - loss: 75781080.0000 - root_mean_squared_error: 8705.2324 - mean_absolute_percentage_error: 10.2150 - r2_score: 0.8054 - val_loss: 74568896.0000 - val_root_mean_squared_error: 8635.3281 - val_mean_absolute_percentage_error: 10.0750 - val_r2_score: 0.8098\n",
            "Epoch 8/30\n",
            "6839/6839 [==============================] - 25s 4ms/step - loss: 75266192.0000 - root_mean_squared_error: 8675.6094 - mean_absolute_percentage_error: 10.1607 - r2_score: 0.8067 - val_loss: 74332400.0000 - val_root_mean_squared_error: 8621.6240 - val_mean_absolute_percentage_error: 10.2386 - val_r2_score: 0.8104\n",
            "Epoch 9/30\n",
            "6839/6839 [==============================] - 25s 4ms/step - loss: 74649424.0000 - root_mean_squared_error: 8639.9893 - mean_absolute_percentage_error: 10.1093 - r2_score: 0.8083 - val_loss: 74061360.0000 - val_root_mean_squared_error: 8605.8906 - val_mean_absolute_percentage_error: 10.0219 - val_r2_score: 0.8111\n",
            "Epoch 10/30\n",
            "6839/6839 [==============================] - 25s 4ms/step - loss: 74162360.0000 - root_mean_squared_error: 8611.7568 - mean_absolute_percentage_error: 10.0628 - r2_score: 0.8095 - val_loss: 73735336.0000 - val_root_mean_squared_error: 8586.9277 - val_mean_absolute_percentage_error: 9.7625 - val_r2_score: 0.8119\n",
            "Epoch 11/30\n",
            "6839/6839 [==============================] - 25s 4ms/step - loss: 73751608.0000 - root_mean_squared_error: 8587.8750 - mean_absolute_percentage_error: 10.0197 - r2_score: 0.8106 - val_loss: 73743120.0000 - val_root_mean_squared_error: 8587.3809 - val_mean_absolute_percentage_error: 10.1777 - val_r2_score: 0.8119\n",
            "Epoch 12/30\n",
            "6839/6839 [==============================] - 25s 4ms/step - loss: 73325240.0000 - root_mean_squared_error: 8563.0156 - mean_absolute_percentage_error: 9.9827 - r2_score: 0.8117 - val_loss: 74373936.0000 - val_root_mean_squared_error: 8624.0322 - val_mean_absolute_percentage_error: 9.7697 - val_r2_score: 0.8103\n",
            "Epoch 13/30\n",
            "6839/6839 [==============================] - 25s 4ms/step - loss: 73052632.0000 - root_mean_squared_error: 8547.0830 - mean_absolute_percentage_error: 9.9411 - r2_score: 0.8124 - val_loss: 72895992.0000 - val_root_mean_squared_error: 8537.9150 - val_mean_absolute_percentage_error: 9.8703 - val_r2_score: 0.8140\n",
            "Epoch 14/30\n",
            "6839/6839 [==============================] - 25s 4ms/step - loss: 72684688.0000 - root_mean_squared_error: 8525.5312 - mean_absolute_percentage_error: 9.9031 - r2_score: 0.8133 - val_loss: 73290488.0000 - val_root_mean_squared_error: 8560.9863 - val_mean_absolute_percentage_error: 10.1587 - val_r2_score: 0.8130\n",
            "Epoch 15/30\n",
            "6839/6839 [==============================] - 25s 4ms/step - loss: 72385360.0000 - root_mean_squared_error: 8507.9580 - mean_absolute_percentage_error: 9.8763 - r2_score: 0.8141 - val_loss: 70770936.0000 - val_root_mean_squared_error: 8412.5459 - val_mean_absolute_percentage_error: 9.7942 - val_r2_score: 0.8195\n",
            "Epoch 16/30\n",
            "6839/6839 [==============================] - 25s 4ms/step - loss: 72398224.0000 - root_mean_squared_error: 8508.7148 - mean_absolute_percentage_error: 9.8700 - r2_score: 0.8141 - val_loss: 71401952.0000 - val_root_mean_squared_error: 8449.9678 - val_mean_absolute_percentage_error: 9.7354 - val_r2_score: 0.8178\n",
            "Epoch 17/30\n",
            "6839/6839 [==============================] - 25s 4ms/step - loss: 72176248.0000 - root_mean_squared_error: 8495.6602 - mean_absolute_percentage_error: 9.8430 - r2_score: 0.8147 - val_loss: 71092608.0000 - val_root_mean_squared_error: 8431.6436 - val_mean_absolute_percentage_error: 9.5673 - val_r2_score: 0.8186\n",
            "Epoch 18/30\n",
            "6839/6839 [==============================] - 25s 4ms/step - loss: 72293792.0000 - root_mean_squared_error: 8502.5762 - mean_absolute_percentage_error: 9.8511 - r2_score: 0.8143 - val_loss: 73316328.0000 - val_root_mean_squared_error: 8562.4951 - val_mean_absolute_percentage_error: 9.5031 - val_r2_score: 0.8130\n",
            "Epoch 19/30\n",
            "6839/6839 [==============================] - 25s 4ms/step - loss: 72029272.0000 - root_mean_squared_error: 8487.0059 - mean_absolute_percentage_error: 9.8279 - r2_score: 0.8150 - val_loss: 72321368.0000 - val_root_mean_squared_error: 8504.1973 - val_mean_absolute_percentage_error: 9.8149 - val_r2_score: 0.8155\n",
            "Epoch 20/30\n",
            "6839/6839 [==============================] - 25s 4ms/step - loss: 71987712.0000 - root_mean_squared_error: 8484.5576 - mean_absolute_percentage_error: 9.8163 - r2_score: 0.8151 - val_loss: 70989304.0000 - val_root_mean_squared_error: 8425.5146 - val_mean_absolute_percentage_error: 9.9819 - val_r2_score: 0.8189\n",
            "Epoch 21/30\n",
            "6839/6839 [==============================] - 25s 4ms/step - loss: 71763616.0000 - root_mean_squared_error: 8471.3408 - mean_absolute_percentage_error: 9.8052 - r2_score: 0.8157 - val_loss: 70952688.0000 - val_root_mean_squared_error: 8423.3418 - val_mean_absolute_percentage_error: 9.7988 - val_r2_score: 0.8190\n",
            "Epoch 22/30\n",
            "6839/6839 [==============================] - 25s 4ms/step - loss: 71711224.0000 - root_mean_squared_error: 8468.2480 - mean_absolute_percentage_error: 9.7951 - r2_score: 0.8158 - val_loss: 70968776.0000 - val_root_mean_squared_error: 8424.2969 - val_mean_absolute_percentage_error: 9.6097 - val_r2_score: 0.8190\n",
            "Epoch 23/30\n",
            "6839/6839 [==============================] - 25s 4ms/step - loss: 71666792.0000 - root_mean_squared_error: 8465.6240 - mean_absolute_percentage_error: 9.7862 - r2_score: 0.8159 - val_loss: 78553696.0000 - val_root_mean_squared_error: 8863.0527 - val_mean_absolute_percentage_error: 10.3322 - val_r2_score: 0.7996\n",
            "Epoch 24/30\n",
            "6839/6839 [==============================] - 25s 4ms/step - loss: 71568576.0000 - root_mean_squared_error: 8459.8213 - mean_absolute_percentage_error: 9.7714 - r2_score: 0.8162 - val_loss: 71700712.0000 - val_root_mean_squared_error: 8467.6270 - val_mean_absolute_percentage_error: 10.1270 - val_r2_score: 0.8171\n",
            "Epoch 25/30\n",
            "6839/6839 [==============================] - 25s 4ms/step - loss: 71454352.0000 - root_mean_squared_error: 8453.0674 - mean_absolute_percentage_error: 9.7661 - r2_score: 0.8165 - val_loss: 72608312.0000 - val_root_mean_squared_error: 8521.0508 - val_mean_absolute_percentage_error: 10.0905 - val_r2_score: 0.8148\n",
            "Epoch 26/30\n",
            "6839/6839 [==============================] - 25s 4ms/step - loss: 71393352.0000 - root_mean_squared_error: 8449.4580 - mean_absolute_percentage_error: 9.7546 - r2_score: 0.8167 - val_loss: 71396440.0000 - val_root_mean_squared_error: 8449.6416 - val_mean_absolute_percentage_error: 10.0096 - val_r2_score: 0.8179\n",
            "Epoch 27/30\n",
            "6839/6839 [==============================] - 25s 4ms/step - loss: 71322888.0000 - root_mean_squared_error: 8445.2881 - mean_absolute_percentage_error: 9.7493 - r2_score: 0.8168 - val_loss: 72446256.0000 - val_root_mean_squared_error: 8511.5361 - val_mean_absolute_percentage_error: 9.9385 - val_r2_score: 0.8152\n",
            "Epoch 28/30\n",
            "6839/6839 [==============================] - 25s 4ms/step - loss: 71272240.0000 - root_mean_squared_error: 8442.2891 - mean_absolute_percentage_error: 9.7435 - r2_score: 0.8170 - val_loss: 71767160.0000 - val_root_mean_squared_error: 8471.5498 - val_mean_absolute_percentage_error: 9.6593 - val_r2_score: 0.8169\n",
            "Epoch 29/30\n",
            "6839/6839 [==============================] - 25s 4ms/step - loss: 71222568.0000 - root_mean_squared_error: 8439.3467 - mean_absolute_percentage_error: 9.7425 - r2_score: 0.8171 - val_loss: 72893504.0000 - val_root_mean_squared_error: 8537.7695 - val_mean_absolute_percentage_error: 9.6986 - val_r2_score: 0.8140\n",
            "Epoch 30/30\n",
            "6839/6839 [==============================] - 25s 4ms/step - loss: 71223960.0000 - root_mean_squared_error: 8439.4287 - mean_absolute_percentage_error: 9.7363 - r2_score: 0.8171 - val_loss: 71558136.0000 - val_root_mean_squared_error: 8459.2041 - val_mean_absolute_percentage_error: 9.7676 - val_r2_score: 0.8175\n"
          ]
        }
      ]
    },
    {
      "cell_type": "code",
      "source": [
        "%pip install -q -U keras-tuner"
      ],
      "metadata": {
        "colab": {
          "base_uri": "https://localhost:8080/"
        },
        "id": "FPrc2khPwdNM",
        "outputId": "7a6cceca-f1f0-453d-a659-2fe979cdba0a"
      },
      "id": "FPrc2khPwdNM",
      "execution_count": 23,
      "outputs": [
        {
          "output_type": "stream",
          "name": "stdout",
          "text": [
            "\u001b[?25l     \u001b[90m━━━━━━━━━━━━━━━━━━━━━━━━━━━━━━━━━━━━━━━━\u001b[0m \u001b[32m0.0/129.5 kB\u001b[0m \u001b[31m?\u001b[0m eta \u001b[36m-:--:--\u001b[0m\r\u001b[2K     \u001b[91m━━━━━━━━━━━━━━━━━━━━━━━━━━━━\u001b[0m\u001b[90m╺\u001b[0m\u001b[90m━━━━━━━━━━━\u001b[0m \u001b[32m92.2/129.5 kB\u001b[0m \u001b[31m2.6 MB/s\u001b[0m eta \u001b[36m0:00:01\u001b[0m\r\u001b[2K     \u001b[90m━━━━━━━━━━━━━━━━━━━━━━━━━━━━━━━━━━━━━━━━\u001b[0m \u001b[32m129.5/129.5 kB\u001b[0m \u001b[31m2.8 MB/s\u001b[0m eta \u001b[36m0:00:00\u001b[0m\n",
            "\u001b[?25h\u001b[?25l     \u001b[90m━━━━━━━━━━━━━━━━━━━━━━━━━━━━━━━━━━━━━━━━\u001b[0m \u001b[32m0.0/950.8 kB\u001b[0m \u001b[31m?\u001b[0m eta \u001b[36m-:--:--\u001b[0m\r\u001b[2K     \u001b[90m━━━━━━━━━━━━━━━━━━━━━━━━━━━━━━━━━━━━━━━━\u001b[0m \u001b[32m950.8/950.8 kB\u001b[0m \u001b[31m39.9 MB/s\u001b[0m eta \u001b[36m0:00:00\u001b[0m\n",
            "\u001b[?25h"
          ]
        }
      ]
    },
    {
      "cell_type": "code",
      "source": [
        "import keras_tuner as kt"
      ],
      "metadata": {
        "colab": {
          "base_uri": "https://localhost:8080/"
        },
        "id": "gOAjFKBx94hb",
        "outputId": "83d6f489-2371-4c8e-d9c7-0ca7c3245216"
      },
      "id": "gOAjFKBx94hb",
      "execution_count": 24,
      "outputs": [
        {
          "output_type": "stream",
          "name": "stdout",
          "text": [
            "Using TensorFlow backend\n"
          ]
        }
      ]
    },
    {
      "cell_type": "code",
      "source": [
        "def model_builder(hp):\n",
        "\n",
        "  model = tf.keras.Sequential()\n",
        "\n",
        "  # Tune the number of units in the first Dense layer\n",
        "  # Choose an optimal value between 32-512\n",
        "  hp_units = hp.Int('units', min_value=32, max_value=512, step=32)\n",
        "  model.add(tf.keras.layers.Dense(units=hp_units, activation='relu'))\n",
        "  model.add(tf.keras.layers.Dense(units=hp_units, activation='relu'))\n",
        "  model.add(tf.keras.layers.Dense(1))\n",
        "\n",
        "  # Tune the learning rate for the optimizer\n",
        "  # Choose an optimal value from 0.01, 0.001, or 0.0001\n",
        "  hp_learning_rate = hp.Choice('learning_rate', values=[1e-2, 1e-3])\n",
        "\n",
        "  model.compile(optimizer=tf.keras.optimizers.Adam(learning_rate=hp_learning_rate),\n",
        "                loss=\"mean_absolute_error\",\n",
        "                metrics=['RootMeanSquaredError',tf.keras.metrics.R2Score(),\"mean_absolute_error\"])\n",
        "  return model"
      ],
      "metadata": {
        "id": "6h8G7svxVLv3"
      },
      "id": "6h8G7svxVLv3",
      "execution_count": 36,
      "outputs": []
    },
    {
      "cell_type": "code",
      "source": [
        "tuner = kt.Hyperband(model_builder,\n",
        "                     objective=kt.Objective(\"val_r2_score\", direction=\"max\"),\n",
        "                     max_epochs=20,\n",
        "                     factor=3,\n",
        "                    overwrite=True,\n",
        "                     directory='./tuner',\n",
        "                     project_name='intro_to_kt')"
      ],
      "metadata": {
        "id": "G79ItXyC_EaR"
      },
      "id": "G79ItXyC_EaR",
      "execution_count": 37,
      "outputs": []
    },
    {
      "cell_type": "code",
      "source": [
        "tuner.search(X_train_tensor, y_train_tensor, epochs=20, validation_data=(X_test_tensor, y_test_tensor))\n"
      ],
      "metadata": {
        "colab": {
          "base_uri": "https://localhost:8080/"
        },
        "id": "BN-neITkXks6",
        "outputId": "1b4b0027-19a8-4f79-fb54-5e8773845afa"
      },
      "id": "BN-neITkXks6",
      "execution_count": 38,
      "outputs": [
        {
          "output_type": "stream",
          "name": "stdout",
          "text": [
            "Trial 30 Complete [00h 08m 04s]\n",
            "val_r2_score: 0.8178933262825012\n",
            "\n",
            "Best val_r2_score So Far: 0.8190782070159912\n",
            "Total elapsed time: 01h 30m 57s\n"
          ]
        }
      ]
    },
    {
      "cell_type": "code",
      "source": [
        "best_models = tuner.get_best_models(num_models=2)"
      ],
      "metadata": {
        "colab": {
          "base_uri": "https://localhost:8080/"
        },
        "id": "c27JXI40haBG",
        "outputId": "18e93060-f214-4ef0-939d-a2c48b8465a6"
      },
      "id": "c27JXI40haBG",
      "execution_count": 46,
      "outputs": [
        {
          "output_type": "stream",
          "name": "stderr",
          "text": [
            "WARNING:tensorflow:Detecting that an object or model or tf.train.Checkpoint is being deleted with unrestored values. See the following logs for the specific values in question. To silence these warnings, use `status.expect_partial()`. See https://www.tensorflow.org/api_docs/python/tf/train/Checkpoint#restorefor details about the status object returned by the restore function.\n",
            "WARNING:tensorflow:Value in checkpoint could not be found in the restored object: (root).layer_with_weights-0.kernel\n",
            "WARNING:tensorflow:Value in checkpoint could not be found in the restored object: (root).layer_with_weights-0.bias\n",
            "WARNING:tensorflow:Value in checkpoint could not be found in the restored object: (root).layer_with_weights-1.kernel\n",
            "WARNING:tensorflow:Value in checkpoint could not be found in the restored object: (root).layer_with_weights-1.bias\n",
            "WARNING:tensorflow:Value in checkpoint could not be found in the restored object: (root).layer_with_weights-2.kernel\n",
            "WARNING:tensorflow:Value in checkpoint could not be found in the restored object: (root).layer_with_weights-2.bias\n",
            "WARNING:tensorflow:Value in checkpoint could not be found in the restored object: (root).optimizer._variables.1\n",
            "WARNING:tensorflow:Value in checkpoint could not be found in the restored object: (root).optimizer._variables.2\n",
            "WARNING:tensorflow:Value in checkpoint could not be found in the restored object: (root).optimizer._variables.3\n",
            "WARNING:tensorflow:Value in checkpoint could not be found in the restored object: (root).optimizer._variables.4\n",
            "WARNING:tensorflow:Value in checkpoint could not be found in the restored object: (root).optimizer._variables.5\n",
            "WARNING:tensorflow:Value in checkpoint could not be found in the restored object: (root).optimizer._variables.6\n",
            "WARNING:tensorflow:Value in checkpoint could not be found in the restored object: (root).optimizer._variables.7\n",
            "WARNING:tensorflow:Value in checkpoint could not be found in the restored object: (root).optimizer._variables.8\n",
            "WARNING:tensorflow:Value in checkpoint could not be found in the restored object: (root).optimizer._variables.9\n",
            "WARNING:tensorflow:Value in checkpoint could not be found in the restored object: (root).optimizer._variables.10\n",
            "WARNING:tensorflow:Value in checkpoint could not be found in the restored object: (root).optimizer._variables.11\n",
            "WARNING:tensorflow:Value in checkpoint could not be found in the restored object: (root).optimizer._variables.12\n",
            "WARNING:tensorflow:Detecting that an object or model or tf.train.Checkpoint is being deleted with unrestored values. See the following logs for the specific values in question. To silence these warnings, use `status.expect_partial()`. See https://www.tensorflow.org/api_docs/python/tf/train/Checkpoint#restorefor details about the status object returned by the restore function.\n",
            "WARNING:tensorflow:Value in checkpoint could not be found in the restored object: (root).layer_with_weights-0.kernel\n",
            "WARNING:tensorflow:Value in checkpoint could not be found in the restored object: (root).layer_with_weights-0.bias\n",
            "WARNING:tensorflow:Value in checkpoint could not be found in the restored object: (root).layer_with_weights-1.kernel\n",
            "WARNING:tensorflow:Value in checkpoint could not be found in the restored object: (root).layer_with_weights-1.bias\n",
            "WARNING:tensorflow:Value in checkpoint could not be found in the restored object: (root).layer_with_weights-2.kernel\n",
            "WARNING:tensorflow:Value in checkpoint could not be found in the restored object: (root).layer_with_weights-2.bias\n",
            "WARNING:tensorflow:Value in checkpoint could not be found in the restored object: (root).optimizer._variables.1\n",
            "WARNING:tensorflow:Value in checkpoint could not be found in the restored object: (root).optimizer._variables.2\n",
            "WARNING:tensorflow:Value in checkpoint could not be found in the restored object: (root).optimizer._variables.3\n",
            "WARNING:tensorflow:Value in checkpoint could not be found in the restored object: (root).optimizer._variables.4\n",
            "WARNING:tensorflow:Value in checkpoint could not be found in the restored object: (root).optimizer._variables.5\n",
            "WARNING:tensorflow:Value in checkpoint could not be found in the restored object: (root).optimizer._variables.6\n",
            "WARNING:tensorflow:Value in checkpoint could not be found in the restored object: (root).optimizer._variables.7\n",
            "WARNING:tensorflow:Value in checkpoint could not be found in the restored object: (root).optimizer._variables.8\n",
            "WARNING:tensorflow:Value in checkpoint could not be found in the restored object: (root).optimizer._variables.9\n",
            "WARNING:tensorflow:Value in checkpoint could not be found in the restored object: (root).optimizer._variables.10\n",
            "WARNING:tensorflow:Value in checkpoint could not be found in the restored object: (root).optimizer._variables.11\n",
            "WARNING:tensorflow:Value in checkpoint could not be found in the restored object: (root).optimizer._variables.12\n"
          ]
        }
      ]
    },
    {
      "cell_type": "code",
      "source": [
        "best_model1 = best_models[0]\n",
        "best_model2 = best_models[1]"
      ],
      "metadata": {
        "id": "T2ZwZKzv7STY"
      },
      "id": "T2ZwZKzv7STY",
      "execution_count": 51,
      "outputs": []
    },
    {
      "cell_type": "code",
      "source": [
        "best_model2.evaluate(X_test_tensor, y_test_tensor)"
      ],
      "metadata": {
        "colab": {
          "base_uri": "https://localhost:8080/"
        },
        "id": "DKqKWNPC7c3c",
        "outputId": "65ef7a78-a934-4f00-cdb6-ced68b056c6c"
      },
      "id": "DKqKWNPC7c3c",
      "execution_count": 52,
      "outputs": [
        {
          "output_type": "stream",
          "name": "stdout",
          "text": [
            "1710/1710 [==============================] - 4s 2ms/step - loss: 6385.4541 - root_mean_squared_error: 8412.0078 - r2_score: 0.8183 - mean_absolute_error: 6385.4541\n"
          ]
        },
        {
          "output_type": "execute_result",
          "data": {
            "text/plain": [
              "[6385.4541015625, 8412.0078125, 0.818329930305481, 6385.4541015625]"
            ]
          },
          "metadata": {},
          "execution_count": 52
        }
      ]
    },
    {
      "cell_type": "code",
      "source": [
        "best_model1.evaluate(X_test_tensor, y_test_tensor)"
      ],
      "metadata": {
        "colab": {
          "base_uri": "https://localhost:8080/"
        },
        "id": "u4xIzEbB71GP",
        "outputId": "5d685e02-8a58-410c-dd26-af8bb9a684a9"
      },
      "id": "u4xIzEbB71GP",
      "execution_count": 53,
      "outputs": [
        {
          "output_type": "stream",
          "name": "stdout",
          "text": [
            "1710/1710 [==============================] - 4s 2ms/step - loss: 6376.5039 - root_mean_squared_error: 8394.6660 - r2_score: 0.8191 - mean_absolute_error: 6376.5039\n"
          ]
        },
        {
          "output_type": "execute_result",
          "data": {
            "text/plain": [
              "[6376.50390625, 8394.666015625, 0.8190782070159912, 6376.50390625]"
            ]
          },
          "metadata": {},
          "execution_count": 53
        }
      ]
    },
    {
      "cell_type": "code",
      "source": [],
      "metadata": {
        "id": "vCtChQA975S2"
      },
      "id": "vCtChQA975S2",
      "execution_count": null,
      "outputs": []
    },
    {
      "cell_type": "markdown",
      "source": [
        "# Summary\n",
        "The Random Forest Regressor had the highest r2_score with 0.85. Even the neural net with hypertuning couldn't beat."
      ],
      "metadata": {
        "id": "IJJTdS7i9fqF"
      },
      "id": "IJJTdS7i9fqF"
    }
  ],
  "metadata": {
    "kernelspec": {
      "display_name": "Python 3",
      "name": "python3"
    },
    "language_info": {
      "codemirror_mode": {
        "name": "ipython",
        "version": 3
      },
      "file_extension": ".py",
      "mimetype": "text/x-python",
      "name": "python",
      "nbconvert_exporter": "python",
      "pygments_lexer": "ipython3",
      "version": "3.10.9"
    },
    "colab": {
      "provenance": [],
      "machine_shape": "hm",
      "gpuType": "T4",
      "include_colab_link": true
    },
    "accelerator": "GPU"
  },
  "nbformat": 4,
  "nbformat_minor": 5
}